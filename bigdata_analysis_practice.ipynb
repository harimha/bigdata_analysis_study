{
  "nbformat": 4,
  "nbformat_minor": 0,
  "metadata": {
    "colab": {
      "provenance": [],
      "collapsed_sections": [
        "H1_hWsKoBlLn",
        "TiKqoHbFuRR8",
        "_g4btzlus-Co",
        "5wYIrre7OKjJ",
        "y64PxN3AOkm1",
        "KOgr-pGTOz7q",
        "wz4t4ZVxOz-X",
        "qfR2Tu7rO0BD",
        "8LTuUzMAPDc4",
        "eLhsjrdrRF4m",
        "wZf-VcKvdgMy",
        "pb7DsJaxdnKy",
        "YoBIrogudpGf",
        "FYzO_TpDZEex",
        "VJRCgLRhhZIu",
        "3AMh6X7YdrpZ",
        "Pq5BRyDhduMr",
        "iiI-vN-nd0E3"
      ],
      "toc_visible": true,
      "mount_file_id": "1eMGmBxvA56KLdCHOyaWsCV9piz9ovV0a",
      "authorship_tag": "ABX9TyNvLkkB0ZydaDNZfxw88XOg"
    },
    "kernelspec": {
      "name": "python3",
      "display_name": "Python 3"
    },
    "language_info": {
      "name": "python"
    }
  },
  "cells": [
    {
      "cell_type": "markdown",
      "source": [
        "# 기타"
      ],
      "metadata": {
        "id": "H1_hWsKoBlLn"
      }
    },
    {
      "cell_type": "markdown",
      "source": [
        "## 자주 사용하는 단축키\n",
        "\n",
        "* ctrl + m h : 단축키 표시\n",
        "* ctrl + shift + enter : 섹션 셀 삽입\n",
        "* ctrl + m d : 선택 셀 삭제\n",
        "* ctrl + enter : 코드셀 실행\n",
        "* shift + enter : 셀을 실행하고 다음 셀 선택\n",
        "* ctrl + m b : 아래에 코드 셀 삽입\n",
        "* ctrl + m v : 아래에 텍스트 셀 삽입\n",
        "* ctrl + . : 모든출력 지우기\n",
        "* ctrl + shift + a : 모든 셀 선택\n",
        "\n",
        "\n"
      ],
      "metadata": {
        "id": "TiKqoHbFuRR8"
      }
    },
    {
      "cell_type": "markdown",
      "source": [
        "## 학습 라이브러리\n",
        "\n",
        "- numpy\n",
        "- scipy\n",
        "- pandas\n",
        "- scikit-learn\n",
        "\n"
      ],
      "metadata": {
        "id": "_g4btzlus-Co"
      }
    },
    {
      "cell_type": "markdown",
      "source": [
        "# Chapter2 데이터 전처리"
      ],
      "metadata": {
        "id": "sIftu-ACOGyh"
      }
    },
    {
      "cell_type": "markdown",
      "source": [
        "## 2.1 데이터 탐색"
      ],
      "metadata": {
        "id": "5wYIrre7OKjJ"
      }
    },
    {
      "cell_type": "markdown",
      "source": [
        "### 2.1.3 파이썬 데이터 탐색"
      ],
      "metadata": {
        "id": "y64PxN3AOkm1"
      }
    },
    {
      "cell_type": "markdown",
      "source": [
        "타이타닉 데이터"
      ],
      "metadata": {
        "id": "DWjtUjBHS0eS"
      }
    },
    {
      "cell_type": "code",
      "source": [
        "import numpy as np\n",
        "import pandas as pd\n",
        "import matplotlib.pyplot as plt\n",
        "\n",
        "# 타이타닉 데이터\n",
        "df_raw = pd.read_csv(\"https://raw.githubusercontent.com/datasciencedojo/datasets/master/titanic.csv\")\n",
        "print(df_raw)"
      ],
      "metadata": {
        "id": "N_IZuNsmRUbM",
        "colab": {
          "base_uri": "https://localhost:8080/"
        },
        "outputId": "208c7aa3-061e-4cfe-b203-6d74499d6765"
      },
      "execution_count": 16,
      "outputs": [
        {
          "output_type": "stream",
          "name": "stdout",
          "text": [
            "     PassengerId  Survived  Pclass  \\\n",
            "0              1         0       3   \n",
            "1              2         1       1   \n",
            "2              3         1       3   \n",
            "3              4         1       1   \n",
            "4              5         0       3   \n",
            "..           ...       ...     ...   \n",
            "886          887         0       2   \n",
            "887          888         1       1   \n",
            "888          889         0       3   \n",
            "889          890         1       1   \n",
            "890          891         0       3   \n",
            "\n",
            "                                                  Name     Sex   Age  SibSp  \\\n",
            "0                              Braund, Mr. Owen Harris    male  22.0      1   \n",
            "1    Cumings, Mrs. John Bradley (Florence Briggs Th...  female  38.0      1   \n",
            "2                               Heikkinen, Miss. Laina  female  26.0      0   \n",
            "3         Futrelle, Mrs. Jacques Heath (Lily May Peel)  female  35.0      1   \n",
            "4                             Allen, Mr. William Henry    male  35.0      0   \n",
            "..                                                 ...     ...   ...    ...   \n",
            "886                              Montvila, Rev. Juozas    male  27.0      0   \n",
            "887                       Graham, Miss. Margaret Edith  female  19.0      0   \n",
            "888           Johnston, Miss. Catherine Helen \"Carrie\"  female   NaN      1   \n",
            "889                              Behr, Mr. Karl Howell    male  26.0      0   \n",
            "890                                Dooley, Mr. Patrick    male  32.0      0   \n",
            "\n",
            "     Parch            Ticket     Fare Cabin Embarked  \n",
            "0        0         A/5 21171   7.2500   NaN        S  \n",
            "1        0          PC 17599  71.2833   C85        C  \n",
            "2        0  STON/O2. 3101282   7.9250   NaN        S  \n",
            "3        0            113803  53.1000  C123        S  \n",
            "4        0            373450   8.0500   NaN        S  \n",
            "..     ...               ...      ...   ...      ...  \n",
            "886      0            211536  13.0000   NaN        S  \n",
            "887      0            112053  30.0000   B42        S  \n",
            "888      2        W./C. 6607  23.4500   NaN        S  \n",
            "889      0            111369  30.0000  C148        C  \n",
            "890      0            370376   7.7500   NaN        Q  \n",
            "\n",
            "[891 rows x 12 columns]\n"
          ]
        }
      ]
    },
    {
      "cell_type": "code",
      "source": [
        "# 변수 타입 변환\n",
        "df_type = df_raw.copy()\n",
        "df_type[\"Survived\"]=df_type[\"Survived\"].astype(str) # 범주형 변수\n",
        "df_type[\"Pclass\"]=df_type[\"Pclass\"].astype(str)\n",
        "\n",
        "print(df_type.info())"
      ],
      "metadata": {
        "id": "JzHmCjhbSz85",
        "colab": {
          "base_uri": "https://localhost:8080/"
        },
        "outputId": "0851c4d6-c2e9-49b9-de64-6eb247a1b641"
      },
      "execution_count": 17,
      "outputs": [
        {
          "output_type": "stream",
          "name": "stdout",
          "text": [
            "<class 'pandas.core.frame.DataFrame'>\n",
            "RangeIndex: 891 entries, 0 to 890\n",
            "Data columns (total 12 columns):\n",
            " #   Column       Non-Null Count  Dtype  \n",
            "---  ------       --------------  -----  \n",
            " 0   PassengerId  891 non-null    int64  \n",
            " 1   Survived     891 non-null    object \n",
            " 2   Pclass       891 non-null    object \n",
            " 3   Name         891 non-null    object \n",
            " 4   Sex          891 non-null    object \n",
            " 5   Age          714 non-null    float64\n",
            " 6   SibSp        891 non-null    int64  \n",
            " 7   Parch        891 non-null    int64  \n",
            " 8   Ticket       891 non-null    object \n",
            " 9   Fare         891 non-null    float64\n",
            " 10  Cabin        204 non-null    object \n",
            " 11  Embarked     889 non-null    object \n",
            "dtypes: float64(2), int64(3), object(7)\n",
            "memory usage: 83.7+ KB\n",
            "None\n"
          ]
        }
      ]
    },
    {
      "cell_type": "code",
      "source": [
        "# 데이터 기술 통계 확인\n",
        "df1 = df_type.copy()\n",
        "\n",
        "print(df1.describe(include='all'))"
      ],
      "metadata": {
        "id": "S2bEP7JxT0DN",
        "colab": {
          "base_uri": "https://localhost:8080/"
        },
        "outputId": "30263e34-0bca-41ba-cb80-063a1dbcdd1b"
      },
      "execution_count": 18,
      "outputs": [
        {
          "output_type": "stream",
          "name": "stdout",
          "text": [
            "        PassengerId Survived Pclass                     Name   Sex  \\\n",
            "count    891.000000      891    891                      891   891   \n",
            "unique          NaN        2      3                      891     2   \n",
            "top             NaN        0      3  Braund, Mr. Owen Harris  male   \n",
            "freq            NaN      549    491                        1   577   \n",
            "mean     446.000000      NaN    NaN                      NaN   NaN   \n",
            "std      257.353842      NaN    NaN                      NaN   NaN   \n",
            "min        1.000000      NaN    NaN                      NaN   NaN   \n",
            "25%      223.500000      NaN    NaN                      NaN   NaN   \n",
            "50%      446.000000      NaN    NaN                      NaN   NaN   \n",
            "75%      668.500000      NaN    NaN                      NaN   NaN   \n",
            "max      891.000000      NaN    NaN                      NaN   NaN   \n",
            "\n",
            "               Age       SibSp       Parch  Ticket        Fare    Cabin  \\\n",
            "count   714.000000  891.000000  891.000000     891  891.000000      204   \n",
            "unique         NaN         NaN         NaN     681         NaN      147   \n",
            "top            NaN         NaN         NaN  347082         NaN  B96 B98   \n",
            "freq           NaN         NaN         NaN       7         NaN        4   \n",
            "mean     29.699118    0.523008    0.381594     NaN   32.204208      NaN   \n",
            "std      14.526497    1.102743    0.806057     NaN   49.693429      NaN   \n",
            "min       0.420000    0.000000    0.000000     NaN    0.000000      NaN   \n",
            "25%      20.125000    0.000000    0.000000     NaN    7.910400      NaN   \n",
            "50%      28.000000    0.000000    0.000000     NaN   14.454200      NaN   \n",
            "75%      38.000000    1.000000    0.000000     NaN   31.000000      NaN   \n",
            "max      80.000000    8.000000    6.000000     NaN  512.329200      NaN   \n",
            "\n",
            "       Embarked  \n",
            "count       889  \n",
            "unique        3  \n",
            "top           S  \n",
            "freq        644  \n",
            "mean        NaN  \n",
            "std         NaN  \n",
            "min         NaN  \n",
            "25%         NaN  \n",
            "50%         NaN  \n",
            "75%         NaN  \n",
            "max         NaN  \n"
          ]
        }
      ]
    },
    {
      "cell_type": "code",
      "source": [
        "# pclass 탑승객의 빈도수\n",
        "df1 = df_type.copy()\n",
        "print(df1.groupby(\"Pclass\").size())\n",
        "print(df1.groupby(\"Pclass\").count()[\"PassengerId\"])"
      ],
      "metadata": {
        "id": "D0MTJaLtUTwC",
        "colab": {
          "base_uri": "https://localhost:8080/"
        },
        "outputId": "59c702ef-fcae-4e88-a9fb-5f7ee49393f3"
      },
      "execution_count": 19,
      "outputs": [
        {
          "output_type": "stream",
          "name": "stdout",
          "text": [
            "Pclass\n",
            "1    216\n",
            "2    184\n",
            "3    491\n",
            "dtype: int64\n",
            "Pclass\n",
            "1    216\n",
            "2    184\n",
            "3    491\n",
            "Name: PassengerId, dtype: int64\n"
          ]
        }
      ]
    },
    {
      "cell_type": "code",
      "source": [
        "# Histogram\n",
        "df1 = df_type.copy()\n",
        "plt.hist(df1[\"Fare\"])\n",
        "plt.show()\n",
        "\n",
        "# 데이터 분리\n",
        "data_0 = df1[df1[\"Survived\"]=='0'][\"Fare\"]\n",
        "data_1 = df1[df1[\"Survived\"]=='1'][\"Fare\"]\n",
        "\n",
        "# boxplot\n",
        "fig, ax = plt.subplots()\n",
        "ax.boxplot([data_0, data_1])\n",
        "plt.show()\n"
      ],
      "metadata": {
        "id": "JACDBRaEVuiP",
        "colab": {
          "base_uri": "https://localhost:8080/",
          "height": 0
        },
        "outputId": "f9d87aaf-d251-4ad9-af1b-25c2fc2d06a7"
      },
      "execution_count": 20,
      "outputs": [
        {
          "output_type": "display_data",
          "data": {
            "text/plain": [
              "<Figure size 640x480 with 1 Axes>"
            ],
            "image/png": "[encoded data removed]"
          },
          "metadata": {}
        },
        {
          "output_type": "display_data",
          "data": {
            "text/plain": [
              "<Figure size 640x480 with 1 Axes>"
            ],
            "image/png": "[encoded data removed]"
          },
          "metadata": {}
        }
      ]
    },
    {
      "cell_type": "code",
      "source": [
        "# 성별 간에 생존자 수 차이\n",
        "df_a = df_type.copy()\n",
        "\n",
        "\n",
        "df_male = df_a[df_a[\"Sex\"]==\"male\"]\n",
        "df_female = df_a[df_a[\"Sex\"]==\"female\"]\n",
        "male_dead = df_male.groupby(\"Survived\").size()[0]\n",
        "male_survive = df_male.groupby(\"Survived\").size()[1]\n",
        "male_survive_rate = male_survive / (male_survive + male_dead)\n",
        "\n",
        "female_dead = df_female.groupby(\"Survived\").size()[0]\n",
        "female_survive = df_female.groupby(\"Survived\").size()[1]\n",
        "female_survive_rate = female_survive / (female_survive + female_dead)\n",
        "\n",
        "print(\"male survive rate : %0.3f \\nfemale survive rate : %0.3f\" %(male_survive_rate, female_survive_rate))\n",
        "\n"
      ],
      "metadata": {
        "id": "YQuJBFXnWTIM",
        "colab": {
          "base_uri": "https://localhost:8080/"
        },
        "outputId": "aa7c2f25-9a7a-430f-982e-e75b168762c8"
      },
      "execution_count": 21,
      "outputs": [
        {
          "output_type": "stream",
          "name": "stdout",
          "text": [
            "male survive rate : 0.189 \n",
            "female survive rate : 0.742\n"
          ]
        }
      ]
    },
    {
      "cell_type": "markdown",
      "source": [
        "## 2.2 데이터 전처리 개요"
      ],
      "metadata": {
        "id": "85i1-VDeOOtH"
      }
    },
    {
      "cell_type": "markdown",
      "source": [
        "### 2.2.1 데이터 전처리 유형"
      ],
      "metadata": {
        "id": "LdxGSOSnOz1r"
      }
    },
    {
      "cell_type": "markdown",
      "source": [
        "데이터 전처리는 데이터 가공(data manipulation), 데이터 핸들링(data handling) 등 으로 불린다"
      ],
      "metadata": {
        "id": "rMZPh-0LZibu"
      }
    },
    {
      "cell_type": "markdown",
      "source": [
        "### 2.2.2 데이터 변환"
      ],
      "metadata": {
        "id": "qEsZPyvAOz42"
      }
    },
    {
      "cell_type": "code",
      "source": [
        "import numpy as np\n",
        "import pandas as pd\n",
        "\n",
        "\n",
        "#data 생성\n",
        "meat_consumption_korean = 5*np.random.randn(1000)+53.9\n",
        "meat_consumption_japan = 4*np.random.randn(1000)+32.7\n",
        "\n",
        "meat_consumption_df = pd.DataFrame({\"korean\":meat_consumption_korean,\n",
        "                                    \"japanese\":meat_consumption_japan})\n",
        "print(meat_consumption_df)"
      ],
      "metadata": {
        "id": "tDsx8Yp-auGu",
        "colab": {
          "base_uri": "https://localhost:8080/"
        },
        "outputId": "a3265f91-88ec-4227-cb76-f6c9d456c146"
      },
      "execution_count": 22,
      "outputs": [
        {
          "output_type": "stream",
          "name": "stdout",
          "text": [
            "        korean   japanese\n",
            "0    51.100333  33.663855\n",
            "1    57.844923  30.088554\n",
            "2    55.312428  26.592090\n",
            "3    48.913556  30.891451\n",
            "4    53.354313  33.899345\n",
            "..         ...        ...\n",
            "995  50.690602  31.391777\n",
            "996  55.308534  33.298867\n",
            "997  50.743504  24.270432\n",
            "998  54.114507  36.024837\n",
            "999  53.811872  29.431516\n",
            "\n",
            "[1000 rows x 2 columns]\n"
          ]
        }
      ]
    },
    {
      "cell_type": "code",
      "source": [
        "# z 표준화 3가지\n",
        "import scipy.stats as ss\n",
        "df = meat_consumption_df.copy()\n",
        "df[\"korean_zscore\"] = ss.zscore(df[\"korean\"])\n",
        "df[\"japanese_zscore\"] = ss.zscore(df[\"japanese\"])\n",
        "\n",
        "df[\"korean_zscore_np\"] = (df[\"korean\"]-np.mean(df[\"korean\"]))/np.std(df[\"korean\"])\n",
        "df[\"japanese_zscore_np\"] = (df[\"japanese\"]-np.mean(df[\"japanese\"]))/np.std(df[\"japanese\"])\n",
        "\n",
        "from sklearn.preprocessing import StandardScaler\n",
        "scaler = StandardScaler()\n",
        "df[\"korean_zscore_skl\"] = scaler.fit_transform(df[[\"korean\"]]) # series객체 넣어야함\n",
        "df[\"japanese_zscore_skl\"] = scaler.fit_transform(df[[\"japanese\"]])\n",
        "print(type(df[\"korean\"]))\n",
        "print(type(df[[\"korean\"]]))\n",
        "\n",
        "print(df)\n"
      ],
      "metadata": {
        "id": "zqI4cPKwbpL9",
        "colab": {
          "base_uri": "https://localhost:8080/"
        },
        "outputId": "29c573ab-a866-4ca7-bfb6-5e07e1879ee2"
      },
      "execution_count": 23,
      "outputs": [
        {
          "output_type": "stream",
          "name": "stdout",
          "text": [
            "<class 'pandas.core.series.Series'>\n",
            "<class 'pandas.core.frame.DataFrame'>\n",
            "        korean   japanese  korean_zscore  japanese_zscore  korean_zscore_np  \\\n",
            "0    51.100333  33.663855      -0.570515         0.261160         -0.570515   \n",
            "1    57.844923  30.088554       0.806115        -0.619188          0.806115   \n",
            "2    55.312428  26.592090       0.289211        -1.480124          0.289211   \n",
            "3    48.913556  30.891451      -1.016855        -0.421490         -1.016855   \n",
            "4    53.354313  33.899345      -0.110458         0.319145         -0.110458   \n",
            "..         ...        ...            ...              ...               ...   \n",
            "995  50.690602  31.391777      -0.654145        -0.298295         -0.654145   \n",
            "996  55.308534  33.298867       0.288416         0.171289          0.288416   \n",
            "997  50.743504  24.270432      -0.643347        -2.051788         -0.643347   \n",
            "998  54.114507  36.024837       0.044705         0.842506          0.044705   \n",
            "999  53.811872  29.431516      -0.017066        -0.780971         -0.017066   \n",
            "\n",
            "     japanese_zscore_np  korean_zscore_skl  japanese_zscore_skl  \n",
            "0              0.261160          -0.570515             0.261160  \n",
            "1             -0.619188           0.806115            -0.619188  \n",
            "2             -1.480124           0.289211            -1.480124  \n",
            "3             -0.421490          -1.016855            -0.421490  \n",
            "4              0.319145          -0.110458             0.319145  \n",
            "..                  ...                ...                  ...  \n",
            "995           -0.298295          -0.654145            -0.298295  \n",
            "996            0.171289           0.288416             0.171289  \n",
            "997           -2.051788          -0.643347            -2.051788  \n",
            "998            0.842506           0.044705             0.842506  \n",
            "999           -0.780971          -0.017066            -0.780971  \n",
            "\n",
            "[1000 rows x 8 columns]\n"
          ]
        }
      ]
    },
    {
      "cell_type": "code",
      "source": [
        "# minmax 표준화\n",
        "from sklearn.preprocessing import MinMaxScaler\n",
        "\n",
        "df = meat_consumption_df.copy()\n",
        "scaler = MinMaxScaler()\n",
        "\n",
        "df[\"korean_mm\"] = scaler.fit_transform(df[[\"korean\"]])\n",
        "df[\"japanese_mm\"] = scaler.fit_transform(df[[\"japanese\"]])\n",
        "\n",
        "\n",
        "df[\"korean_mm_np\"]=(df[\"korean\"]-df[\"korean\"].min()) / (df[\"korean\"].max()-df[\"korean\"].min())\n",
        "df[\"japanese_mm_np\"]=(df[\"japanese\"]-df[\"japanese\"].min()) / (df[\"japanese\"].max()-df[\"japanese\"].min())\n",
        "print(df)\n",
        "\n"
      ],
      "metadata": {
        "id": "Ekv61IOCkw_6",
        "colab": {
          "base_uri": "https://localhost:8080/"
        },
        "outputId": "c0e18741-4914-42d9-ed88-4176d77896e7"
      },
      "execution_count": 24,
      "outputs": [
        {
          "output_type": "stream",
          "name": "stdout",
          "text": [
            "        korean   japanese  korean_mm  japanese_mm  korean_mm_np  \\\n",
            "0    51.100333  33.663855   0.404227     0.479980      0.404227   \n",
            "1    57.844923  30.088554   0.621821     0.349679      0.621821   \n",
            "2    55.312428  26.592090   0.540118     0.222251      0.540118   \n",
            "3    48.913556  30.891451   0.333677     0.378940      0.333677   \n",
            "4    53.354313  33.899345   0.476945     0.488562      0.476945   \n",
            "..         ...        ...        ...          ...           ...   \n",
            "995  50.690602  31.391777   0.391008     0.397175      0.391008   \n",
            "996  55.308534  33.298867   0.539992     0.466678      0.539992   \n",
            "997  50.743504  24.270432   0.392715     0.137639      0.392715   \n",
            "998  54.114507  36.024837   0.501470     0.566025      0.501470   \n",
            "999  53.811872  29.431516   0.491707     0.325733      0.491707   \n",
            "\n",
            "     japanese_mm_np  \n",
            "0          0.479980  \n",
            "1          0.349679  \n",
            "2          0.222251  \n",
            "3          0.378940  \n",
            "4          0.488562  \n",
            "..              ...  \n",
            "995        0.397175  \n",
            "996        0.466678  \n",
            "997        0.137639  \n",
            "998        0.566025  \n",
            "999        0.325733  \n",
            "\n",
            "[1000 rows x 6 columns]\n"
          ]
        }
      ]
    },
    {
      "cell_type": "code",
      "source": [
        "import matplotlib.pyplot as plt\n",
        "import pandas as pd\n",
        "import numpy as np\n",
        "import scipy.stats as ss\n",
        "\n",
        "df = pd.read_csv(\"/content/drive/MyDrive/bigdata_sample/USJudgeRatings.csv\")"
      ],
      "metadata": {
        "id": "yhDIlybMJoyV"
      },
      "execution_count": 25,
      "outputs": []
    },
    {
      "cell_type": "code",
      "source": [
        "df1 = df.copy()\n",
        "# 왜도\n",
        "print(ss.skew(df1[\"CONT\"]))\n",
        "print(ss.skew(df1[\"PHYS\"]))\n",
        "\n",
        "plt.hist(df1[\"CONT\"])\n",
        "plt.show()\n",
        "\n",
        "plt.hist(df1[\"PHYS\"])\n",
        "plt.show()\n"
      ],
      "metadata": {
        "id": "fs4LJ4PgKMWa",
        "colab": {
          "base_uri": "https://localhost:8080/",
          "height": 879
        },
        "outputId": "3acbc0ce-0833-4a57-f47f-e08fac9dae2c"
      },
      "execution_count": 26,
      "outputs": [
        {
          "output_type": "stream",
          "name": "stdout",
          "text": [
            "1.0859724796276253\n",
            "-1.5582154642293153\n"
          ]
        },
        {
          "output_type": "display_data",
          "data": {
            "text/plain": [
              "<Figure size 640x480 with 1 Axes>"
            ],
            "image/png": "[encoded data removed]"
          },
          "metadata": {}
        },
        {
          "output_type": "display_data",
          "data": {
            "text/plain": [
              "<Figure size 640x480 with 1 Axes>"
            ],
            "image/png": "[encoded data removed]"
          },
          "metadata": {}
        }
      ]
    },
    {
      "cell_type": "code",
      "source": [
        "df1 = df.copy()\n",
        "\n",
        "# 왜도에 따른 변수 변환\n",
        "print(df1.head(5))\n",
        "df[\"CONT2\"] = np.log10(df[\"CONT\"])\n",
        "df[\"PHYS2\"] = np.log10(np.max(df[\"PHYS\"]+1)- df[\"PHYS\"])\n",
        "\n",
        "print(ss.skew(df[\"CONT2\"]))\n",
        "print(ss.skew(df[\"PHYS2\"]))\n",
        "\n",
        "\n"
      ],
      "metadata": {
        "id": "NQJExp41Kd85",
        "colab": {
          "base_uri": "https://localhost:8080/"
        },
        "outputId": "9c03ad48-537c-445a-f436-13351f2bcad6"
      },
      "execution_count": 27,
      "outputs": [
        {
          "output_type": "stream",
          "name": "stdout",
          "text": [
            "       Unnamed: 0  CONT  INTG  DMNR  DILG  CFMG  DECI  PREP  FAMI  ORAL  WRIT  \\\n",
            "0   AARONSON,L.H.   5.7   7.9   7.7   7.3   7.1   7.4   7.1   7.1   7.1   7.0   \n",
            "1  ALEXANDER,J.M.   6.8   8.9   8.8   8.5   7.8   8.1   8.0   8.0   7.8   7.9   \n",
            "2  ARMENTANO,A.J.   7.2   8.1   7.8   7.8   7.5   7.6   7.5   7.5   7.3   7.4   \n",
            "3     BERDON,R.I.   6.8   8.8   8.5   8.8   8.3   8.5   8.7   8.7   8.4   8.5   \n",
            "4    BRACKEN,J.J.   7.3   6.4   4.3   6.5   6.0   6.2   5.7   5.7   5.1   5.3   \n",
            "\n",
            "   PHYS  RTEN  \n",
            "0   8.3   7.8  \n",
            "1   8.5   8.7  \n",
            "2   7.9   7.8  \n",
            "3   8.8   8.7  \n",
            "4   5.5   4.8  \n",
            "0.6555571886692441\n",
            "0.5824357748750438\n"
          ]
        }
      ]
    },
    {
      "cell_type": "code",
      "source": [
        "# histogram 범주화\n",
        "data = [[\"철수\", 52],[\"영희\", 92],[\"미영\", 84],[\"시완\", 71],[\"미경\", 65],[\"영환\", 81],[\"숙경\", 66],[\"부영\", 77],[\"민섭\", 73],[\"보연\", 74]]\n",
        "df = pd.DataFrame(data, columns=[\"이름\", \"성적\"])\n",
        "\n",
        "plt.hist(df[\"성적\"], bins=5, range=[50,100], rwidth = 0.9) # 5개 구간\n",
        "plt.show()"
      ],
      "metadata": {
        "id": "0-7vLvbLKZ40",
        "colab": {
          "base_uri": "https://localhost:8080/",
          "height": 430
        },
        "outputId": "da50cda1-4661-460a-da9c-2af955c96a2e"
      },
      "execution_count": 28,
      "outputs": [
        {
          "output_type": "display_data",
          "data": {
            "text/plain": [
              "<Figure size 640x480 with 1 Axes>"
            ],
            "image/png": "[encoded data removed]"
          },
          "metadata": {}
        }
      ]
    },
    {
      "cell_type": "code",
      "source": [
        "# 조건문으로 구간 나누기\n",
        "# df2 = df.copy()\n",
        "# df2[\"등급\"] =0\n",
        "\n",
        "# df2.loc[(df[\"성적\"]<60),\"등급\"] = \"F\"\n",
        "# df2.loc[(df[\"성적\"]>=60)&(df[\"성적\"]<70),\"등급\"] = \"D\"\n",
        "# df2.loc[(df[\"성적\"]>=70)&(df[\"성적\"]<80),\"등급\"] = \"C\"\n",
        "# df2.loc[(df[\"성적\"]>=80)&(df[\"성적\"]<90),\"등급\"] = \"B\"\n",
        "# df2.loc[(df[\"성적\"]>=90),\"등급\"] = \"A\"\n",
        "# # print(df2)\n",
        "\n",
        "\n",
        "# #cut 함수 이용\n",
        "df4 = df.copy()\n",
        "df4[\"등급\"] = pd.cut(x=df4[\"성적\"], bins=[0,60,70,80,90,100], labels=[\"F\", \"D\", \"C\", \"B\", \"A\"],\n",
        "                   include_lowest=True) # 각 구간의 낮은 경계값 포함\n",
        "# print(df4)\n",
        "\n",
        "# qcut : 각 범주에 균등한 수의 데이터 채워지도록 분할\n",
        "df5 = df.copy()\n",
        "df5[\"등급\"] = pd.qcut(x=df5[\"성적\"], q=5, labels=[\"F\",\"D\",\"C\",\"B\",\"A\"])\n",
        "print(df5)\n",
        "plt.hist(df5[\"등급\"])\n",
        "plt.show()\n"
      ],
      "metadata": {
        "id": "XaJz8QHPLU9Q",
        "colab": {
          "base_uri": "https://localhost:8080/",
          "height": 627
        },
        "outputId": "75d3ae83-afc3-4200-b6a2-400bb4743e97"
      },
      "execution_count": 29,
      "outputs": [
        {
          "output_type": "stream",
          "name": "stdout",
          "text": [
            "   이름  성적 등급\n",
            "0  철수  52  F\n",
            "1  영희  92  A\n",
            "2  미영  84  A\n",
            "3  시완  71  D\n",
            "4  미경  65  F\n",
            "5  영환  81  B\n",
            "6  숙경  66  D\n",
            "7  부영  77  B\n",
            "8  민섭  73  C\n",
            "9  보연  74  C\n"
          ]
        },
        {
          "output_type": "display_data",
          "data": {
            "text/plain": [
              "<Figure size 640x480 with 1 Axes>"
            ],
            "image/png": "[encoded data removed]"
          },
          "metadata": {}
        }
      ]
    },
    {
      "cell_type": "markdown",
      "source": [
        "### 2.2.3 차원축소 : PCA(주성분분석)"
      ],
      "metadata": {
        "id": "KOgr-pGTOz7q"
      }
    },
    {
      "cell_type": "code",
      "source": [
        "import numpy as np\n",
        "import pandas as pd\n",
        "import matplotlib.pyplot as plt\n",
        "from sklearn.preprocessing import StandardScaler\n",
        "from sklearn.decomposition import PCA\n",
        "\n",
        "iris = pd.read_csv(\"/content/drive/MyDrive/bigdata_sample/iris.csv\")"
      ],
      "metadata": {
        "id": "8JHdNYetPHwb"
      },
      "execution_count": 30,
      "outputs": []
    },
    {
      "cell_type": "code",
      "source": [
        "# 범주형 변수 분리\n",
        "df = iris.drop(\"species\", axis=1)\n",
        "df_species = iris[\"species\"]\n",
        "print(df_species)"
      ],
      "metadata": {
        "id": "Bn8r1ym2PW02",
        "colab": {
          "base_uri": "https://localhost:8080/"
        },
        "outputId": "caa69a84-10b6-4aa2-dc31-7b94cf733ece"
      },
      "execution_count": 31,
      "outputs": [
        {
          "output_type": "stream",
          "name": "stdout",
          "text": [
            "0         setosa\n",
            "1         setosa\n",
            "2         setosa\n",
            "3         setosa\n",
            "4         setosa\n",
            "         ...    \n",
            "145    virginica\n",
            "146    virginica\n",
            "147    virginica\n",
            "148    virginica\n",
            "149    virginica\n",
            "Name: species, Length: 150, dtype: object\n"
          ]
        }
      ]
    },
    {
      "cell_type": "code",
      "source": [
        "# 변수 정규화\n",
        "df2=df.copy()\n",
        "print(df2.columns)\n",
        "\n",
        "x = StandardScaler()\n",
        "df2[\"sepal_length\"] = x.fit_transform(df2[[\"sepal_length\"]])\n",
        "df2[\"sepal_width\"] = x.fit_transform(df2[[\"sepal_width\"]])\n",
        "df2[\"petal_length\"] = x.fit_transform(df2[[\"petal_length\"]])\n",
        "df2[\"petal_width\"] = x.fit_transform(df2[[\"petal_width\"]])\n",
        "\n",
        "# print(df2)\n",
        "\n",
        "# PCA 수행\n",
        "pca = PCA(n_components=4)\n",
        "p_score = pca.fit_transform(df2)\n",
        "print(p_score.shape)\n",
        "print(pca.explained_variance_ratio_)\n"
      ],
      "metadata": {
        "id": "_SpCLXcHQYgU",
        "colab": {
          "base_uri": "https://localhost:8080/"
        },
        "outputId": "348a2384-3f71-4a75-8e0c-b10e5b4b4e79"
      },
      "execution_count": 32,
      "outputs": [
        {
          "output_type": "stream",
          "name": "stdout",
          "text": [
            "Index(['sepal_length', 'sepal_width', 'petal_length', 'petal_width'], dtype='object')\n",
            "(150, 4)\n",
            "[0.72962445 0.22850762 0.03668922 0.00517871]\n"
          ]
        }
      ]
    },
    {
      "cell_type": "markdown",
      "source": [
        "### 2.2.4 결측치 처리"
      ],
      "metadata": {
        "id": "wz4t4ZVxOz-X"
      }
    },
    {
      "cell_type": "code",
      "source": [
        "import pandas as pd\n",
        "\n",
        "df = pd.read_csv(\"/content/drive/MyDrive/bigdata_sample/titanic.csv\")"
      ],
      "metadata": {
        "id": "FIMdrldBR5tL"
      },
      "execution_count": 33,
      "outputs": []
    },
    {
      "cell_type": "code",
      "source": [
        "print(df.isnull().sum())\n",
        "print(df.isnull().sum().sum()) # 결측치 총 개수\n",
        "\n",
        "df1 = df.dropna(axis=0)\n",
        "print(df1.shape)\n",
        "\n",
        "df2 = df.dropna(subset=[\"Age\"], axis=0) # Age열의 na만 삭제\n",
        "print(df2.shape)\n",
        "# 평균값 대체\n",
        "avg_age = df[\"Age\"].mean()\n",
        "df3 = df.copy()\n",
        "df3[\"Age\"].fillna(avg_age, inplace=True)\n",
        "print(df3.isnull().sum())\n"
      ],
      "metadata": {
        "id": "t3dP9SONR_vR",
        "colab": {
          "base_uri": "https://localhost:8080/"
        },
        "outputId": "46ac1066-3345-424a-9246-3a94b73418e1"
      },
      "execution_count": 34,
      "outputs": [
        {
          "output_type": "stream",
          "name": "stdout",
          "text": [
            "PassengerId      0\n",
            "Survived         0\n",
            "Pclass           0\n",
            "Name             0\n",
            "Sex              0\n",
            "Age            177\n",
            "SibSp            0\n",
            "Parch            0\n",
            "Ticket           0\n",
            "Fare             0\n",
            "Cabin          687\n",
            "Embarked         2\n",
            "dtype: int64\n",
            "866\n",
            "(183, 12)\n",
            "(714, 12)\n",
            "PassengerId      0\n",
            "Survived         0\n",
            "Pclass           0\n",
            "Name             0\n",
            "Sex              0\n",
            "Age              0\n",
            "SibSp            0\n",
            "Parch            0\n",
            "Ticket           0\n",
            "Fare             0\n",
            "Cabin          687\n",
            "Embarked         2\n",
            "dtype: int64\n"
          ]
        }
      ]
    },
    {
      "cell_type": "code",
      "source": [
        "# 최빈값 대체\n",
        "df4 = df.copy()\n",
        "print(df4.isnull().sum())\n",
        "mode = df4[\"Embarked\"].mode()[0]\n",
        "df4[\"Embarked\"].fillna(mode, inplace=True)\n",
        "print(df4.isnull().sum())"
      ],
      "metadata": {
        "id": "lqAnFsSOVAvl",
        "colab": {
          "base_uri": "https://localhost:8080/"
        },
        "outputId": "cef3f71e-1ce7-480e-8c23-4b4a90fe1d16"
      },
      "execution_count": 35,
      "outputs": [
        {
          "output_type": "stream",
          "name": "stdout",
          "text": [
            "PassengerId      0\n",
            "Survived         0\n",
            "Pclass           0\n",
            "Name             0\n",
            "Sex              0\n",
            "Age            177\n",
            "SibSp            0\n",
            "Parch            0\n",
            "Ticket           0\n",
            "Fare             0\n",
            "Cabin          687\n",
            "Embarked         2\n",
            "dtype: int64\n",
            "PassengerId      0\n",
            "Survived         0\n",
            "Pclass           0\n",
            "Name             0\n",
            "Sex              0\n",
            "Age            177\n",
            "SibSp            0\n",
            "Parch            0\n",
            "Ticket           0\n",
            "Fare             0\n",
            "Cabin          687\n",
            "Embarked         0\n",
            "dtype: int64\n"
          ]
        }
      ]
    },
    {
      "cell_type": "code",
      "source": [
        "# 인접값 대체\n",
        "data = [1,2,3,None,None,None,5,6,7]\n",
        "df = pd.DataFrame(data, columns=[\"test\"])\n",
        "print(df.fillna(method=\"ffill\")) # 이전(앞선)데이터로 채움\n",
        "print(df.fillna(method=\"bfill\")) # 다음 데이터로 채움\n",
        "\n"
      ],
      "metadata": {
        "id": "sAVjlLYHVyWq",
        "colab": {
          "base_uri": "https://localhost:8080/"
        },
        "outputId": "3131b911-2bfe-4270-d03b-a467c57b3990"
      },
      "execution_count": 36,
      "outputs": [
        {
          "output_type": "stream",
          "name": "stdout",
          "text": [
            "   test\n",
            "0   1.0\n",
            "1   2.0\n",
            "2   3.0\n",
            "3   3.0\n",
            "4   3.0\n",
            "5   3.0\n",
            "6   5.0\n",
            "7   6.0\n",
            "8   7.0\n",
            "   test\n",
            "0   1.0\n",
            "1   2.0\n",
            "2   3.0\n",
            "3   5.0\n",
            "4   5.0\n",
            "5   5.0\n",
            "6   5.0\n",
            "7   6.0\n",
            "8   7.0\n"
          ]
        }
      ]
    },
    {
      "cell_type": "markdown",
      "source": [
        "### 2.2.5 이상치 처리"
      ],
      "metadata": {
        "id": "qfR2Tu7rO0BD"
      }
    },
    {
      "cell_type": "code",
      "source": [
        "import numpy as np\n",
        "import pandas as pd\n",
        "import matplotlib.pyplot as plt\n",
        "\n",
        "data = 10*np.random.randn(200)+50\n",
        "df = pd.DataFrame({\"data\":data})\n",
        "df.loc[200] = 2\n",
        "df.loc[201] = 100\n",
        "df.loc[202] = 10\n",
        "df.loc[203] = 110\n",
        "\n"
      ],
      "metadata": {
        "id": "CSIqGVE_W7qD"
      },
      "execution_count": 37,
      "outputs": []
    },
    {
      "cell_type": "code",
      "source": [
        "# 히스토그램 판별\n",
        "\n",
        "plt.hist(df, bins=20, rwidth=0.8)\n",
        "plt.show()"
      ],
      "metadata": {
        "id": "vShTRhvgYjri",
        "colab": {
          "base_uri": "https://localhost:8080/",
          "height": 0
        },
        "outputId": "d563f6ee-40e3-40c3-eb59-8c8307728fcd"
      },
      "execution_count": 38,
      "outputs": [
        {
          "output_type": "display_data",
          "data": {
            "text/plain": [
              "<Figure size 640x480 with 1 Axes>"
            ],
            "image/png": "[encoded data removed]"
          },
          "metadata": {}
        }
      ]
    },
    {
      "cell_type": "code",
      "source": [
        "# IQR 사용\n",
        "df2 = df.copy()\n",
        "plt.boxplot(df2[\"data\"])\n",
        "plt.show()\n",
        "\n",
        "Q1 = df2[\"data\"].quantile(.25)\n",
        "Q3 = df2[\"data\"].quantile(.75)\n",
        "IQR = Q3-Q1\n",
        "print(Q1, Q3, IQR)\n",
        "\n",
        "print(df2.describe())\n"
      ],
      "metadata": {
        "id": "tpVYgzRnYmHN",
        "colab": {
          "base_uri": "https://localhost:8080/",
          "height": 0
        },
        "outputId": "16eb8f8f-13bd-4055-bf8f-77b9f3d8fd6c"
      },
      "execution_count": 39,
      "outputs": [
        {
          "output_type": "display_data",
          "data": {
            "text/plain": [
              "<Figure size 640x480 with 1 Axes>"
            ],
            "image/png": "[encoded data removed]"
          },
          "metadata": {}
        },
        {
          "output_type": "stream",
          "name": "stdout",
          "text": [
            "43.40946369224487 57.00129728682847 13.591833594583598\n",
            "             data\n",
            "count  204.000000\n",
            "mean    50.441613\n",
            "std     11.980253\n",
            "min      2.000000\n",
            "25%     43.409464\n",
            "50%     50.775185\n",
            "75%     57.001297\n",
            "max    110.000000\n"
          ]
        }
      ]
    },
    {
      "cell_type": "code",
      "source": [
        "# outlier 구하기\n",
        "df3 = df.copy()\n",
        "\n",
        "low_con = Q1 - 1.5*IQR\n",
        "upper_con = Q3 + 1.5*IQR\n",
        "low_out = df3[df3[\"data\"]<low_con]\n",
        "upper_out = df3[df3[\"data\"]>upper_con]\n",
        "print(low_out, upper_out, sep=\"\\n\")"
      ],
      "metadata": {
        "id": "4gh-UqaOZp7t",
        "colab": {
          "base_uri": "https://localhost:8080/"
        },
        "outputId": "b10f2bed-3091-4862-bc90-8dc8c247ece0"
      },
      "execution_count": 40,
      "outputs": [
        {
          "output_type": "stream",
          "name": "stdout",
          "text": [
            "     data\n",
            "200   2.0\n",
            "202  10.0\n",
            "      data\n",
            "201  100.0\n",
            "203  110.0\n"
          ]
        }
      ]
    },
    {
      "cell_type": "markdown",
      "source": [
        "### 2.2.6 평활화(smoothing)\n"
      ],
      "metadata": {
        "id": "8LTuUzMAPDc4"
      }
    },
    {
      "cell_type": "code",
      "source": [
        "import pandas as pd\n",
        "import matplotlib.pyplot as plt\n",
        "\n",
        "df = pd.read_csv(\"/content/drive/MyDrive/bigdata_sample/lynx.csv\")"
      ],
      "metadata": {
        "id": "cCetTNliasE2"
      },
      "execution_count": 41,
      "outputs": []
    },
    {
      "cell_type": "code",
      "source": [
        "df2 = df.copy()\n",
        "df2 = df2.iloc[:,1:]\n",
        "\n",
        "print(df2.head(5))\n",
        "print(df2.info())"
      ],
      "metadata": {
        "id": "LE1_wE-Eayzp",
        "colab": {
          "base_uri": "https://localhost:8080/"
        },
        "outputId": "e6bbafa2-c337-4865-c316-4f4ade700ead"
      },
      "execution_count": 42,
      "outputs": [
        {
          "output_type": "stream",
          "name": "stdout",
          "text": [
            "   time  value\n",
            "0  1821    269\n",
            "1  1822    321\n",
            "2  1823    585\n",
            "3  1824    871\n",
            "4  1825   1475\n",
            "<class 'pandas.core.frame.DataFrame'>\n",
            "RangeIndex: 114 entries, 0 to 113\n",
            "Data columns (total 2 columns):\n",
            " #   Column  Non-Null Count  Dtype\n",
            "---  ------  --------------  -----\n",
            " 0   time    114 non-null    int64\n",
            " 1   value   114 non-null    int64\n",
            "dtypes: int64(2)\n",
            "memory usage: 1.9 KB\n",
            "None\n"
          ]
        }
      ]
    },
    {
      "cell_type": "code",
      "source": [
        "# 단순이동평균\n",
        "df3 = df2.copy()\n",
        "df3[\"sma\"] = df3[\"value\"].rolling(10).mean()\n",
        "\n",
        "plt.plot(df3[\"value\"])\n",
        "plt.plot(df3[\"sma\"])\n",
        "plt.show()"
      ],
      "metadata": {
        "id": "box09xqCbIhE",
        "colab": {
          "base_uri": "https://localhost:8080/",
          "height": 0
        },
        "outputId": "3315af44-a266-4b9f-b96a-b1bc8e5f30d7"
      },
      "execution_count": 43,
      "outputs": [
        {
          "output_type": "display_data",
          "data": {
            "text/plain": [
              "<Figure size 640x480 with 1 Axes>"
            ],
            "image/png": "[encoded data removed]"
          },
          "metadata": {}
        }
      ]
    },
    {
      "cell_type": "code",
      "source": [
        "# 지수 이동평균\n",
        "df4 = df2.copy()\n",
        "df4[\"ewma\"] = df4[\"value\"].ewm(10).mean()\n",
        "plt.plot(df4[\"value\"])\n",
        "plt.plot(df4[\"ewma\"])\n",
        "plt.show()"
      ],
      "metadata": {
        "id": "JLwA9Na6bmlf",
        "colab": {
          "base_uri": "https://localhost:8080/",
          "height": 0
        },
        "outputId": "90484a6e-9dcf-4870-ea88-7b93264eb3ec"
      },
      "execution_count": 44,
      "outputs": [
        {
          "output_type": "display_data",
          "data": {
            "text/plain": [
              "<Figure size 640x480 with 1 Axes>"
            ],
            "image/png": "[encoded data removed]"
          },
          "metadata": {}
        }
      ]
    },
    {
      "cell_type": "markdown",
      "source": [
        "# Chapter3 데이터 분석"
      ],
      "metadata": {
        "id": "wicPLvt6c6Mz"
      }
    },
    {
      "cell_type": "markdown",
      "source": [
        "## 3.1 빅데이터 분석 과정"
      ],
      "metadata": {
        "id": "J5zelwQPc-FO"
      }
    },
    {
      "cell_type": "markdown",
      "source": [
        "### 3.1.3 분석모델 성능 평가 방법\n"
      ],
      "metadata": {
        "id": "4P8z7caZdM8-"
      }
    },
    {
      "cell_type": "markdown",
      "source": [
        "#### 지도학습-분류"
      ],
      "metadata": {
        "id": "D5sRiFNKsj6r"
      }
    },
    {
      "cell_type": "code",
      "source": [
        "# confusion matrix(오차행렬)\n",
        "# accuracy 정확도\n",
        "# precision 정밀도\n",
        "# recall 재현율\n",
        "# f1 score\n",
        "# roc\n",
        "# auc"
      ],
      "metadata": {
        "id": "PsPF_nzmsmYM"
      },
      "execution_count": 45,
      "outputs": []
    },
    {
      "cell_type": "code",
      "source": [
        "import pandas as pd\n",
        "from sklearn.preprocessing import LabelEncoder\n",
        "from sklearn.model_selection import train_test_split\n",
        "from sklearn.tree import DecisionTreeClassifier\n",
        "titanic = pd.read_csv(\"/content/drive/MyDrive/bigdata_sample/titanic.csv\")\n",
        "\n",
        "\n",
        "# 전처리\n",
        "titanic.drop(\"Cabin\", axis=1, inplace=True)\n",
        "titanic[\"Age\"] = titanic[\"Age\"].fillna(titanic[\"Age\"].mean())\n",
        "titanic[\"Embarked\"] = titanic[\"Embarked\"].fillna(titanic[\"Embarked\"].mode()[0])\n",
        "titanic[\"FamilySize\"] = titanic[\"SibSp\"]+titanic[\"Parch\"]\n",
        "titanic[\"Sex\"] = LabelEncoder().fit_transform(titanic[\"Sex\"])\n",
        "titanic[\"Embarked\"] = LabelEncoder().fit_transform(titanic[\"Embarked\"])\n",
        "\n",
        "y = titanic[\"Survived\"]\n",
        "x = titanic[[\"Pclass\",\"Sex\",\"Age\",\"Fare\",\"Embarked\",\"FamilySize\"]]\n",
        "x_train, x_test, y_train, y_test = train_test_split(x,y, test_size=0.2, random_state=10)\n",
        "\n",
        "\n",
        "# 모델 fitting\n",
        "model = DecisionTreeClassifier()\n",
        "model.fit(x_train, y_train)\n",
        "pred = model.predict(x_test)\n"
      ],
      "metadata": {
        "id": "inbTJ14ptW5W"
      },
      "execution_count": 46,
      "outputs": []
    },
    {
      "cell_type": "code",
      "source": [
        "from sklearn.metrics import confusion_matrix, accuracy_score, precision_score, recall_score, f1_score\n",
        "from sklearn.metrics import classification_report\n",
        "from sklearn.metrics import auc, roc_auc_score, roc_curve\n",
        "from sklearn.metrics import RocCurveDisplay\n",
        "import matplotlib.pyplot as plt\n",
        "\n",
        "rept = classification_report(y_test, pred)\n",
        "print(rept)\n",
        "\n",
        "# confusion matrix(오차행렬)\n",
        "confu = confusion_matrix(y_test, pred)\n",
        "print(\"confusion matrix : \\n\", confu)\n",
        "\n",
        "# x축이 모델 y축이 실제답\n",
        "TN = confu[0][0]\n",
        "FP = confu[0][1]\n",
        "FN = confu[1][0]\n",
        "TP = confu[1][1]\n",
        "\n",
        "# accuracy 정확도\n",
        "acc = accuracy_score(y_test, pred)\n",
        "acc_cal = (TN+TP)/(TN+FN+FP+TP)\n",
        "print(\"accuracy : \", acc, acc_cal)\n",
        "\n",
        "# precision 정밀도\n",
        "prec = precision_score(y_test, pred)\n",
        "prec_cal_p = TP/(TP+FP)\n",
        "prec_cal_n = TN/(TN+FN)\n",
        "print(\"precision : \", prec, prec_cal_p, prec_cal_n)\n",
        "\n",
        "# recall 재현율\n",
        "rec = recall_score(y_test,pred)\n",
        "rec_cal_p = TP/(TP+FN)\n",
        "rec_cal_n = TN/(TN+FP)\n",
        "print(\"recall : \", rec, rec_cal_p, rec_cal_n)\n",
        "\n",
        "# f1 score\n",
        "f1 = f1_score(y_test, pred)\n",
        "f1_cal_p = 2*(prec_cal_p*rec_cal_p)/(prec_cal_p+rec_cal_p)\n",
        "f1_cal_n = 2*(prec_cal_n*rec_cal_n)/(prec_cal_n+rec_cal_n)\n",
        "print(\"f1 score : \", f1, f1_cal_p, f1_cal_n)\n",
        "\n",
        "\n",
        "# roc, auc\n",
        "fpr_cal = FP/(FP+TN)\n",
        "tpr_cal = TP/(TP+FN)\n",
        "fpr, tpr, thresholds = roc_curve(y_test, pred)\n",
        "print(\"fpr: \", fpr, fpr_cal)\n",
        "print(\"tpr: \", tpr, tpr_cal)\n",
        "\n",
        "auc_score = auc(fpr, tpr)\n",
        "auc_score2 = roc_auc_score(y_test,pred)\n",
        "print(\"auc_score : \", auc_score, auc_score2)\n",
        "\n",
        "display = RocCurveDisplay(fpr=fpr, tpr=tpr, roc_auc=auc_score)\n",
        "display.plot()\n",
        "plt.show()\n"
      ],
      "metadata": {
        "colab": {
          "base_uri": "https://localhost:8080/",
          "height": 790
        },
        "id": "TXB2D1lJv2dG",
        "outputId": "2c2a5582-cb81-4911-a8ab-751c5f70f039"
      },
      "execution_count": 47,
      "outputs": [
        {
          "output_type": "stream",
          "name": "stdout",
          "text": [
            "              precision    recall  f1-score   support\n",
            "\n",
            "           0       0.83      0.78      0.81       117\n",
            "           1       0.63      0.71      0.67        62\n",
            "\n",
            "    accuracy                           0.75       179\n",
            "   macro avg       0.73      0.74      0.74       179\n",
            "weighted avg       0.76      0.75      0.76       179\n",
            "\n",
            "confusion matrix : \n",
            " [[91 26]\n",
            " [18 44]]\n",
            "accuracy :  0.7541899441340782 0.7541899441340782\n",
            "precision :  0.6285714285714286 0.6285714285714286 0.8348623853211009\n",
            "recall :  0.7096774193548387 0.7096774193548387 0.7777777777777778\n",
            "f1 score :  0.6666666666666666 0.6666666666666666 0.8053097345132744\n",
            "fpr:  [0.         0.22222222 1.        ] 0.2222222222222222\n",
            "tpr:  [0.         0.70967742 1.        ] 0.7096774193548387\n",
            "auc_score :  0.7437275985663082 0.7437275985663082\n"
          ]
        },
        {
          "output_type": "display_data",
          "data": {
            "text/plain": [
              "<Figure size 640x480 with 1 Axes>"
            ],
            "image/png": "[encoded data removed]"
          },
          "metadata": {}
        }
      ]
    },
    {
      "cell_type": "markdown",
      "source": [
        "#### 지도학습-회귀(예측)"
      ],
      "metadata": {
        "id": "DO_96fL4sgPH"
      }
    },
    {
      "cell_type": "code",
      "source": [
        "# 지도학습-회귀(예측)\n",
        "## mse(mean squared error)\n",
        "## rmse(root mse)\n",
        "## rmsle(root mean squared logarithmic error)\n",
        "## mae(mean absolute error)\n",
        "## r2 (r-squared)\n",
        "## adjusted r2\n",
        "## mspe(mean squared percentage error)\n",
        "## mape(mean absolute percentage error)\n",
        "## aic (akaike information criterion)\n",
        "## bic (bayes information criterion)"
      ],
      "metadata": {
        "id": "3Xmghuu9bJ7O"
      },
      "execution_count": 48,
      "outputs": []
    },
    {
      "cell_type": "code",
      "source": [
        "import pandas as pd\n",
        "from sklearn.model_selection import train_test_split\n",
        "from sklearn.linear_model import LinearRegression\n",
        "\n",
        "# 단순 선형회귀 분석용 데이터\n",
        "# mpg : 연비\n",
        "# cylinders:실린더개수\n",
        "# displacement : 배기량\n",
        "# acceleration:가속력\n",
        "# model year : 출시년도\n",
        "auto_mpg = pd.read_csv(\"/content/drive/MyDrive/bigdata_sample/auto-mpg.csv\")\n",
        "\n",
        "# 전처리 및 모델 fitting\n",
        "auto_mpg[\"horsepower\"] = auto_mpg[\"horsepower\"].fillna(auto_mpg[\"horsepower\"].mean())\n",
        "x = auto_mpg[[\"weight\"]]\n",
        "y = auto_mpg[\"mpg\"]\n",
        "x_train, x_test, y_train, y_test = train_test_split(x, y, test_size=0.2, random_state=10)\n",
        "model = LinearRegression()\n",
        "model.fit(x_train,y_train)\n",
        "pred = model.predict(x_test)\n",
        "\n",
        "# 다중선형\n",
        "x_mul = auto_mpg[[\"weight\",\"horsepower\",\"cylinders\",\"displacement\"]]\n",
        "y_mul = auto_mpg[\"mpg\"]\n",
        "x_train_mul, x_test_mul, y_train_mul, y_test_mul = train_test_split(x_mul, y_mul, test_size=0.2, random_state=10)\n",
        "model_mul = LinearRegression()\n",
        "model_mul.fit(x_train_mul,y_train_mul)\n",
        "pred_mul = model_mul.predict(x_test_mul)\n"
      ],
      "metadata": {
        "id": "inLZywXIb9xN"
      },
      "execution_count": 49,
      "outputs": []
    },
    {
      "cell_type": "code",
      "source": [
        "from sklearn.metrics import mean_squared_error, mean_absolute_error,mean_absolute_percentage_error ,mean_squared_log_error\n",
        "from sklearn.metrics import r2_score\n",
        "import numpy as np\n",
        "import statsmodels.api as sm\n",
        "\n",
        "## mse(mean squared error)\n",
        "mse = mean_squared_error(y_test, pred)\n",
        "mse_cal = sum((y_test-pred)**2)/len(y_test)\n",
        "print(\"mse : \", mse, mse_cal)\n",
        "\n",
        "## rmse(root mse)\n",
        "rmse = np.sqrt(mse)\n",
        "print(\"rmse : \", rmse)\n",
        "\n",
        "## rmsle(root mean squared logarithmic error)\n",
        "msle = mean_squared_log_error(y_test, pred)\n",
        "print(\"msle : \", msle)\n",
        "\n",
        "## mae(mean absolute error)\n",
        "mae = mean_absolute_error(y_test, pred)\n",
        "mae_cal = sum(abs(y_test-pred))/len(y_test)\n",
        "print(\"mae : \", mae, mae_cal)\n",
        "\n",
        "## r2 (r-squared)\n",
        "r2 = r2_score(y_test, pred)\n",
        "def r2_cal(y_test, pred):\n",
        "  y_mean = y_test.mean()\n",
        "  SST = sum((y_test-y_mean)**2)\n",
        "  SSR = sum((y_test-pred)**2) # 설명이 안된부분\n",
        "  SSE = sum((pred-y_mean)**2) # 설명이 된 부분\n",
        "  r2 = 1-SSR/SST\n",
        "  # r2 = SSE/SST\n",
        "  return r2\n",
        "print(\"r2 : \", r2, r2_cal(y_test, pred))\n",
        "\n",
        "## adjusted r2\n",
        "n = len(y_test_mul)\n",
        "k = x_test_mul.shape[1]\n",
        "r2_mul = r2_score(y_test_mul, pred_mul)\n",
        "r2_adj = 1-(n-1)*(1-r2_mul)/(n-k-1)\n",
        "print(\"r2_adj : \", r2_adj)\n",
        "\n",
        "\n",
        "## mspe(mean squared percentage error)\n",
        "mspe = sum(((y_test-pred)/y_test)**2)/len(y_test)\n",
        "print(\"mspe : \", mspe)\n",
        "\n",
        "## mape(mean absolute percentage error)\n",
        "mape = mean_absolute_percentage_error(y_test, pred)\n",
        "mape_cal = sum(abs((y_test-pred)/y_test))/len(y_test)\n",
        "print(\"mape : \", mape, mape_cal)\n",
        "\n",
        "## aic (akaike information criterion)\n",
        "## bic (bayes information criterion)\n",
        "\n",
        "\n"
      ],
      "metadata": {
        "colab": {
          "base_uri": "https://localhost:8080/"
        },
        "id": "6gof6xAocq6j",
        "outputId": "b8b29783-8b8a-4814-8067-0068d3b4bca2"
      },
      "execution_count": 50,
      "outputs": [
        {
          "output_type": "stream",
          "name": "stdout",
          "text": [
            "mse :  19.911491481165065 19.911491481165058\n",
            "rmse :  4.46222942946293\n",
            "msle :  0.0335669480842966\n",
            "mae :  3.5057177778108484 3.505717777810849\n",
            "r2 :  0.6744094188553618 0.6744094188553619\n",
            "r2_adj :  0.6739415708356971\n",
            "mspe :  0.045470782451595915\n",
            "mape :  0.16553450961953042 0.16553450961953042\n"
          ]
        }
      ]
    },
    {
      "cell_type": "markdown",
      "source": [
        "#### 비지도학습"
      ],
      "metadata": {
        "id": "nrtjvoI_5rgA"
      }
    },
    {
      "cell_type": "code",
      "source": [
        "#silhouette(실루엣 계수)\n",
        "#Dunn Index"
      ],
      "metadata": {
        "id": "w6uhHWZU5tiZ"
      },
      "execution_count": 51,
      "outputs": []
    },
    {
      "cell_type": "code",
      "source": [
        "import pandas as pd\n",
        "from sklearn.preprocessing import LabelEncoder\n",
        "from sklearn.cluster import KMeans\n",
        "\n",
        "iris=pd.read_csv(\"/content/drive/MyDrive/bigdata_sample/iris.csv\")\n",
        "\n",
        "# 전처리\n",
        "iris[\"species\"] = LabelEncoder().fit_transform(iris[\"species\"])\n",
        "# x = iris.drop(\"species\", axis=1)\n",
        "x = iris.copy()\n",
        "# fitting\n",
        "model = KMeans(n_clusters=3, n_init=10, max_iter=500, random_state=42)\n",
        "model.fit(x)\n",
        "\n",
        "cluster_center = model.cluster_centers_\n",
        "cluster_prediction = model.predict(x)\n",
        "\n",
        "print(cluster_center)\n",
        "print(cluster_prediction)\n",
        "# print(pd.DataFrame(cluster_center))\n",
        "# print(cluster_prediction)\n",
        "inertia = model.inertia_\n",
        "print(\"inertia : \", inertia)\n",
        "sco = model.score(iris)\n",
        "print(sco)"
      ],
      "metadata": {
        "colab": {
          "base_uri": "https://localhost:8080/"
        },
        "id": "bBFofKoC6Idv",
        "outputId": "05e5d7d4-0bca-4d02-bf08-c6ee12791d19"
      },
      "execution_count": 52,
      "outputs": [
        {
          "output_type": "stream",
          "name": "stdout",
          "text": [
            "[[6.62244898 2.98367347 5.57346939 2.03265306 2.        ]\n",
            " [5.006      3.428      1.462      0.246      0.        ]\n",
            " [5.91568627 2.76470588 4.26470588 1.33333333 1.01960784]]\n",
            "[1 1 1 1 1 1 1 1 1 1 1 1 1 1 1 1 1 1 1 1 1 1 1 1 1 1 1 1 1 1 1 1 1 1 1 1 1\n",
            " 1 1 1 1 1 1 1 1 1 1 1 1 1 2 2 2 2 2 2 2 2 2 2 2 2 2 2 2 2 2 2 2 2 2 2 2 2\n",
            " 2 2 2 2 2 2 2 2 2 2 2 2 2 2 2 2 2 2 2 2 2 2 2 2 2 2 0 0 0 0 0 0 2 0 0 0 0\n",
            " 0 0 0 0 0 0 0 0 0 0 0 0 0 0 0 0 0 0 0 0 0 0 0 0 0 0 0 0 0 0 0 0 0 0 0 0 0\n",
            " 0 0]\n",
            "inertia :  87.22062785114048\n",
            "-87.22062785114046\n"
          ]
        }
      ]
    },
    {
      "cell_type": "code",
      "source": [
        "from sklearn.metrics import silhouette_score, silhouette_samples\n",
        "\n",
        "iris_property = iris.drop(\"species\", axis=1)\n",
        "labels = cluster_prediction\n",
        "# print(iris_property)\n",
        "silhouette = silhouette_score(iris_property, labels)\n",
        "print(silhouette)\n",
        "\n",
        "score_samples = silhouette_samples(iris_property, labels)\n",
        "iris_property['silhouette_coeff'] = score_samples\n",
        "average_score = silhouette_score(iris_property, labels)\n",
        "\n",
        "iris_property.head(3)"
      ],
      "metadata": {
        "colab": {
          "base_uri": "https://localhost:8080/",
          "height": 161
        },
        "id": "JHailP628yL4",
        "outputId": "1463b25d-f911-4593-9fd2-90c5b73295c3"
      },
      "execution_count": 53,
      "outputs": [
        {
          "output_type": "stream",
          "name": "stdout",
          "text": [
            "0.5111496981090736\n"
          ]
        },
        {
          "output_type": "execute_result",
          "data": {
            "text/plain": [
              "   sepal_length  sepal_width  petal_length  petal_width  silhouette_coeff\n",
              "0           5.1          3.5           1.4          0.2          0.846713\n",
              "1           4.9          3.0           1.4          0.2          0.807609\n",
              "2           4.7          3.2           1.3          0.2          0.822507"
            ],
            "text/html": [
              "\n",
              "  <div id=\"df-6f297644-db5b-4f34-bf0d-331053ed38f8\">\n",
              "    <div class=\"colab-df-container\">\n",
              "      <div>\n",
              "<style scoped>\n",
              "    .dataframe tbody tr th:only-of-type {\n",
              "        vertical-align: middle;\n",
              "    }\n",
              "\n",
              "    .dataframe tbody tr th {\n",
              "        vertical-align: top;\n",
              "    }\n",
              "\n",
              "    .dataframe thead th {\n",
              "        text-align: right;\n",
              "    }\n",
              "</style>\n",
              "<table border=\"1\" class=\"dataframe\">\n",
              "  <thead>\n",
              "    <tr style=\"text-align: right;\">\n",
              "      <th></th>\n",
              "      <th>sepal_length</th>\n",
              "      <th>sepal_width</th>\n",
              "      <th>petal_length</th>\n",
              "      <th>petal_width</th>\n",
              "      <th>silhouette_coeff</th>\n",
              "    </tr>\n",
              "  </thead>\n",
              "  <tbody>\n",
              "    <tr>\n",
              "      <th>0</th>\n",
              "      <td>5.1</td>\n",
              "      <td>3.5</td>\n",
              "      <td>1.4</td>\n",
              "      <td>0.2</td>\n",
              "      <td>0.846713</td>\n",
              "    </tr>\n",
              "    <tr>\n",
              "      <th>1</th>\n",
              "      <td>4.9</td>\n",
              "      <td>3.0</td>\n",
              "      <td>1.4</td>\n",
              "      <td>0.2</td>\n",
              "      <td>0.807609</td>\n",
              "    </tr>\n",
              "    <tr>\n",
              "      <th>2</th>\n",
              "      <td>4.7</td>\n",
              "      <td>3.2</td>\n",
              "      <td>1.3</td>\n",
              "      <td>0.2</td>\n",
              "      <td>0.822507</td>\n",
              "    </tr>\n",
              "  </tbody>\n",
              "</table>\n",
              "</div>\n",
              "      <button class=\"colab-df-convert\" onclick=\"convertToInteractive('df-6f297644-db5b-4f34-bf0d-331053ed38f8')\"\n",
              "              title=\"Convert this dataframe to an interactive table.\"\n",
              "              style=\"display:none;\">\n",
              "        \n",
              "  <svg xmlns=\"http://www.w3.org/2000/svg\" height=\"24px\"viewBox=\"0 0 24 24\"\n",
              "       width=\"24px\">\n",
              "    <path d=\"M0 0h24v24H0V0z\" fill=\"none\"/>\n",
              "    <path d=\"M18.56 5.44l.94 2.06.94-2.06 2.06-.94-2.06-.94-.94-2.06-.94 2.06-2.06.94zm-11 1L8.5 8.5l.94-2.06 2.06-.94-2.06-.94L8.5 2.5l-.94 2.06-2.06.94zm10 10l.94 2.06.94-2.06 2.06-.94-2.06-.94-.94-2.06-.94 2.06-2.06.94z\"/><path d=\"M17.41 7.96l-1.37-1.37c-.4-.4-.92-.59-1.43-.59-.52 0-1.04.2-1.43.59L10.3 9.45l-7.72 7.72c-.78.78-.78 2.05 0 2.83L4 21.41c.39.39.9.59 1.41.59.51 0 1.02-.2 1.41-.59l7.78-7.78 2.81-2.81c.8-.78.8-2.07 0-2.86zM5.41 20L4 18.59l7.72-7.72 1.47 1.35L5.41 20z\"/>\n",
              "  </svg>\n",
              "      </button>\n",
              "      \n",
              "  <style>\n",
              "    .colab-df-container {\n",
              "      display:flex;\n",
              "      flex-wrap:wrap;\n",
              "      gap: 12px;\n",
              "    }\n",
              "\n",
              "    .colab-df-convert {\n",
              "      background-color: #E8F0FE;\n",
              "      border: none;\n",
              "      border-radius: 50%;\n",
              "      cursor: pointer;\n",
              "      display: none;\n",
              "      fill: #1967D2;\n",
              "      height: 32px;\n",
              "      padding: 0 0 0 0;\n",
              "      width: 32px;\n",
              "    }\n",
              "\n",
              "    .colab-df-convert:hover {\n",
              "      background-color: #E2EBFA;\n",
              "      box-shadow: 0px 1px 2px rgba(60, 64, 67, 0.3), 0px 1px 3px 1px rgba(60, 64, 67, 0.15);\n",
              "      fill: #174EA6;\n",
              "    }\n",
              "\n",
              "    [theme=dark] .colab-df-convert {\n",
              "      background-color: #3B4455;\n",
              "      fill: #D2E3FC;\n",
              "    }\n",
              "\n",
              "    [theme=dark] .colab-df-convert:hover {\n",
              "      background-color: #434B5C;\n",
              "      box-shadow: 0px 1px 3px 1px rgba(0, 0, 0, 0.15);\n",
              "      filter: drop-shadow(0px 1px 2px rgba(0, 0, 0, 0.3));\n",
              "      fill: #FFFFFF;\n",
              "    }\n",
              "  </style>\n",
              "\n",
              "      <script>\n",
              "        const buttonEl =\n",
              "          document.querySelector('#df-6f297644-db5b-4f34-bf0d-331053ed38f8 button.colab-df-convert');\n",
              "        buttonEl.style.display =\n",
              "          google.colab.kernel.accessAllowed ? 'block' : 'none';\n",
              "\n",
              "        async function convertToInteractive(key) {\n",
              "          const element = document.querySelector('#df-6f297644-db5b-4f34-bf0d-331053ed38f8');\n",
              "          const dataTable =\n",
              "            await google.colab.kernel.invokeFunction('convertToInteractive',\n",
              "                                                     [key], {});\n",
              "          if (!dataTable) return;\n",
              "\n",
              "          const docLinkHtml = 'Like what you see? Visit the ' +\n",
              "            '<a target=\"_blank\" href=https://colab.research.google.com/notebooks/data_table.ipynb>data table notebook</a>'\n",
              "            + ' to learn more about interactive tables.';\n",
              "          element.innerHTML = '';\n",
              "          dataTable['output_type'] = 'display_data';\n",
              "          await google.colab.output.renderOutput(dataTable, element);\n",
              "          const docLink = document.createElement('div');\n",
              "          docLink.innerHTML = docLinkHtml;\n",
              "          element.appendChild(docLink);\n",
              "        }\n",
              "      </script>\n",
              "    </div>\n",
              "  </div>\n",
              "  "
            ]
          },
          "metadata": {},
          "execution_count": 53
        }
      ]
    },
    {
      "cell_type": "markdown",
      "source": [
        "## 3.2 지도학습 - 분류"
      ],
      "metadata": {
        "id": "KbsPXf1xdDCU"
      }
    },
    {
      "cell_type": "markdown",
      "source": [
        "### 사용 모듈"
      ],
      "metadata": {
        "id": "eLhsjrdrRF4m"
      }
    },
    {
      "cell_type": "code",
      "source": [
        "import pandas as pd\n",
        "import numpy as np\n",
        "\n",
        "# 전처리용 모듈\n",
        "from sklearn.preprocessing import LabelEncoder, MinMaxScaler, StandardScaler\n",
        "from sklearn.model_selection import train_test_split\n",
        "\n",
        "# 분류 모델 모듈\n",
        "from sklearn.tree import DecisionTreeClassifier\n",
        "from sklearn.neighbors import KNeighborsClassifier\n",
        "from sklearn.linear_model import LogisticRegression\n",
        "from sklearn.ensemble import RandomForestClassifier\n",
        "from sklearn.svm import SVC\n",
        "\n",
        "# 평가 지표\n",
        "from sklearn.metrics import roc_auc_score, f1_score, accuracy_score\n",
        "from sklearn.metrics import classification_report, confusion_matrix\n"
      ],
      "metadata": {
        "id": "VPtjTog70qNJ"
      },
      "execution_count": 54,
      "outputs": []
    },
    {
      "cell_type": "markdown",
      "source": [
        "### 3.2.1 의사결정나무"
      ],
      "metadata": {
        "id": "wZf-VcKvdgMy"
      }
    },
    {
      "cell_type": "code",
      "source": [
        "# 의사결정나무\n",
        "\n",
        "# data\n",
        "titanic = pd.read_csv(\"/content/drive/MyDrive/bigdata_sample/titanic.csv\")\n",
        "\n",
        "# 전처리\n",
        "titanic.drop(\"Cabin\", axis=1, inplace=True)\n",
        "titanic[\"Age\"].fillna(titanic[\"Age\"].mean(), inplace=True)\n",
        "titanic[\"Embarked\"].fillna(titanic[\"Embarked\"].mode()[0], inplace=True)\n",
        "print(titanic.info())\n",
        "le = LabelEncoder()\n",
        "titanic[\"Sex\"] =le.fit_transform(titanic[\"Sex\"])\n",
        "titanic[\"Embarked\"]= le.fit_transform(titanic[\"Embarked\"])\n",
        "y = titanic[\"Survived\"]\n",
        "x = titanic[[\"Pclass\",\"Sex\",\"Age\",\"Fare\",\"Embarked\"]]\n",
        "x_train, x_test, y_train, y_test = train_test_split(x,y,test_size=0.2,random_state=11)\n",
        "\n",
        "# 모델 fitting\n",
        "dctree = DecisionTreeClassifier()\n",
        "dctree.fit(x_train, y_train)\n",
        "pred = dctree.predict(x_test)\n",
        "\n",
        "# 모델 평가\n",
        "acc = accuracy_score(y_test, pred)\n",
        "rept = classification_report(y_test,pred)\n",
        "conf = confusion_matrix(y_test,pred)\n",
        "\n"
      ],
      "metadata": {
        "colab": {
          "base_uri": "https://localhost:8080/"
        },
        "id": "HNku50rS4BZn",
        "outputId": "514b5441-6d91-4f81-d660-76670928e328"
      },
      "execution_count": 55,
      "outputs": [
        {
          "output_type": "stream",
          "name": "stdout",
          "text": [
            "<class 'pandas.core.frame.DataFrame'>\n",
            "RangeIndex: 891 entries, 0 to 890\n",
            "Data columns (total 11 columns):\n",
            " #   Column       Non-Null Count  Dtype  \n",
            "---  ------       --------------  -----  \n",
            " 0   PassengerId  891 non-null    int64  \n",
            " 1   Survived     891 non-null    int64  \n",
            " 2   Pclass       891 non-null    int64  \n",
            " 3   Name         891 non-null    object \n",
            " 4   Sex          891 non-null    object \n",
            " 5   Age          891 non-null    float64\n",
            " 6   SibSp        891 non-null    int64  \n",
            " 7   Parch        891 non-null    int64  \n",
            " 8   Ticket       891 non-null    object \n",
            " 9   Fare         891 non-null    float64\n",
            " 10  Embarked     891 non-null    object \n",
            "dtypes: float64(2), int64(5), object(4)\n",
            "memory usage: 76.7+ KB\n",
            "None\n"
          ]
        }
      ]
    },
    {
      "cell_type": "markdown",
      "source": [
        "### 3.2.2 KNN"
      ],
      "metadata": {
        "id": "Nc8L_vuYdjmG"
      }
    },
    {
      "cell_type": "code",
      "source": [
        "# knn\n",
        "\n",
        "# data\n",
        "iris = pd.read_csv(\"/content/drive/MyDrive/bigdata_sample/iris.csv\")\n",
        "\n",
        "# 전처리\n",
        "minmax = MinMaxScaler()\n",
        "iris[\"sepal_length\"] = minmax.fit_transform(iris[[\"sepal_length\"]])\n",
        "iris[\"sepal_width\"] = minmax.fit_transform(iris[[\"sepal_width\"]])\n",
        "iris[\"petal_length\"] = minmax.fit_transform(iris[[\"petal_length\"]])\n",
        "iris[\"petal_width\"] = minmax.fit_transform(iris[[\"petal_width\"]])\n",
        "x = iris[[\"sepal_length\", \"sepal_width\", \"petal_length\", \"petal_width\"]]\n",
        "y = iris[\"species\"]\n",
        "x_train, x_test, y_train, y_test = train_test_split(x, y, test_size=0.2, random_state=11)\n",
        "\n",
        "# 모델 fitting\n",
        "knn = KNeighborsClassifier(n_neighbors=3) # n_neighbors값이 달라짐에 따라 성능 달라짐 조정\n",
        "knn.fit(x_train, y_train)\n",
        "pred = knn.predict(x_test)\n",
        "\n",
        "# 모델 평가\n",
        "rep = classification_report(y_test, pred)\n",
        "print(rep)\n"
      ],
      "metadata": {
        "colab": {
          "base_uri": "https://localhost:8080/"
        },
        "id": "iDhN9k88UFSI",
        "outputId": "8cd99e70-27b8-47d8-9733-e69f390c2cf0"
      },
      "execution_count": 56,
      "outputs": [
        {
          "output_type": "stream",
          "name": "stdout",
          "text": [
            "              precision    recall  f1-score   support\n",
            "\n",
            "      setosa       1.00      1.00      1.00         9\n",
            "  versicolor       0.83      1.00      0.91        10\n",
            "   virginica       1.00      0.82      0.90        11\n",
            "\n",
            "    accuracy                           0.93        30\n",
            "   macro avg       0.94      0.94      0.94        30\n",
            "weighted avg       0.94      0.93      0.93        30\n",
            "\n"
          ]
        }
      ]
    },
    {
      "cell_type": "markdown",
      "source": [
        "### 3.2.3 SVM\n"
      ],
      "metadata": {
        "id": "RLp_D6GxdlgA"
      }
    },
    {
      "cell_type": "code",
      "source": [
        "# SVM\n",
        "# 범주형 변수 one-hot encoding 필요\n",
        "\n",
        "# data\n",
        "titanic = pd.read_csv(\"/content/drive/MyDrive/bigdata_sample/titanic.csv\")\n",
        "\n",
        "# 전처리\n",
        "titanic[\"Age\"] = titanic[\"Age\"].fillna(titanic[\"Age\"].mean())\n",
        "titanic[\"Embarked\"] = titanic[\"Embarked\"].fillna(titanic[\"Embarked\"].mode()[0])\n",
        "titanic.drop(\"Cabin\", axis=1,inplace=True)\n",
        "titanic[\"FamilySize\"] = titanic[\"SibSp\"] + titanic[\"Parch\"]\n",
        "onehot_sex = pd.get_dummies(titanic[\"Sex\"]) # one-hot encoding\n",
        "onehot_embarked = pd.get_dummies(titanic[\"Embarked\"])\n",
        "titanic = pd.concat([titanic, onehot_sex, onehot_embarked], axis=1)\n",
        "y = titanic[\"Survived\"]\n",
        "x = titanic[[\"Pclass\", \"Age\", \"Fare\", \"FamilySize\", \"female\", \"male\", \"C\", \"Q\", \"S\"]]\n",
        "x_train, x_test, y_train, y_test = train_test_split(x, y,test_size=0.3, random_state=10)\n",
        "\n",
        "# 모델 fitting\n",
        "svm = SVC()\n",
        "svm.fit(x_train,y_train)\n",
        "pred = svm.predict(x_test)\n",
        "\n",
        "# 모델 평가\n",
        "rep = classification_report(y_test, pred)\n",
        "print(rep)"
      ],
      "metadata": {
        "colab": {
          "base_uri": "https://localhost:8080/"
        },
        "id": "3XdY7ltlVq0s",
        "outputId": "8386697b-49a2-4872-aa00-2019531aa3d6"
      },
      "execution_count": 57,
      "outputs": [
        {
          "output_type": "stream",
          "name": "stdout",
          "text": [
            "              precision    recall  f1-score   support\n",
            "\n",
            "           0       0.71      0.96      0.82       174\n",
            "           1       0.79      0.29      0.42        94\n",
            "\n",
            "    accuracy                           0.72       268\n",
            "   macro avg       0.75      0.62      0.62       268\n",
            "weighted avg       0.74      0.72      0.68       268\n",
            "\n"
          ]
        }
      ]
    },
    {
      "cell_type": "markdown",
      "source": [
        "### 3.2.4 로지스틱 회귀"
      ],
      "metadata": {
        "id": "pb7DsJaxdnKy"
      }
    },
    {
      "cell_type": "code",
      "source": [
        "# 로지스틱 회귀\n",
        "\n",
        "# data\n",
        "iris = pd.read_csv(\"/content/drive/MyDrive/bigdata_sample/iris.csv\")\n",
        "\n",
        "# 전처리\n",
        "mx = MinMaxScaler()\n",
        "iris[\"sepal_length\"] = mx.fit_transform(iris[[\"sepal_length\"]])\n",
        "iris[\"sepal_width\"] = mx.fit_transform(iris[[\"sepal_width\"]])\n",
        "iris[\"petal_length\"] = mx.fit_transform(iris[[\"petal_length\"]])\n",
        "iris[\"petal_width\"] = mx.fit_transform(iris[[\"petal_width\"]])\n",
        "y = iris[\"species\"]\n",
        "x = iris[[\"sepal_length\", \"sepal_width\", \"petal_length\", \"petal_width\"]]\n",
        "x_train, x_test, y_train, y_test = train_test_split(x, y, test_size=0.2, random_state=11)\n",
        "\n",
        "# 모델 fitting\n",
        "lg = LogisticRegression()\n",
        "lg.fit(x_train, y_train)\n",
        "pred = lg.predict(x_test)\n",
        "\n",
        "\n",
        "# 모델 평가\n",
        "rpt = classification_report(y_test, pred)\n",
        "print(rpt)"
      ],
      "metadata": {
        "colab": {
          "base_uri": "https://localhost:8080/"
        },
        "id": "SosdfXJkXgEB",
        "outputId": "172e118a-533d-4ce4-8808-717f70d70b31"
      },
      "execution_count": 58,
      "outputs": [
        {
          "output_type": "stream",
          "name": "stdout",
          "text": [
            "              precision    recall  f1-score   support\n",
            "\n",
            "      setosa       1.00      1.00      1.00         9\n",
            "  versicolor       0.78      0.70      0.74        10\n",
            "   virginica       0.75      0.82      0.78        11\n",
            "\n",
            "    accuracy                           0.83        30\n",
            "   macro avg       0.84      0.84      0.84        30\n",
            "weighted avg       0.83      0.83      0.83        30\n",
            "\n"
          ]
        }
      ]
    },
    {
      "cell_type": "markdown",
      "source": [
        "### 3.2.5 랜덤 포레스트"
      ],
      "metadata": {
        "id": "YoBIrogudpGf"
      }
    },
    {
      "cell_type": "code",
      "source": [
        "# 랜덤 포레스트\n",
        "\n",
        "# data\n",
        "titanic = pd.read_csv(\"/content/drive/MyDrive/bigdata_sample/titanic.csv\")\n",
        "\n",
        "# 전처리\n",
        "titanic.drop(\"Cabin\", axis=1, inplace = True)\n",
        "titanic[\"Age\"].fillna(titanic[\"Age\"].mean(),inplace=True)\n",
        "titanic[\"Embarked\"].fillna(titanic[\"Embarked\"].mode()[0], inplace=True)\n",
        "titanic[\"FamilySize\"] = titanic[\"SibSp\"] + titanic[\"Parch\"]\n",
        "le = LabelEncoder()\n",
        "titanic[\"Sex\"] = le.fit_transform(titanic[\"Sex\"])\n",
        "titanic[\"Embarked\"] = le.fit_transform(titanic[\"Embarked\"])\n",
        "y=titanic[\"Survived\"]\n",
        "x=titanic[[\"Pclass\",\"Sex\",\"Age\",\"Fare\",\"Embarked\",\"FamilySize\"]]\n",
        "x_train, x_test, y_train, y_test = train_test_split(x, y, test_size=0.2, random_state=11)\n",
        "\n",
        "# 모델 fitting\n",
        "rf = RandomForestClassifier(n_estimators=50, max_depth=3, random_state=20)\n",
        "rf.fit(x_train, y_train)\n",
        "pred = rf.predict(x_test)\n",
        "\n",
        "# 모델 평가\n",
        "rpt = classification_report(y_test, pred)\n",
        "print(rpt)"
      ],
      "metadata": {
        "colab": {
          "base_uri": "https://localhost:8080/"
        },
        "id": "X0MPOq6AX_8d",
        "outputId": "0a9b7915-c66f-4571-9915-4ad07fe47ccf"
      },
      "execution_count": 59,
      "outputs": [
        {
          "output_type": "stream",
          "name": "stdout",
          "text": [
            "              precision    recall  f1-score   support\n",
            "\n",
            "           0       0.83      0.98      0.90       118\n",
            "           1       0.95      0.62      0.75        61\n",
            "\n",
            "    accuracy                           0.86       179\n",
            "   macro avg       0.89      0.80      0.83       179\n",
            "weighted avg       0.87      0.86      0.85       179\n",
            "\n"
          ]
        }
      ]
    },
    {
      "cell_type": "markdown",
      "source": [
        "### 모델 비교"
      ],
      "metadata": {
        "id": "FYzO_TpDZEex"
      }
    },
    {
      "cell_type": "code",
      "source": [
        "import pandas as pd\n",
        "\n",
        "from sklearn.tree import DecisionTreeClassifier as dstc\n",
        "from sklearn.neighbors import KNeighborsClassifier as knnc\n",
        "from sklearn.svm import SVC as svc\n",
        "from sklearn.linear_model import LogisticRegression as lrc\n",
        "from sklearn.ensemble import RandomForestClassifier as rfc\n",
        "from sklearn.preprocessing import LabelEncoder\n",
        "from sklearn.model_selection import train_test_split\n",
        "from sklearn.metrics import classification_report\n",
        "from sklearn.metrics import roc_auc_score\n",
        "\n",
        "titanic = pd.read_csv(\"/content/drive/MyDrive/bigdata_sample/titanic.csv\")\n",
        "\n",
        "# 전처리\n",
        "titanic.drop(\"Cabin\", axis=1, inplace=True)\n",
        "titanic[\"Age\"].fillna(titanic[\"Age\"].mean(), inplace=True)\n",
        "titanic[\"Embarked\"].fillna(titanic[\"Embarked\"].mode()[0], inplace=True)\n",
        "le = LabelEncoder()\n",
        "titanic[\"Sex\"] =le.fit_transform(titanic[\"Sex\"])\n",
        "titanic[\"Embarked\"]= le.fit_transform(titanic[\"Embarked\"])\n",
        "y = titanic[\"Survived\"]\n",
        "x = titanic[[\"Pclass\",\"Sex\",\"Age\",\"Fare\",\"Embarked\"]]\n",
        "x_train, x_test, y_train, y_test = train_test_split(x,y,test_size=0.2,random_state=11)\n",
        "\n",
        "dst = dstc()\n",
        "knn = knnc()\n",
        "svm = svc()\n",
        "lr = lrc()\n",
        "rf = rfc()\n",
        "\n",
        "dst.fit(x_train,y_train)\n",
        "knn.fit(x_train,y_train)\n",
        "svm.fit(x_train,y_train)\n",
        "lr.fit(x_train,y_train)\n",
        "rf.fit(x_train,y_train)\n",
        "\n",
        "dst_pred = dst.predict(x_test)\n",
        "knn_pred = knn.predict(x_test)\n",
        "svm_pred = svm.predict(x_test)\n",
        "lr_pred = lr.predict(x_test)\n",
        "rf_pred = rf.predict(x_test)\n",
        "\n",
        "dst_rprt = classification_report(y_test, dst_pred)\n",
        "knn_rprt = classification_report(y_test, knn_pred)\n",
        "svm_rprt = classification_report(y_test, svm_pred)\n",
        "lr_rprt = classification_report(y_test, lr_pred)\n",
        "rf_rprt = classification_report(y_test, rf_pred)\n",
        "\n",
        "dst_auc = roc_auc_score(y_test, dst_pred)\n",
        "knn_auc = roc_auc_score(y_test, knn_pred)\n",
        "svm_auc = roc_auc_score(y_test, svm_pred)\n",
        "lr_auc = roc_auc_score(y_test, lr_pred)\n",
        "rf_auc = roc_auc_score(y_test, rf_pred)\n",
        "\n",
        "print(dst_rprt, knn_rprt, svm_rprt, lr_rprt, rf_rprt, sep=\"\\n\")\n",
        "print(dst_auc, knn_auc, svm_auc, lr_auc, rf_auc, sep=\"\\n\")"
      ],
      "metadata": {
        "colab": {
          "base_uri": "https://localhost:8080/"
        },
        "id": "CGj89P7PZC6r",
        "outputId": "ae55253d-3229-4f08-cd7c-91676441f406"
      },
      "execution_count": 60,
      "outputs": [
        {
          "output_type": "stream",
          "name": "stdout",
          "text": [
            "              precision    recall  f1-score   support\n",
            "\n",
            "           0       0.84      0.83      0.83       118\n",
            "           1       0.68      0.69      0.68        61\n",
            "\n",
            "    accuracy                           0.78       179\n",
            "   macro avg       0.76      0.76      0.76       179\n",
            "weighted avg       0.78      0.78      0.78       179\n",
            "\n",
            "              precision    recall  f1-score   support\n",
            "\n",
            "           0       0.76      0.84      0.80       118\n",
            "           1       0.60      0.48      0.53        61\n",
            "\n",
            "    accuracy                           0.72       179\n",
            "   macro avg       0.68      0.66      0.66       179\n",
            "weighted avg       0.70      0.72      0.71       179\n",
            "\n",
            "              precision    recall  f1-score   support\n",
            "\n",
            "           0       0.72      0.93      0.81       118\n",
            "           1       0.70      0.31      0.43        61\n",
            "\n",
            "    accuracy                           0.72       179\n",
            "   macro avg       0.71      0.62      0.62       179\n",
            "weighted avg       0.72      0.72      0.68       179\n",
            "\n",
            "              precision    recall  f1-score   support\n",
            "\n",
            "           0       0.88      0.89      0.89       118\n",
            "           1       0.78      0.77      0.78        61\n",
            "\n",
            "    accuracy                           0.85       179\n",
            "   macro avg       0.83      0.83      0.83       179\n",
            "weighted avg       0.85      0.85      0.85       179\n",
            "\n",
            "              precision    recall  f1-score   support\n",
            "\n",
            "           0       0.88      0.91      0.89       118\n",
            "           1       0.81      0.75      0.78        61\n",
            "\n",
            "    accuracy                           0.85       179\n",
            "   macro avg       0.84      0.83      0.84       179\n",
            "weighted avg       0.85      0.85      0.85       179\n",
            "\n",
            "0.7595165323701027\n",
            "0.6571964434565156\n",
            "0.6218393998332871\n",
            "0.8301611558766324\n",
            "0.8304390108363435\n"
          ]
        }
      ]
    },
    {
      "cell_type": "code",
      "source": [
        "iris = pd.read_csv(\"/content/drive/MyDrive/bigdata_sample/iris.csv\")\n",
        "\n",
        "# 전처리\n",
        "iris[\"species\"] = LabelEncoder().fit_transform(iris[\"species\"])\n",
        "# minmax = MinMaxScaler()\n",
        "# iris[\"sepal_length\"] = minmax.fit_transform(iris[[\"sepal_length\"]])\n",
        "# iris[\"sepal_width\"] = minmax.fit_transform(iris[[\"sepal_width\"]])\n",
        "# iris[\"petal_length\"] = minmax.fit_transform(iris[[\"petal_length\"]])\n",
        "# iris[\"petal_width\"] = minmax.fit_transform(iris[[\"petal_width\"]])\n",
        "x = iris[[\"sepal_length\", \"sepal_width\", \"petal_length\", \"petal_width\"]]\n",
        "y = iris[\"species\"]\n",
        "x_train, x_test, y_train, y_test = train_test_split(x, y, test_size=0.2, random_state=11)\n",
        "\n",
        "dst.fit(x_train,y_train)\n",
        "knn.fit(x_train,y_train)\n",
        "svm.fit(x_train,y_train)\n",
        "lr.fit(x_train,y_train)\n",
        "rf.fit(x_train,y_train)\n",
        "\n",
        "dst_pred = dst.predict(x_test)\n",
        "knn_pred = knn.predict(x_test)\n",
        "svm_pred = svm.predict(x_test)\n",
        "lr_pred = lr.predict(x_test)\n",
        "rf_pred = rf.predict(x_test)\n",
        "\n",
        "\n",
        "dst_rprt = classification_report(y_test, dst_pred)\n",
        "knn_rprt = classification_report(y_test, knn_pred)\n",
        "svm_rprt = classification_report(y_test, svm_pred)\n",
        "lr_rprt = classification_report(y_test, lr_pred)\n",
        "rf_rprt = classification_report(y_test, rf_pred)\n",
        "\n",
        "dst_acc = accuracy_score(y_test, dst_pred)\n",
        "knn_acc = accuracy_score(y_test, knn_pred)\n",
        "svm_acc = accuracy_score(y_test, svm_pred)\n",
        "lr_acc = accuracy_score(y_test, lr_pred)\n",
        "rf_acc = accuracy_score(y_test, rf_pred)\n",
        "\n",
        "# print(dst_rprt, knn_rprt, svm_rprt, lr_rprt, rf_rprt, sep=\"\\n\")\n",
        "print(\"dst_acc : \",dst_acc)\n",
        "print(\"knn_acc : \",knn_acc)\n",
        "print(\"svm_acc : \",svm_acc)\n",
        "print(\"lr_acc : \",lr_acc)\n",
        "print(\"rf_acc : \",rf_acc)\n"
      ],
      "metadata": {
        "colab": {
          "base_uri": "https://localhost:8080/"
        },
        "id": "US1ZklVXdqJA",
        "outputId": "06b706e1-51e8-4e1c-e5b4-6e44c8bb058a"
      },
      "execution_count": 61,
      "outputs": [
        {
          "output_type": "stream",
          "name": "stdout",
          "text": [
            "dst_acc :  0.9333333333333333\n",
            "knn_acc :  0.9666666666666667\n",
            "svm_acc :  0.9333333333333333\n",
            "lr_acc :  0.9333333333333333\n",
            "rf_acc :  0.9333333333333333\n"
          ]
        }
      ]
    },
    {
      "cell_type": "markdown",
      "source": [
        "## 3.3 지도학습 - 회귀(예측)"
      ],
      "metadata": {
        "id": "yobWuMnIdFC0"
      }
    },
    {
      "cell_type": "markdown",
      "source": [
        "### 사용 모듈\n"
      ],
      "metadata": {
        "id": "VJRCgLRhhZIu"
      }
    },
    {
      "cell_type": "code",
      "source": [
        "import pandas as pd\n",
        "from sklearn.linear_model import LinearRegression\n",
        "from sklearn.tree import DecisionTreeRegressor\n",
        "from sklearn.ensemble import RandomForestRegressor\n",
        "from sklearn.preprocessing import LabelEncoder\n",
        "from sklearn.model_selection import train_test_split\n",
        "\n",
        "from sklearn.metrics import r2_score, mean_squared_error\n",
        "\n"
      ],
      "metadata": {
        "id": "Jff0ZoRkTbG5"
      },
      "execution_count": 62,
      "outputs": []
    },
    {
      "cell_type": "markdown",
      "source": [
        "### 3.3.1 단순 선형회귀"
      ],
      "metadata": {
        "id": "3AMh6X7YdrpZ"
      }
    },
    {
      "cell_type": "code",
      "source": [
        "# 단순 선형회귀\n",
        "\n",
        "# data\n",
        "# mpg : 연비\n",
        "# cylinders:실린더개수\n",
        "# displacement : 배기량\n",
        "# acceleration:가속력\n",
        "# model year : 출시년도\n",
        "auto_mpg = pd.read_csv(\"/content/drive/MyDrive/bigdata_sample/auto-mpg.csv\")\n",
        "\n",
        "# 전처리\n",
        "auto_mpg = auto_mpg.dropna(axis=0)\n",
        "y = auto_mpg[\"mpg\"]\n",
        "x = auto_mpg[[\"weight\"]]\n",
        "x_train, x_test, y_train, y_test = train_test_split(x,y, test_size=0.2, random_state=10)\n",
        "\n",
        "# 모델 fitting\n",
        "lr = LinearRegression()\n",
        "lr.fit(x_train, y_train)\n",
        "pred = lr.predict(x_test)\n",
        "\n",
        "# 모델 평가\n",
        "r2 = r2_score(y_test, pred)\n",
        "print(r2)"
      ],
      "metadata": {
        "colab": {
          "base_uri": "https://localhost:8080/"
        },
        "id": "_l_sgWQWht2F",
        "outputId": "0c76c9d7-47a5-43cf-87be-f3e0b14f117a"
      },
      "execution_count": 63,
      "outputs": [
        {
          "output_type": "stream",
          "name": "stdout",
          "text": [
            "0.7015633872576372\n"
          ]
        }
      ]
    },
    {
      "cell_type": "markdown",
      "source": [
        "### 3.3.2 다중 선형회귀"
      ],
      "metadata": {
        "id": "Pq5BRyDhduMr"
      }
    },
    {
      "cell_type": "code",
      "source": [
        "# 다중 선형회귀\n",
        "\n",
        "# data\n",
        "housing = pd.read_csv(\"/content/drive/MyDrive/bigdata_sample/housing.csv\")\n",
        "\n",
        "# 전처리\n",
        "housing.dropna(axis=0, inplace=True)\n",
        "housing.drop(\"ocean_proximity\", axis=1, inplace=True)\n",
        "y = housing[\"median_house_value\"]\n",
        "x = housing.drop(\"median_house_value\", axis=1)\n",
        "x_train, x_test, y_train, y_test = train_test_split(x, y, test_size=0.3, random_state=42)\n",
        "\n",
        "# 모델 fitting\n",
        "lr = LinearRegression()\n",
        "lr.fit(x_train, y_train)\n",
        "pred = lr.predict(x_test)\n",
        "\n",
        "# 모델 평가\n",
        "r2 = r2_score(y_test, pred)\n",
        "print(r2)\n",
        "n = len(y_test)\n",
        "k = x.shape[1]\n",
        "r2_adj = 1-(((n-1)*(1-r2))/(n-k-1))\n",
        "print(r2_adj)"
      ],
      "metadata": {
        "colab": {
          "base_uri": "https://localhost:8080/"
        },
        "id": "3-TIg5tzkPrW",
        "outputId": "fc2a4ee0-eb0d-4377-e7fb-9e41e500e3b2"
      },
      "execution_count": 64,
      "outputs": [
        {
          "output_type": "stream",
          "name": "stdout",
          "text": [
            "0.6445130291082337\n",
            "0.6440484161745408\n"
          ]
        }
      ]
    },
    {
      "cell_type": "markdown",
      "source": [
        "### 3.3.3 의사결정나무"
      ],
      "metadata": {
        "id": "F2aMzNKadxMc"
      }
    },
    {
      "cell_type": "code",
      "source": [
        "# 의사결정나무\n",
        "\n",
        "# data\n",
        "housing = pd.read_csv(\"/content/drive/MyDrive/bigdata_sample/housing.csv\")\n",
        "\n",
        "# 전처리\n",
        "housing.dropna(axis=0, inplace=True)\n",
        "housing.drop(\"ocean_proximity\", axis=1, inplace=True)\n",
        "y = housing[\"median_house_value\"]\n",
        "x = housing.drop(\"median_house_value\", axis=1)\n",
        "x_train, x_test, y_train, y_test = train_test_split(x, y, test_size=0.3, random_state=42)\n",
        "\n",
        "# 모델 fitting\n",
        "# dt = DecisionTreeRegressor(max_depth=3, random_state=42)\n",
        "dt = DecisionTreeRegressor(random_state=42)\n",
        "dt.fit(x_train, y_train)\n",
        "pred = dt.predict(x_test)\n",
        "\n",
        "# 모델 평가\n",
        "mse = mean_squared_error(y_test, pred)\n",
        "r2 = r2_score(y_test, pred)\n",
        "print(mse, r2)\n"
      ],
      "metadata": {
        "colab": {
          "base_uri": "https://localhost:8080/"
        },
        "id": "bIfDrvXYlfQP",
        "outputId": "14a87b22-5580-447c-deac-b66ba7f32e17"
      },
      "execution_count": 65,
      "outputs": [
        {
          "output_type": "stream",
          "name": "stdout",
          "text": [
            "4492421544.933442 0.6630077028770314\n"
          ]
        }
      ]
    },
    {
      "cell_type": "markdown",
      "source": [
        "### 3.3.4 랜덤 포레스트"
      ],
      "metadata": {
        "id": "iiI-vN-nd0E3"
      }
    },
    {
      "cell_type": "code",
      "source": [
        "# 랜덤 포레스트\n",
        "\n",
        "# data\n",
        "housing = pd.read_csv(\"/content/drive/MyDrive/bigdata_sample/housing.csv\")\n",
        "\n",
        "# 전처리\n",
        "housing.dropna(axis=0, inplace=True)\n",
        "housing.drop(\"ocean_proximity\", axis=1, inplace=True)\n",
        "y = housing[\"median_house_value\"]\n",
        "x = housing.drop(\"median_house_value\", axis=1)\n",
        "x_train, x_test, y_train, y_test = train_test_split(x, y, test_size=0.3, random_state=42)\n",
        "\n",
        "# 모델 fitting\n",
        "# rf = RandomForestRegressor(max_depth=3, random_state=42)\n",
        "rf = RandomForestRegressor(random_state=42)\n",
        "rf.fit(x_train, y_train)\n",
        "pred = rf.predict(x_test)\n",
        "\n",
        "# 모델 평가\n",
        "mse = mean_squared_error(y_test, pred)\n",
        "r2 = r2_score(y_test, pred)\n",
        "n = len(y_test)\n",
        "k = x_test.shape[1]\n",
        "r2_adj = 1-((n-1)*(1-r2)/(n-1-k))\n",
        "print(mse, r2, r2_adj)"
      ],
      "metadata": {
        "colab": {
          "base_uri": "https://localhost:8080/"
        },
        "id": "nvp68WzxmC75",
        "outputId": "93cab728-db9a-4387-cb97-63363d3389a5"
      },
      "execution_count": 66,
      "outputs": [
        {
          "output_type": "stream",
          "name": "stdout",
          "text": [
            "2414341728.879658 0.8188917586835565 0.818655054561594\n"
          ]
        }
      ]
    },
    {
      "cell_type": "markdown",
      "source": [
        "## 3.4 비지도학습"
      ],
      "metadata": {
        "id": "Ohif3Cf8dILl"
      }
    },
    {
      "cell_type": "markdown",
      "source": [
        "### 3.4.1 군집분석 k-means"
      ],
      "metadata": {
        "id": "qC_HAKA6d2ZC"
      }
    },
    {
      "cell_type": "code",
      "source": [
        "import pandas as pd\n",
        "\n",
        "from sklearn.cluster import KMeans\n",
        "from sklearn.preprocessing import LabelEncoder"
      ],
      "metadata": {
        "id": "k1ijAd-inh8k"
      },
      "execution_count": 67,
      "outputs": []
    },
    {
      "cell_type": "code",
      "source": [
        "# k-means\n",
        "\n",
        "# data\n",
        "iris=pd.read_csv(\"/content/drive/MyDrive/bigdata_sample/iris.csv\")\n",
        "\n",
        "# 전처리\n",
        "iris[\"species\"] = LabelEncoder().fit_transform(iris[\"species\"])\n",
        "\n",
        "# 모델 fitting\n",
        "# cluster= KMeans(n_clusters=3, n_init=10, max_iter=500, random_state=42)\n",
        "cluster= KMeans(n_clusters=3, n_init=10, random_state=42)\n",
        "cluster.fit(iris)\n",
        "cluster_center = cluster.cluster_centers_\n",
        "cluster_prediction = cluster.predict(iris)\n",
        "\n",
        "# 모델 평가\n",
        "print(cluster.n_clusters)\n",
        "inertia = cluster.inertia_\n",
        "print(inertia)\n"
      ],
      "metadata": {
        "id": "OhUp7i-0nyvt",
        "colab": {
          "base_uri": "https://localhost:8080/"
        },
        "outputId": "6a8a1535-b356-411d-ae6e-27c0b25791a3"
      },
      "execution_count": 68,
      "outputs": [
        {
          "output_type": "stream",
          "name": "stdout",
          "text": [
            "3\n",
            "87.22062785114048\n"
          ]
        }
      ]
    },
    {
      "cell_type": "markdown",
      "source": [
        "### 3.4.2 연관분석"
      ],
      "metadata": {
        "id": "kS3GvUzmd4tJ"
      }
    },
    {
      "cell_type": "code",
      "source": [
        "import sklearn.cluster\n",
        "\n",
        "# dir(sklearn)\n",
        "# import sklearn.feature_selection\n",
        "# dir(sklearn.feature_selection)\n",
        "# print(sklearn.datasets.__all__)"
      ],
      "metadata": {
        "colab": {
          "base_uri": "https://localhost:8080/"
        },
        "id": "2nqAvQjestFP",
        "outputId": "3a66cd2c-ac5f-41ce-ea0b-3a9a1928b895"
      },
      "execution_count": 70,
      "outputs": [
        {
          "output_type": "stream",
          "name": "stdout",
          "text": [
            "['calibration', 'cluster', 'covariance', 'cross_decomposition', 'datasets', 'decomposition', 'dummy', 'ensemble', 'exceptions', 'experimental', 'externals', 'feature_extraction', 'feature_selection', 'gaussian_process', 'inspection', 'isotonic', 'kernel_approximation', 'kernel_ridge', 'linear_model', 'manifold', 'metrics', 'mixture', 'model_selection', 'multiclass', 'multioutput', 'naive_bayes', 'neighbors', 'neural_network', 'pipeline', 'preprocessing', 'random_projection', 'semi_supervised', 'svm', 'tree', 'discriminant_analysis', 'impute', 'compose', 'clone', 'get_config', 'set_config', 'config_context', 'show_versions']\n"
          ]
        }
      ]
    }
  ]
}