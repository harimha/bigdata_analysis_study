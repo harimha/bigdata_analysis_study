{
  "nbformat": 4,
  "nbformat_minor": 0,
  "metadata": {
    "colab": {
      "provenance": [],
      "collapsed_sections": [
        "H1_hWsKoBlLn",
        "_g4btzlus-Co",
        "85i1-VDeOOtH",
        "LdxGSOSnOz1r",
        "qEsZPyvAOz42",
        "KOgr-pGTOz7q",
        "wz4t4ZVxOz-X",
        "qfR2Tu7rO0BD",
        "8LTuUzMAPDc4",
        "wicPLvt6c6Mz",
        "J5zelwQPc-FO",
        "ONGFFuamdLIT",
        "nojEcdJAdM6t",
        "4P8z7caZdM8-",
        "DO_96fL4sgPH",
        "D5sRiFNKsj6r",
        "nrtjvoI_5rgA",
        "KbsPXf1xdDCU",
        "wZf-VcKvdgMy",
        "Nc8L_vuYdjmG",
        "RLp_D6GxdlgA",
        "pb7DsJaxdnKy",
        "YoBIrogudpGf",
        "yobWuMnIdFC0",
        "3AMh6X7YdrpZ",
        "Pq5BRyDhduMr",
        "F2aMzNKadxMc",
        "iiI-vN-nd0E3",
        "Ohif3Cf8dILl",
        "qC_HAKA6d2ZC",
        "kS3GvUzmd4tJ"
      ],
      "mount_file_id": "1eMGmBxvA56KLdCHOyaWsCV9piz9ovV0a",
      "authorship_tag": "ABX9TyOw2Ni0rUWaCcNKuhDNwZab"
    },
    "kernelspec": {
      "name": "python3",
      "display_name": "Python 3"
    },
    "language_info": {
      "name": "python"
    }
  },
  "cells": [
    {
      "cell_type": "markdown",
      "source": [
        "# 기타"
      ],
      "metadata": {
        "id": "H1_hWsKoBlLn"
      }
    },
    {
      "cell_type": "markdown",
      "source": [
        "## 자주 사용하는 단축키\n",
        "\n",
        "* ctrl + m h : 단축키 표시\n",
        "* ctrl + shift + enter : 섹션 셀 삽입\n",
        "* ctrl + m d : 선택 셀 삭제\n",
        "* ctrl + enter : 코드셀 실행\n",
        "* shift + enter : 셀을 실행하고 다음 셀 선택\n",
        "* ctrl + m b : 아래에 코드 셀 삽입\n",
        "* ctrl + m v : 아래에 텍스트 셀 삽입\n",
        "* ctrl + . : 모든출력 지우기\n",
        "* ctrl + shift + a : 모든 셀 선택\n",
        "\n",
        "\n"
      ],
      "metadata": {
        "id": "TiKqoHbFuRR8"
      }
    },
    {
      "cell_type": "markdown",
      "source": [
        "## 학습 라이브러리\n",
        "\n",
        "- numpy\n",
        "- scipy\n",
        "- pandas\n",
        "- scikit-learn\n",
        "\n"
      ],
      "metadata": {
        "id": "_g4btzlus-Co"
      }
    },
    {
      "cell_type": "markdown",
      "source": [
        "# Chapter2 데이터 전처리"
      ],
      "metadata": {
        "id": "sIftu-ACOGyh"
      }
    },
    {
      "cell_type": "markdown",
      "source": [
        "## 2.1 데이터 탐색"
      ],
      "metadata": {
        "id": "5wYIrre7OKjJ"
      }
    },
    {
      "cell_type": "markdown",
      "source": [
        "### 2.1.3 파이썬 데이터 탐색"
      ],
      "metadata": {
        "id": "y64PxN3AOkm1"
      }
    },
    {
      "cell_type": "markdown",
      "source": [
        "타이타닉 데이터"
      ],
      "metadata": {
        "id": "DWjtUjBHS0eS"
      }
    },
    {
      "cell_type": "code",
      "source": [
        "import numpy as np\n",
        "import pandas as pd\n",
        "import matplotlib.pyplot as plt\n",
        "\n",
        "# 타이타닉 데이터\n",
        "df_raw = pd.read_csv(\"https://raw.githubusercontent.com/datasciencedojo/datasets/master/titanic.csv\")\n",
        "print(df_raw)"
      ],
      "metadata": {
        "id": "N_IZuNsmRUbM"
      },
      "execution_count": null,
      "outputs": []
    },
    {
      "cell_type": "code",
      "source": [
        "# 변수 타입 변환\n",
        "df_type = df_raw.copy()\n",
        "df_type[\"Survived\"]=df_type[\"Survived\"].astype(str) # 범주형 변수\n",
        "df_type[\"Pclass\"]=df_type[\"Pclass\"].astype(str)\n",
        "\n",
        "print(df_type.info())"
      ],
      "metadata": {
        "id": "JzHmCjhbSz85"
      },
      "execution_count": null,
      "outputs": []
    },
    {
      "cell_type": "code",
      "source": [
        "# 데이터 기술 통계 확인\n",
        "df1 = df_type.copy()\n",
        "\n",
        "print(df1.describe(include='all'))"
      ],
      "metadata": {
        "id": "S2bEP7JxT0DN"
      },
      "execution_count": null,
      "outputs": []
    },
    {
      "cell_type": "code",
      "source": [
        "# pclass 탑승객의 빈도수\n",
        "df1 = df_type.copy()\n",
        "print(df1.groupby(\"Pclass\").size())\n",
        "print(df1.groupby(\"Pclass\").count()[\"PassengerId\"])"
      ],
      "metadata": {
        "id": "D0MTJaLtUTwC"
      },
      "execution_count": null,
      "outputs": []
    },
    {
      "cell_type": "code",
      "source": [
        "# Histogram\n",
        "df1 = df_type.copy()\n",
        "plt.hist(df1[\"Fare\"])\n",
        "plt.show()\n",
        "\n",
        "# 데이터 분리\n",
        "data_0 = df1[df1[\"Survived\"]=='0'][\"Fare\"]\n",
        "data_1 = df1[df1[\"Survived\"]=='1'][\"Fare\"]\n",
        "\n",
        "# boxplot\n",
        "fig, ax = plt.subplots()\n",
        "ax.boxplot([data_0, data_1])\n",
        "plt.show()\n"
      ],
      "metadata": {
        "id": "JACDBRaEVuiP"
      },
      "execution_count": null,
      "outputs": []
    },
    {
      "cell_type": "code",
      "source": [
        "# 성별 간에 생존자 수 차이\n",
        "df_a = df_type.copy()\n",
        "\n",
        "\n",
        "df_male = df_a[df_a[\"Sex\"]==\"male\"]\n",
        "df_female = df_a[df_a[\"Sex\"]==\"female\"]\n",
        "male_dead = df_male.groupby(\"Survived\").size()[0]\n",
        "male_survive = df_male.groupby(\"Survived\").size()[1]\n",
        "male_survive_rate = male_survive / (male_survive + male_dead)\n",
        "\n",
        "female_dead = df_female.groupby(\"Survived\").size()[0]\n",
        "female_survive = df_female.groupby(\"Survived\").size()[1]\n",
        "female_survive_rate = female_survive / (female_survive + female_dead)\n",
        "\n",
        "print(\"male survive rate : %0.3f \\nfemale survive rate : %0.3f\" %(male_survive_rate, female_survive_rate))\n",
        "\n"
      ],
      "metadata": {
        "id": "YQuJBFXnWTIM"
      },
      "execution_count": null,
      "outputs": []
    },
    {
      "cell_type": "markdown",
      "source": [
        "## 2.2 데이터 전처리 개요"
      ],
      "metadata": {
        "id": "85i1-VDeOOtH"
      }
    },
    {
      "cell_type": "markdown",
      "source": [
        "### 2.2.1 데이터 전처리 유형"
      ],
      "metadata": {
        "id": "LdxGSOSnOz1r"
      }
    },
    {
      "cell_type": "markdown",
      "source": [
        "데이터 전처리는 데이터 가공(data manipulation), 데이터 핸들링(data handling) 등 으로 불린다"
      ],
      "metadata": {
        "id": "rMZPh-0LZibu"
      }
    },
    {
      "cell_type": "markdown",
      "source": [
        "### 2.2.2 데이터 변환"
      ],
      "metadata": {
        "id": "qEsZPyvAOz42"
      }
    },
    {
      "cell_type": "code",
      "source": [
        "import numpy as np\n",
        "import pandas as pd\n",
        "\n",
        "\n",
        "#data 생성\n",
        "meat_consumption_korean = 5*np.random.randn(1000)+53.9\n",
        "meat_consumption_japan = 4*np.random.randn(1000)+32.7\n",
        "\n",
        "meat_consumption_df = pd.DataFrame({\"korean\":meat_consumption_korean,\n",
        "                                    \"japanese\":meat_consumption_japan})\n",
        "print(meat_consumption_df)"
      ],
      "metadata": {
        "id": "tDsx8Yp-auGu"
      },
      "execution_count": null,
      "outputs": []
    },
    {
      "cell_type": "code",
      "source": [
        "# z 표준화 3가지\n",
        "import scipy.stats as ss\n",
        "df = meat_consumption_df.copy()\n",
        "df[\"korean_zscore\"] = ss.zscore(df[\"korean\"])\n",
        "df[\"japanese_zscore\"] = ss.zscore(df[\"japanese\"])\n",
        "\n",
        "df[\"korean_zscore_np\"] = (df[\"korean\"]-np.mean(df[\"korean\"]))/np.std(df[\"korean\"])\n",
        "df[\"japanese_zscore_np\"] = (df[\"japanese\"]-np.mean(df[\"japanese\"]))/np.std(df[\"japanese\"])\n",
        "\n",
        "from sklearn.preprocessing import StandardScaler\n",
        "scaler = StandardScaler()\n",
        "df[\"korean_zscore_skl\"] = scaler.fit_transform(df[[\"korean\"]]) # series객체 넣어야함\n",
        "df[\"japanese_zscore_skl\"] = scaler.fit_transform(df[[\"japanese\"]])\n",
        "print(type(df[\"korean\"]))\n",
        "print(type(df[[\"korean\"]]))\n",
        "\n",
        "print(df)\n"
      ],
      "metadata": {
        "id": "zqI4cPKwbpL9"
      },
      "execution_count": null,
      "outputs": []
    },
    {
      "cell_type": "code",
      "source": [
        "# minmax 표준화\n",
        "from sklearn.preprocessing import MinMaxScaler\n",
        "\n",
        "df = meat_consumption_df.copy()\n",
        "scaler = MinMaxScaler()\n",
        "\n",
        "df[\"korean_mm\"] = scaler.fit_transform(df[[\"korean\"]])\n",
        "df[\"japanese_mm\"] = scaler.fit_transform(df[[\"japanese\"]])\n",
        "\n",
        "\n",
        "df[\"korean_mm_np\"]=(df[\"korean\"]-df[\"korean\"].min()) / (df[\"korean\"].max()-df[\"korean\"].min())\n",
        "df[\"japanese_mm_np\"]=(df[\"japanese\"]-df[\"japanese\"].min()) / (df[\"japanese\"].max()-df[\"japanese\"].min())\n",
        "print(df)\n",
        "\n"
      ],
      "metadata": {
        "id": "Ekv61IOCkw_6"
      },
      "execution_count": null,
      "outputs": []
    },
    {
      "cell_type": "markdown",
      "source": [
        "USJudgeRatings data\n"
      ],
      "metadata": {
        "id": "ltUCso5mKJhR"
      }
    },
    {
      "cell_type": "code",
      "source": [
        "import matplotlib.pyplot as plt\n",
        "import pandas as pd\n",
        "import numpy as np\n",
        "import scipy.stats as ss\n",
        "\n",
        "df = pd.read_csv(\"/content/drive/MyDrive/bigdata_sample/USJudgeRatings.csv\")"
      ],
      "metadata": {
        "id": "yhDIlybMJoyV"
      },
      "execution_count": null,
      "outputs": []
    },
    {
      "cell_type": "code",
      "source": [
        "df1 = df.copy()\n",
        "# 왜도\n",
        "print(ss.skew(df1[\"CONT\"]))\n",
        "print(ss.skew(df1[\"PHYS\"]))\n",
        "\n",
        "plt.hist(df1[\"CONT\"])\n",
        "plt.show()\n",
        "\n",
        "plt.hist(df1[\"PHYS\"])\n",
        "plt.show()\n"
      ],
      "metadata": {
        "id": "fs4LJ4PgKMWa"
      },
      "execution_count": null,
      "outputs": []
    },
    {
      "cell_type": "code",
      "source": [
        "df1 = df.copy()\n",
        "\n",
        "# 왜도에 따른 변수 변환\n",
        "print(df1.head(5))\n",
        "df[\"CONT2\"] = np.log10(df[\"CONT\"])\n",
        "df[\"PHYS2\"] = np.log10(np.max(df[\"PHYS\"]+1)- df[\"PHYS\"])\n",
        "\n",
        "print(ss.skew(df[\"CONT2\"]))\n",
        "print(ss.skew(df[\"PHYS2\"]))\n",
        "\n",
        "\n"
      ],
      "metadata": {
        "id": "NQJExp41Kd85"
      },
      "execution_count": null,
      "outputs": []
    },
    {
      "cell_type": "code",
      "source": [
        "# histogram 범주화\n",
        "data = [[\"철수\", 52],[\"영희\", 92],[\"미영\", 84],[\"시완\", 71],[\"미경\", 65],[\"영환\", 81],[\"숙경\", 66],[\"부영\", 77],[\"민섭\", 73],[\"보연\", 74]]\n",
        "df = pd.DataFrame(data, columns=[\"이름\", \"성적\"])\n",
        "\n",
        "plt.hist(df[\"성적\"], bins=5, range=[50,100], rwidth = 0.9) # 5개 구간\n",
        "plt.show()"
      ],
      "metadata": {
        "id": "0-7vLvbLKZ40"
      },
      "execution_count": null,
      "outputs": []
    },
    {
      "cell_type": "code",
      "source": [
        "# 조건문으로 구간 나누기\n",
        "# df2 = df.copy()\n",
        "# df2[\"등급\"] =0\n",
        "\n",
        "# df2.loc[(df[\"성적\"]<60),\"등급\"] = \"F\"\n",
        "# df2.loc[(df[\"성적\"]>=60)&(df[\"성적\"]<70),\"등급\"] = \"D\"\n",
        "# df2.loc[(df[\"성적\"]>=70)&(df[\"성적\"]<80),\"등급\"] = \"C\"\n",
        "# df2.loc[(df[\"성적\"]>=80)&(df[\"성적\"]<90),\"등급\"] = \"B\"\n",
        "# df2.loc[(df[\"성적\"]>=90),\"등급\"] = \"A\"\n",
        "# # print(df2)\n",
        "\n",
        "\n",
        "# #cut 함수 이용\n",
        "df4 = df.copy()\n",
        "df4[\"등급\"] = pd.cut(x=df4[\"성적\"], bins=[0,60,70,80,90,100], labels=[\"F\", \"D\", \"C\", \"B\", \"A\"],\n",
        "                   include_lowest=True) # 각 구간의 낮은 경계값 포함\n",
        "# print(df4)\n",
        "\n",
        "# qcut : 각 범주에 균등한 수의 데이터 채워지도록 분할\n",
        "df5 = df.copy()\n",
        "df5[\"등급\"] = pd.qcut(x=df5[\"성적\"], q=5, labels=[\"F\",\"D\",\"C\",\"B\",\"A\"])\n",
        "print(df5)\n",
        "plt.hist(df5[\"등급\"])\n",
        "plt.show()\n"
      ],
      "metadata": {
        "id": "XaJz8QHPLU9Q"
      },
      "execution_count": null,
      "outputs": []
    },
    {
      "cell_type": "markdown",
      "source": [
        "### 2.2.3 차원축소 : PCA(주성분분석)"
      ],
      "metadata": {
        "id": "KOgr-pGTOz7q"
      }
    },
    {
      "cell_type": "code",
      "source": [
        "import numpy as np\n",
        "import pandas as pd\n",
        "import matplotlib.pyplot as plt\n",
        "from sklearn.preprocessing import StandardScaler\n",
        "from sklearn.decomposition import PCA\n",
        "\n",
        "iris = pd.read_csv(\"/content/drive/MyDrive/bigdata_sample/iris.csv\")"
      ],
      "metadata": {
        "id": "8JHdNYetPHwb"
      },
      "execution_count": null,
      "outputs": []
    },
    {
      "cell_type": "code",
      "source": [
        "# 범주형 변수 분리\n",
        "df = iris.drop(\"species\", axis=1)\n",
        "df_species = iris[\"species\"]\n",
        "print(df_species)"
      ],
      "metadata": {
        "id": "Bn8r1ym2PW02"
      },
      "execution_count": null,
      "outputs": []
    },
    {
      "cell_type": "code",
      "source": [
        "# 변수 정규화\n",
        "df2=df.copy()\n",
        "print(df2.columns)\n",
        "\n",
        "x = StandardScaler()\n",
        "df2[\"sepal_length\"] = x.fit_transform(df2[[\"sepal_length\"]])\n",
        "df2[\"sepal_width\"] = x.fit_transform(df2[[\"sepal_width\"]])\n",
        "df2[\"petal_length\"] = x.fit_transform(df2[[\"petal_length\"]])\n",
        "df2[\"petal_width\"] = x.fit_transform(df2[[\"petal_width\"]])\n",
        "\n",
        "# print(df2)\n",
        "\n",
        "# PCA 수행\n",
        "pca = PCA(n_components=4)\n",
        "p_score = pca.fit_transform(df2)\n",
        "print(p_score.shape)\n",
        "print(pca.explained_variance_ratio_)\n"
      ],
      "metadata": {
        "id": "_SpCLXcHQYgU"
      },
      "execution_count": null,
      "outputs": []
    },
    {
      "cell_type": "markdown",
      "source": [
        "### 2.2.4 결측치 처리"
      ],
      "metadata": {
        "id": "wz4t4ZVxOz-X"
      }
    },
    {
      "cell_type": "code",
      "source": [
        "import pandas as pd\n",
        "\n",
        "df = pd.read_csv(\"/content/drive/MyDrive/bigdata_sample/titanic.csv\")"
      ],
      "metadata": {
        "id": "FIMdrldBR5tL"
      },
      "execution_count": null,
      "outputs": []
    },
    {
      "cell_type": "code",
      "source": [
        "print(df.isnull().sum())\n",
        "print(df.isnull().sum().sum()) # 결측치 총 개수\n",
        "\n",
        "df1 = df.dropna(axis=0)\n",
        "print(df1.shape)\n",
        "\n",
        "df2 = df.dropna(subset=[\"Age\"], axis=0) # Age열의 na만 삭제\n",
        "print(df2.shape)\n",
        "# 평균값 대체\n",
        "avg_age = df[\"Age\"].mean()\n",
        "df3 = df.copy()\n",
        "df3[\"Age\"].fillna(avg_age, inplace=True)\n",
        "print(df3.isnull().sum())\n"
      ],
      "metadata": {
        "id": "t3dP9SONR_vR"
      },
      "execution_count": null,
      "outputs": []
    },
    {
      "cell_type": "code",
      "source": [
        "# 최빈값 대체\n",
        "df4 = df.copy()\n",
        "print(df4.isnull().sum())\n",
        "mode = df4[\"Embarked\"].mode()[0]\n",
        "df4[\"Embarked\"].fillna(mode, inplace=True)\n",
        "print(df4.isnull().sum())"
      ],
      "metadata": {
        "id": "lqAnFsSOVAvl"
      },
      "execution_count": null,
      "outputs": []
    },
    {
      "cell_type": "code",
      "source": [
        "# 인접값 대체\n",
        "data = [1,2,3,None,None,None,5,6,7]\n",
        "df = pd.DataFrame(data, columns=[\"test\"])\n",
        "print(df.fillna(method=\"ffill\")) # 이전(앞선)데이터로 채움\n",
        "print(df.fillna(method=\"bfill\")) # 다음 데이터로 채움\n",
        "\n"
      ],
      "metadata": {
        "id": "sAVjlLYHVyWq"
      },
      "execution_count": null,
      "outputs": []
    },
    {
      "cell_type": "markdown",
      "source": [
        "### 2.2.5 이상치 처리"
      ],
      "metadata": {
        "id": "qfR2Tu7rO0BD"
      }
    },
    {
      "cell_type": "code",
      "source": [
        "import numpy as np\n",
        "import pandas as pd\n",
        "import matplotlib.pyplot as plt\n",
        "\n",
        "data = 10*np.random.randn(200)+50\n",
        "df = pd.DataFrame({\"data\":data})\n",
        "df.loc[200] = 2\n",
        "df.loc[201] = 100\n",
        "df.loc[202] = 10\n",
        "df.loc[203] = 110\n",
        "\n"
      ],
      "metadata": {
        "id": "CSIqGVE_W7qD"
      },
      "execution_count": null,
      "outputs": []
    },
    {
      "cell_type": "code",
      "source": [
        "# 히스토그램 판별\n",
        "\n",
        "plt.hist(df, bins=20, rwidth=0.8)\n",
        "plt.show()"
      ],
      "metadata": {
        "id": "vShTRhvgYjri"
      },
      "execution_count": null,
      "outputs": []
    },
    {
      "cell_type": "code",
      "source": [
        "# IQR 사용\n",
        "df2 = df.copy()\n",
        "plt.boxplot(df2[\"data\"])\n",
        "plt.show()\n",
        "\n",
        "Q1 = df2[\"data\"].quantile(.25)\n",
        "Q3 = df2[\"data\"].quantile(.75)\n",
        "IQR = Q3-Q1\n",
        "print(Q1, Q3, IQR)\n",
        "\n",
        "print(df2.describe())\n"
      ],
      "metadata": {
        "id": "tpVYgzRnYmHN"
      },
      "execution_count": null,
      "outputs": []
    },
    {
      "cell_type": "code",
      "source": [
        "# outlier 구하기\n",
        "df3 = df.copy()\n",
        "\n",
        "low_con = Q1 - 1.5*IQR\n",
        "upper_con = Q3 + 1.5*IQR\n",
        "low_out = df3[df3[\"data\"]<low_con]\n",
        "upper_out = df3[df3[\"data\"]>upper_con]\n",
        "print(low_out, upper_out, sep=\"\\n\")"
      ],
      "metadata": {
        "id": "4gh-UqaOZp7t"
      },
      "execution_count": null,
      "outputs": []
    },
    {
      "cell_type": "markdown",
      "source": [
        "### 2.2.6 평활화(smoothing)\n"
      ],
      "metadata": {
        "id": "8LTuUzMAPDc4"
      }
    },
    {
      "cell_type": "code",
      "source": [
        "import pandas as pd\n",
        "import matplotlib.pyplot as plt\n",
        "\n",
        "df = pd.read_csv(\"/content/drive/MyDrive/bigdata_sample/lynx.csv\")"
      ],
      "metadata": {
        "id": "cCetTNliasE2"
      },
      "execution_count": null,
      "outputs": []
    },
    {
      "cell_type": "code",
      "source": [
        "df2 = df.copy()\n",
        "df2 = df2.iloc[:,1:]\n",
        "\n",
        "print(df2.head(5))\n",
        "print(df2.info())"
      ],
      "metadata": {
        "id": "LE1_wE-Eayzp"
      },
      "execution_count": null,
      "outputs": []
    },
    {
      "cell_type": "code",
      "source": [
        "# 단순이동평균\n",
        "df3 = df2.copy()\n",
        "df3[\"sma\"] = df3[\"value\"].rolling(10).mean()\n",
        "\n",
        "plt.plot(df3[\"value\"])\n",
        "plt.plot(df3[\"sma\"])\n",
        "plt.show()"
      ],
      "metadata": {
        "id": "box09xqCbIhE"
      },
      "execution_count": null,
      "outputs": []
    },
    {
      "cell_type": "code",
      "source": [
        "# 지수 이동평균\n",
        "df4 = df2.copy()\n",
        "df4[\"ewma\"] = df4[\"value\"].ewm(10).mean()\n",
        "plt.plot(df4[\"value\"])\n",
        "plt.plot(df4[\"ewma\"])\n",
        "plt.show()"
      ],
      "metadata": {
        "id": "JLwA9Na6bmlf"
      },
      "execution_count": null,
      "outputs": []
    },
    {
      "cell_type": "markdown",
      "source": [
        "# Chapter3 데이터 분석"
      ],
      "metadata": {
        "id": "wicPLvt6c6Mz"
      }
    },
    {
      "cell_type": "markdown",
      "source": [
        "## 3.1 빅데이터 분석 과정"
      ],
      "metadata": {
        "id": "J5zelwQPc-FO"
      }
    },
    {
      "cell_type": "markdown",
      "source": [
        "### 3.1.1 빅데이터 분석과정의 이해"
      ],
      "metadata": {
        "id": "ONGFFuamdLIT"
      }
    },
    {
      "cell_type": "markdown",
      "source": [
        "### 3.1.2 사이킷런 패키지"
      ],
      "metadata": {
        "id": "nojEcdJAdM6t"
      }
    },
    {
      "cell_type": "markdown",
      "source": [
        "### 3.1.3 분석모델 성능 평가 방법\n"
      ],
      "metadata": {
        "id": "4P8z7caZdM8-"
      }
    },
    {
      "cell_type": "markdown",
      "source": [
        "#### 지도학습-회귀(예측)"
      ],
      "metadata": {
        "id": "DO_96fL4sgPH"
      }
    },
    {
      "cell_type": "code",
      "source": [
        "# 지도학습-회귀(예측)\n",
        "## mse(mean squared error)\n",
        "## rmse(root mse)\n",
        "## rmsle(root mean squared logarithmic error)\n",
        "## mae(mean absolute error)\n",
        "## r2 (r-squared)\n",
        "## adjusted r2\n",
        "## mspe(mean squared percentage error)\n",
        "## mape(mean absolute percentage error)\n",
        "## aic (akaike information criterion)\n",
        "## bic (bayes information criterion)"
      ],
      "metadata": {
        "id": "3Xmghuu9bJ7O"
      },
      "execution_count": null,
      "outputs": []
    },
    {
      "cell_type": "code",
      "source": [
        "import pandas as pd\n",
        "from sklearn.model_selection import train_test_split\n",
        "from sklearn.linear_model import LinearRegression\n",
        "\n",
        "# 단순 선형회귀 분석용 데이터\n",
        "# mpg : 연비\n",
        "# cylinders:실린더개수\n",
        "# displacement : 배기량\n",
        "# acceleration:가속력\n",
        "# model year : 출시년도\n",
        "auto_mpg = pd.read_csv(\"/content/drive/MyDrive/bigdata_sample/auto-mpg.csv\")\n",
        "\n",
        "# 전처리 및 모델 fitting\n",
        "auto_mpg[\"horsepower\"] = auto_mpg[\"horsepower\"].fillna(auto_mpg[\"horsepower\"].mean())\n",
        "x = auto_mpg[[\"weight\"]]\n",
        "y = auto_mpg[\"mpg\"]\n",
        "x_train, x_test, y_train, y_test = train_test_split(x, y, test_size=0.2, random_state=10)\n",
        "model = LinearRegression()\n",
        "model.fit(x_train,y_train)\n",
        "pred = model.predict(x_test)\n",
        "\n",
        "# 다중선형\n",
        "x_mul = auto_mpg[[\"weight\",\"horsepower\",\"cylinders\",\"displacement\"]]\n",
        "y_mul = auto_mpg[\"mpg\"]\n",
        "x_train_mul, x_test_mul, y_train_mul, y_test_mul = train_test_split(x_mul, y_mul, test_size=0.2, random_state=10)\n",
        "model_mul = LinearRegression()\n",
        "model_mul.fit(x_train_mul,y_train_mul)\n",
        "pred_mul = model_mul.predict(x_test_mul)\n"
      ],
      "metadata": {
        "id": "inLZywXIb9xN"
      },
      "execution_count": null,
      "outputs": []
    },
    {
      "cell_type": "code",
      "source": [
        "from sklearn.metrics import mean_squared_error, mean_absolute_error,mean_absolute_percentage_error ,mean_squared_log_error\n",
        "import numpy as np\n",
        "import statsmodels.api as sm\n",
        "\n",
        "## mse(mean squared error)\n",
        "mse = mean_squared_error(y_test, pred)\n",
        "mse_cal = sum((y_test-pred)**2)/len(y_test)\n",
        "print(\"mse : \", mse, mse_cal)\n",
        "\n",
        "## rmse(root mse)\n",
        "rmse = np.sqrt(mse)\n",
        "print(\"rmse : \", rmse)\n",
        "\n",
        "## rmsle(root mean squared logarithmic error)\n",
        "msle = mean_squared_log_error(y_test, pred)\n",
        "print(\"msle : \", msle)\n",
        "\n",
        "## mae(mean absolute error)\n",
        "mae = mean_absolute_error(y_test, pred)\n",
        "mae_cal = sum(abs(y_test-pred))/len(y_test)\n",
        "print(\"mae : \", mae, mae_cal)\n",
        "\n",
        "## r2 (r-squared)\n",
        "r2 = r2_score(y_test, pred)\n",
        "def r2_cal(y_test, pred):\n",
        "  y_mean = y_test.mean()\n",
        "  SST = sum((y_test-y_mean)**2)\n",
        "  SSR = sum((y_test-pred)**2) # 설명이 안된부분\n",
        "  SSE = sum((pred-y_mean)**2) # 설명이 된 부분\n",
        "  r2 = 1-SSR/SST\n",
        "  # r2 = SSE/SST\n",
        "  return r2\n",
        "print(\"r2 : \", r2, r2_cal(y_test, pred))\n",
        "\n",
        "## adjusted r2\n",
        "n = len(y_test_mul)\n",
        "k = x_test_mul.shape[1]\n",
        "r2_mul = r2_score(y_test_mul, pred_mul)\n",
        "r2_adj = 1-(n-1)*(1-r2_mul)/(n-k-1)\n",
        "print(\"r2_adj : \", r2_adj)\n",
        "\n",
        "\n",
        "## mspe(mean squared percentage error)\n",
        "mspe = sum(((y_test-pred)/y_test)**2)/len(y_test)\n",
        "print(\"mspe : \", mspe)\n",
        "\n",
        "## mape(mean absolute percentage error)\n",
        "mape = mean_absolute_percentage_error(y_test, pred)\n",
        "mape_cal = sum(abs((y_test-pred)/y_test))/len(y_test)\n",
        "print(\"mape : \", mape, mape_cal)\n",
        "\n",
        "## aic (akaike information criterion)\n",
        "## bic (bayes information criterion)\n",
        "\n",
        "\n"
      ],
      "metadata": {
        "id": "6gof6xAocq6j"
      },
      "execution_count": null,
      "outputs": []
    },
    {
      "cell_type": "markdown",
      "source": [
        "#### 지도학습-분류"
      ],
      "metadata": {
        "id": "D5sRiFNKsj6r"
      }
    },
    {
      "cell_type": "code",
      "source": [
        "# confusion matrix(오차행렬)\n",
        "# accuracy 정확도\n",
        "# precision 정밀도\n",
        "# recall 재현율\n",
        "# f1 score\n",
        "# roc\n",
        "# auc\n"
      ],
      "metadata": {
        "id": "PsPF_nzmsmYM"
      },
      "execution_count": null,
      "outputs": []
    },
    {
      "cell_type": "code",
      "source": [
        "import pandas as pd\n",
        "from sklearn.preprocessing import LabelEncoder\n",
        "from sklearn.model_selection import train_test_split\n",
        "from sklearn.tree import DecisionTreeClassifier\n",
        "titanic = pd.read_csv(\"/content/drive/MyDrive/bigdata_sample/titanic.csv\")\n",
        "\n",
        "\n",
        "# 전처리\n",
        "titanic.drop(\"Cabin\", axis=1, inplace=True)\n",
        "titanic[\"Age\"] = titanic[\"Age\"].fillna(titanic[\"Age\"].mean())\n",
        "titanic[\"Embarked\"] = titanic[\"Embarked\"].fillna(titanic[\"Embarked\"].mode()[0])\n",
        "titanic[\"FamilySize\"] = titanic[\"SibSp\"]+titanic[\"Parch\"]\n",
        "titanic[\"Sex\"] = LabelEncoder().fit_transform(titanic[\"Sex\"])\n",
        "titanic[\"Embarked\"] = LabelEncoder().fit_transform(titanic[\"Embarked\"])\n",
        "\n",
        "y = titanic[\"Survived\"]\n",
        "x = titanic[[\"Pclass\",\"Sex\",\"Age\",\"Fare\",\"Embarked\",\"FamilySize\"]]\n",
        "x_train, x_test, y_train, y_test = train_test_split(x,y, test_size=0.2, random_state=10)\n",
        "\n",
        "\n",
        "# 모델 fitting\n",
        "model = DecisionTreeClassifier()\n",
        "model.fit(x_train, y_train)\n",
        "pred = model.predict(x_test)\n"
      ],
      "metadata": {
        "id": "inbTJ14ptW5W"
      },
      "execution_count": null,
      "outputs": []
    },
    {
      "cell_type": "code",
      "source": [
        "from sklearn.metrics import confusion_matrix, accuracy_score, precision_score, recall_score, f1_score\n",
        "from sklearn.metrics import classification_report\n",
        "from sklearn.metrics import auc, roc_auc_score, roc_curve\n",
        "from sklearn.metrics import RocCurveDisplay\n",
        "import matplotlib.pyplot as plt\n",
        "\n",
        "rept = classification_report(y_test, pred)\n",
        "print(rept)\n",
        "\n",
        "# confusion matrix(오차행렬)\n",
        "confu = confusion_matrix(y_test, pred)\n",
        "print(\"confusion matrix : \\n\", confu)\n",
        "\n",
        "# x축이 모델 y축이 실제답\n",
        "TN = confu[0][0]\n",
        "FP = confu[0][1]\n",
        "FN = confu[1][0]\n",
        "TP = confu[1][1]\n",
        "\n",
        "# accuracy 정확도\n",
        "acc = accuracy_score(y_test, pred)\n",
        "acc_cal = (TN+TP)/(TN+FN+FP+TP)\n",
        "print(\"accuracy : \", acc, acc_cal)\n",
        "\n",
        "# precision 정밀도\n",
        "prec = precision_score(y_test, pred)\n",
        "prec_cal_p = TP/(TP+FP)\n",
        "prec_cal_n = TN/(TN+FN)\n",
        "print(\"precision : \", prec, prec_cal_p, prec_cal_n)\n",
        "\n",
        "# recall 재현율\n",
        "rec = recall_score(y_test,pred)\n",
        "rec_cal_p = TP/(TP+FN)\n",
        "rec_cal_n = TN/(TN+FP)\n",
        "print(\"recall : \", rec, rec_cal_p, rec_cal_n)\n",
        "\n",
        "# f1 score\n",
        "f1 = f1_score(y_test, pred)\n",
        "f1_cal_p = 2*(prec_cal_p*rec_cal_p)/(prec_cal_p+rec_cal_p)\n",
        "f1_cal_n = 2*(prec_cal_n*rec_cal_n)/(prec_cal_n+rec_cal_n)\n",
        "print(\"f1 score : \", f1, f1_cal_p, f1_cal_n)\n",
        "\n",
        "\n",
        "# roc, auc\n",
        "fpr_cal = FP/(FP+TN)\n",
        "tpr_cal = TP/(TP+FN)\n",
        "fpr, tpr, thresholds = roc_curve(y_test, pred)\n",
        "print(\"fpr: \", fpr, fpr_cal)\n",
        "print(\"tpr: \", tpr, tpr_cal)\n",
        "\n",
        "auc_score = auc(fpr, tpr)\n",
        "auc_score2 = roc_auc_score(y_test,pred)\n",
        "print(\"auc_score : \", auc_score, auc_score2)\n",
        "\n",
        "display = RocCurveDisplay(fpr=fpr, tpr=tpr, roc_auc=auc_score)\n",
        "display.plot()\n",
        "plt.show()\n"
      ],
      "metadata": {
        "id": "TXB2D1lJv2dG"
      },
      "execution_count": null,
      "outputs": []
    },
    {
      "cell_type": "markdown",
      "source": [
        "#### 비지도학습"
      ],
      "metadata": {
        "id": "nrtjvoI_5rgA"
      }
    },
    {
      "cell_type": "code",
      "source": [
        "#silhouette(실루엣 계수)\n",
        "#Dunn Index\n"
      ],
      "metadata": {
        "id": "w6uhHWZU5tiZ"
      },
      "execution_count": null,
      "outputs": []
    },
    {
      "cell_type": "code",
      "source": [
        "import pandas as pd\n",
        "from sklearn.preprocessing import LabelEncoder\n",
        "from sklearn.cluster import KMeans\n",
        "\n",
        "iris=pd.read_csv(\"/content/drive/MyDrive/bigdata_sample/iris.csv\")\n",
        "\n",
        "# 전처리\n",
        "iris[\"species\"] = LabelEncoder().fit_transform(iris[\"species\"])\n",
        "# x = iris.drop(\"species\", axis=1)\n",
        "x = iris.copy()\n",
        "# fitting\n",
        "model = KMeans(n_clusters=3, n_init=10, max_iter=500, random_state=42)\n",
        "model.fit(x)\n",
        "\n",
        "cluster_center = model.cluster_centers_\n",
        "cluster_prediction = model.predict(x)\n",
        "\n",
        "print(cluster_center)\n",
        "print(cluster_prediction)\n",
        "# print(pd.DataFrame(cluster_center))\n",
        "# print(cluster_prediction)\n",
        "inertia = model.inertia_\n",
        "print(\"inertia : \", inertia)\n",
        "sco = model.score(iris)\n",
        "print(sco)"
      ],
      "metadata": {
        "colab": {
          "base_uri": "https://localhost:8080/"
        },
        "id": "bBFofKoC6Idv",
        "outputId": "f61ea523-9fb7-4561-d299-b28d140e4f26"
      },
      "execution_count": 221,
      "outputs": [
        {
          "output_type": "stream",
          "name": "stdout",
          "text": [
            "[[6.62244898 2.98367347 5.57346939 2.03265306 2.        ]\n",
            " [5.006      3.428      1.462      0.246      0.        ]\n",
            " [5.91568627 2.76470588 4.26470588 1.33333333 1.01960784]]\n",
            "[1 1 1 1 1 1 1 1 1 1 1 1 1 1 1 1 1 1 1 1 1 1 1 1 1 1 1 1 1 1 1 1 1 1 1 1 1\n",
            " 1 1 1 1 1 1 1 1 1 1 1 1 1 2 2 2 2 2 2 2 2 2 2 2 2 2 2 2 2 2 2 2 2 2 2 2 2\n",
            " 2 2 2 2 2 2 2 2 2 2 2 2 2 2 2 2 2 2 2 2 2 2 2 2 2 2 0 0 0 0 0 0 2 0 0 0 0\n",
            " 0 0 0 0 0 0 0 0 0 0 0 0 0 0 0 0 0 0 0 0 0 0 0 0 0 0 0 0 0 0 0 0 0 0 0 0 0\n",
            " 0 0]\n",
            "inertia :  87.22062785114048\n",
            "-87.22062785114046\n"
          ]
        }
      ]
    },
    {
      "cell_type": "code",
      "source": [
        "from sklearn.metrics import silhouette_score, silhouette_samples\n",
        "\n",
        "iris_property = iris.drop(\"species\", axis=1)\n",
        "labels = cluster_prediction\n",
        "# print(iris_property)\n",
        "silhouette = silhouette_score(iris_property, labels)\n",
        "print(silhouette)\n",
        "\n",
        "score_samples = silhouette_samples(iris_property, labels)\n",
        "iris_property['silhouette_coeff'] = score_samples\n",
        "average_score = silhouette_score(iris_property, labels)\n",
        "\n",
        "iris_property.head(3)"
      ],
      "metadata": {
        "colab": {
          "base_uri": "https://localhost:8080/",
          "height": 161
        },
        "id": "JHailP628yL4",
        "outputId": "09a54789-08ac-4689-8dbb-113120747104"
      },
      "execution_count": 231,
      "outputs": [
        {
          "output_type": "stream",
          "name": "stdout",
          "text": [
            "0.5111496981090736\n"
          ]
        },
        {
          "output_type": "execute_result",
          "data": {
            "text/plain": [
              "   sepal_length  sepal_width  petal_length  petal_width  silhouette_coeff\n",
              "0           5.1          3.5           1.4          0.2          0.846713\n",
              "1           4.9          3.0           1.4          0.2          0.807609\n",
              "2           4.7          3.2           1.3          0.2          0.822507"
            ],
            "text/html": [
              "\n",
              "  <div id=\"df-d3d5b326-45e0-4a34-a9ae-472e7b48babb\">\n",
              "    <div class=\"colab-df-container\">\n",
              "      <div>\n",
              "<style scoped>\n",
              "    .dataframe tbody tr th:only-of-type {\n",
              "        vertical-align: middle;\n",
              "    }\n",
              "\n",
              "    .dataframe tbody tr th {\n",
              "        vertical-align: top;\n",
              "    }\n",
              "\n",
              "    .dataframe thead th {\n",
              "        text-align: right;\n",
              "    }\n",
              "</style>\n",
              "<table border=\"1\" class=\"dataframe\">\n",
              "  <thead>\n",
              "    <tr style=\"text-align: right;\">\n",
              "      <th></th>\n",
              "      <th>sepal_length</th>\n",
              "      <th>sepal_width</th>\n",
              "      <th>petal_length</th>\n",
              "      <th>petal_width</th>\n",
              "      <th>silhouette_coeff</th>\n",
              "    </tr>\n",
              "  </thead>\n",
              "  <tbody>\n",
              "    <tr>\n",
              "      <th>0</th>\n",
              "      <td>5.1</td>\n",
              "      <td>3.5</td>\n",
              "      <td>1.4</td>\n",
              "      <td>0.2</td>\n",
              "      <td>0.846713</td>\n",
              "    </tr>\n",
              "    <tr>\n",
              "      <th>1</th>\n",
              "      <td>4.9</td>\n",
              "      <td>3.0</td>\n",
              "      <td>1.4</td>\n",
              "      <td>0.2</td>\n",
              "      <td>0.807609</td>\n",
              "    </tr>\n",
              "    <tr>\n",
              "      <th>2</th>\n",
              "      <td>4.7</td>\n",
              "      <td>3.2</td>\n",
              "      <td>1.3</td>\n",
              "      <td>0.2</td>\n",
              "      <td>0.822507</td>\n",
              "    </tr>\n",
              "  </tbody>\n",
              "</table>\n",
              "</div>\n",
              "      <button class=\"colab-df-convert\" onclick=\"convertToInteractive('df-d3d5b326-45e0-4a34-a9ae-472e7b48babb')\"\n",
              "              title=\"Convert this dataframe to an interactive table.\"\n",
              "              style=\"display:none;\">\n",
              "        \n",
              "  <svg xmlns=\"http://www.w3.org/2000/svg\" height=\"24px\"viewBox=\"0 0 24 24\"\n",
              "       width=\"24px\">\n",
              "    <path d=\"M0 0h24v24H0V0z\" fill=\"none\"/>\n",
              "    <path d=\"M18.56 5.44l.94 2.06.94-2.06 2.06-.94-2.06-.94-.94-2.06-.94 2.06-2.06.94zm-11 1L8.5 8.5l.94-2.06 2.06-.94-2.06-.94L8.5 2.5l-.94 2.06-2.06.94zm10 10l.94 2.06.94-2.06 2.06-.94-2.06-.94-.94-2.06-.94 2.06-2.06.94z\"/><path d=\"M17.41 7.96l-1.37-1.37c-.4-.4-.92-.59-1.43-.59-.52 0-1.04.2-1.43.59L10.3 9.45l-7.72 7.72c-.78.78-.78 2.05 0 2.83L4 21.41c.39.39.9.59 1.41.59.51 0 1.02-.2 1.41-.59l7.78-7.78 2.81-2.81c.8-.78.8-2.07 0-2.86zM5.41 20L4 18.59l7.72-7.72 1.47 1.35L5.41 20z\"/>\n",
              "  </svg>\n",
              "      </button>\n",
              "      \n",
              "  <style>\n",
              "    .colab-df-container {\n",
              "      display:flex;\n",
              "      flex-wrap:wrap;\n",
              "      gap: 12px;\n",
              "    }\n",
              "\n",
              "    .colab-df-convert {\n",
              "      background-color: #E8F0FE;\n",
              "      border: none;\n",
              "      border-radius: 50%;\n",
              "      cursor: pointer;\n",
              "      display: none;\n",
              "      fill: #1967D2;\n",
              "      height: 32px;\n",
              "      padding: 0 0 0 0;\n",
              "      width: 32px;\n",
              "    }\n",
              "\n",
              "    .colab-df-convert:hover {\n",
              "      background-color: #E2EBFA;\n",
              "      box-shadow: 0px 1px 2px rgba(60, 64, 67, 0.3), 0px 1px 3px 1px rgba(60, 64, 67, 0.15);\n",
              "      fill: #174EA6;\n",
              "    }\n",
              "\n",
              "    [theme=dark] .colab-df-convert {\n",
              "      background-color: #3B4455;\n",
              "      fill: #D2E3FC;\n",
              "    }\n",
              "\n",
              "    [theme=dark] .colab-df-convert:hover {\n",
              "      background-color: #434B5C;\n",
              "      box-shadow: 0px 1px 3px 1px rgba(0, 0, 0, 0.15);\n",
              "      filter: drop-shadow(0px 1px 2px rgba(0, 0, 0, 0.3));\n",
              "      fill: #FFFFFF;\n",
              "    }\n",
              "  </style>\n",
              "\n",
              "      <script>\n",
              "        const buttonEl =\n",
              "          document.querySelector('#df-d3d5b326-45e0-4a34-a9ae-472e7b48babb button.colab-df-convert');\n",
              "        buttonEl.style.display =\n",
              "          google.colab.kernel.accessAllowed ? 'block' : 'none';\n",
              "\n",
              "        async function convertToInteractive(key) {\n",
              "          const element = document.querySelector('#df-d3d5b326-45e0-4a34-a9ae-472e7b48babb');\n",
              "          const dataTable =\n",
              "            await google.colab.kernel.invokeFunction('convertToInteractive',\n",
              "                                                     [key], {});\n",
              "          if (!dataTable) return;\n",
              "\n",
              "          const docLinkHtml = 'Like what you see? Visit the ' +\n",
              "            '<a target=\"_blank\" href=https://colab.research.google.com/notebooks/data_table.ipynb>data table notebook</a>'\n",
              "            + ' to learn more about interactive tables.';\n",
              "          element.innerHTML = '';\n",
              "          dataTable['output_type'] = 'display_data';\n",
              "          await google.colab.output.renderOutput(dataTable, element);\n",
              "          const docLink = document.createElement('div');\n",
              "          docLink.innerHTML = docLinkHtml;\n",
              "          element.appendChild(docLink);\n",
              "        }\n",
              "      </script>\n",
              "    </div>\n",
              "  </div>\n",
              "  "
            ]
          },
          "metadata": {},
          "execution_count": 231
        }
      ]
    },
    {
      "cell_type": "markdown",
      "source": [
        "## 3.2 지도학습 - 분류"
      ],
      "metadata": {
        "id": "KbsPXf1xdDCU"
      }
    },
    {
      "cell_type": "code",
      "source": [
        "import pandas as pd\n",
        "import numpy as np\n",
        "\n",
        "# 전처리용 모듈\n",
        "from sklearn.preprocessing import LabelEncoder, MinMaxScaler, StandardScaler\n",
        "from sklearn.model_selection import train_test_split\n",
        "\n",
        "# 분류 모델 모듈\n",
        "from sklearn.tree import DecisionTreeClassifier\n",
        "from sklearn.neighbors import KNeighborsClassifier\n",
        "from sklearn.linear_model import LogisticRegression\n",
        "from sklearn.ensemble import RandomForestClassifier\n",
        "from sklearn.svm import SVC\n",
        "\n",
        "# 평가 지표\n",
        "import sklearn.metrics as metric\n",
        "\n"
      ],
      "metadata": {
        "id": "VPtjTog70qNJ"
      },
      "execution_count": null,
      "outputs": []
    },
    {
      "cell_type": "code",
      "source": [
        "# 데이터\n",
        "titanic = pd.read_csv(\"/content/drive/MyDrive/bigdata_sample/titanic.csv\")\n",
        "\n",
        "df = pd.read_csv(\"/content/drive/MyDrive/bigdata_sample/Bank_Personal_Loan_Modelling.csv\")\n",
        "# df = pd.read_csv(\"\")\n",
        "print(df)\n",
        "print(df.info())\n",
        "print(df.describe(include=\"all\"))\n"
      ],
      "metadata": {
        "id": "nQeJeiBS3LMB"
      },
      "execution_count": null,
      "outputs": []
    },
    {
      "cell_type": "code",
      "source": [
        "# 전처리\n",
        "## 의사결정나무\n",
        "### 범주형 변수 지수형으로 변환해야함\n",
        "titanic = pd.read_csv(\"/content/drive/MyDrive/bigdata_sample/titanic.csv\")\n",
        "titanic.drop(\"Cabin\", axis=1, inplace=True)\n",
        "titanic[\"Age\"].fillna(titanic[\"Age\"].mean(), inplace=True)\n",
        "titanic[\"Embarked\"].fillna(titanic[\"Embarked\"].mode()[0], inplace=True)\n",
        "print(titanic.info())\n",
        "le = LabelEncoder()\n",
        "titanic[\"Sex\"] =le.fit_transform(titanic[\"Sex\"])\n",
        "titanic[\"Embarked\"]= le.fit_transform(titanic[\"Embarked\"])\n",
        "y = titanic[\"Survived\"]\n",
        "x = titanic[[\"Pclass\",\"Sex\",\"Age\",\"Fare\",\"Embarked\"]]\n",
        "\n",
        "x_train, x_test, y_train, y_test = train_test_split(x,y,test_size=0.2,random_state=11)\n",
        "\n",
        "model = DecisionTreeClassifier()\n",
        "model.fit(x_train, y_train)\n",
        "pred = model.predict(x_test)\n",
        "acc = metric.accuracy_score(y_test, pred)\n",
        "print(acc)\n",
        "# print(dir(metric))\n",
        "rept = metric.classification_report(y_test,pred)\n",
        "conf = metric.confusion_matrix(y_test,pred)\n",
        "\n",
        "print(rept)\n",
        "print(conf)\n",
        "\n",
        "print(98/(98+16))\n",
        "\n"
      ],
      "metadata": {
        "id": "HNku50rS4BZn"
      },
      "execution_count": null,
      "outputs": []
    },
    {
      "cell_type": "code",
      "source": [
        "# 공통 작업\n",
        "## 데이터 분할\n",
        "## 모델 fitting\n",
        "## 모델 prediction\n",
        "## 모델 평가\n",
        "print(2*0.84*0.82/(0.84+0.82))\n"
      ],
      "metadata": {
        "id": "ch4508TG3-qn"
      },
      "execution_count": null,
      "outputs": []
    },
    {
      "cell_type": "markdown",
      "source": [
        "### 3.2.1 의사결정나무"
      ],
      "metadata": {
        "id": "wZf-VcKvdgMy"
      }
    },
    {
      "cell_type": "code",
      "source": [
        "import numpy as np\n",
        "import pandas as pd\n",
        "import sklearn\n",
        "\n",
        "from sklearn.tree import DecisionTreeClassifier\n",
        "from sklearn.model_selection import train_test_split\n",
        "\n",
        "df = pd.read_csv(\"/content/drive/MyDrive/bigdata_sample/titanic.csv\")"
      ],
      "metadata": {
        "id": "mMhPLLfZgELy"
      },
      "execution_count": null,
      "outputs": []
    },
    {
      "cell_type": "code",
      "source": [
        "df2 = df.copy()\n",
        "print(df2.info())"
      ],
      "metadata": {
        "id": "6DneJ6uNgVU4"
      },
      "execution_count": null,
      "outputs": []
    },
    {
      "cell_type": "code",
      "source": [
        "# 데이터 전처리\n",
        "df2 = df.copy()\n",
        "avg_age = df2[\"Age\"].mean()\n",
        "df2[\"Age\"] = df2[\"Age\"].fillna(avg_age)\n",
        "df2.drop(\"Cabin\", inplace= True, axis=1)\n",
        "df2[\"Embarked\"] = df2[\"Embarked\"].fillna(df2[\"Embarked\"].mode()[0])\n",
        "print(df2.info())\n",
        "\n",
        "from sklearn.preprocessing import LabelEncoder\n",
        "print(df2.describe(include='all'))\n",
        "\n",
        "# 레이블 인코딩 : 범주형 변수를 숫자형으로 변환\n",
        "df2[\"Sex\"] = LabelEncoder().fit_transform(df2[\"Sex\"])\n",
        "df2[\"Embarked\"] = LabelEncoder().fit_transform(df2[\"Embarked\"])\n",
        "print(df2.head(10))\n",
        "\n",
        "# 파생 변수 생성\n",
        "df2[\"FamilySize\"] = df2[\"SibSp\"]+df2[\"Parch\"]\n",
        "print(df2.info())"
      ],
      "metadata": {
        "id": "vXqJiZ2NguSr"
      },
      "execution_count": null,
      "outputs": []
    },
    {
      "cell_type": "code",
      "source": [
        "# 분석용 데이터 셋 준비\n",
        "df3 = df2.copy()\n",
        "x = df3[[\"Pclass\",\"Sex\",\"Age\",\"Fare\",\"Embarked\",\"FamilySize\"]]\n",
        "y = df3[\"Survived\"]\n",
        "\n",
        "# 학습 / 테스트 데이터 분할\n",
        "x_train, x_test, y_train, y_test = train_test_split(x,y, test_size=0.2 , random_state=11)\n",
        "print(x_train.shape, x_test.shape, y_train.shape, y_test.shape)\n"
      ],
      "metadata": {
        "id": "sw00dW-1izxN"
      },
      "execution_count": null,
      "outputs": []
    },
    {
      "cell_type": "code",
      "source": [
        "# 데이터 분석\n",
        "dt=DecisionTreeClassifier(random_state=11)\n",
        "dt.fit(x_train, y_train)\n",
        "\n",
        "pred = dt.predict(x_test)\n",
        "\n",
        "# 성능 평가\n",
        "from sklearn.metrics import accuracy_score\n",
        "acc = accuracy_score(y_test, pred)\n",
        "print(acc)"
      ],
      "metadata": {
        "id": "wgEXWDkejxex"
      },
      "execution_count": null,
      "outputs": []
    },
    {
      "cell_type": "markdown",
      "source": [
        "### 3.2.2 KNN"
      ],
      "metadata": {
        "id": "Nc8L_vuYdjmG"
      }
    },
    {
      "cell_type": "code",
      "source": [
        "import pandas as pd\n",
        "import numpy as np\n",
        "\n",
        "df = pd.read_csv(\"/content/drive/MyDrive/bigdata_sample/iris.csv\")"
      ],
      "metadata": {
        "id": "35zX8jYEsatw"
      },
      "execution_count": null,
      "outputs": []
    },
    {
      "cell_type": "code",
      "source": [
        "# 데이터 탐색\n",
        "df2 = df.copy()\n",
        "print(df2.head())\n",
        "print(df2.info())\n",
        "print(df2.describe(include=\"all\"))"
      ],
      "metadata": {
        "id": "X-umvCJZsrP5"
      },
      "execution_count": null,
      "outputs": []
    },
    {
      "cell_type": "code",
      "source": [
        "from sklearn.preprocessing import MinMaxScaler\n",
        "\n",
        "# 데이터 전처리\n",
        "minmax = MinMaxScaler()\n",
        "df2[\"sepal_length\"] = minmax.fit_transform(df2[[\"sepal_length\"]])\n",
        "df2[\"sepal_width\"] = minmax.fit_transform(df2[[\"sepal_width\"]])\n",
        "df2[\"petal_length\"] = minmax.fit_transform(df2[[\"petal_length\"]])\n",
        "df2[\"petal_width\"] = minmax.fit_transform(df2[[\"petal_width\"]])\n",
        "\n",
        "print(df2)"
      ],
      "metadata": {
        "id": "10RkjlD3s16h"
      },
      "execution_count": null,
      "outputs": []
    },
    {
      "cell_type": "code",
      "source": [
        "# 데이터 셋 준비\n",
        "df3 = df2.copy()\n",
        "x = df3[[\"sepal_length\", \"sepal_width\", \"petal_length\", \"petal_width\"]]\n",
        "y = df3[\"species\"]\n",
        "\n",
        "# 데이터 분할\n",
        "from sklearn.model_selection import train_test_split\n",
        "x_train, x_test, y_train, y_test = train_test_split(x, y, test_size=0.2, random_state=11)\n",
        "print(x_train.shape, x_test.shape, y_train.shape, y_test.shape)"
      ],
      "metadata": {
        "id": "0BoMtdo9wLbL"
      },
      "execution_count": null,
      "outputs": []
    },
    {
      "cell_type": "code",
      "source": [
        "from sklearn.neighbors import KNeighborsClassifier\n",
        "\n",
        "# 분석\n",
        "knn = KNeighborsClassifier(n_neighbors=3) # n_neighbors값이 달라짐에 따라 성능 달라짐 조정\n",
        "knn.fit(x_train, y_train)\n",
        "pred = knn.predict(x_test)\n",
        "\n",
        "# 성능 측정\n",
        "from sklearn.metrics import accuracy_score\n",
        "acc = accuracy_score(y_test, pred)\n",
        "print(acc)\n"
      ],
      "metadata": {
        "id": "aPpkZwE0xkYS"
      },
      "execution_count": null,
      "outputs": []
    },
    {
      "cell_type": "code",
      "source": [
        "import pandas as pd\n",
        "import numpy as np\n",
        "\n",
        "df = pd.read_csv(\"/content/drive/MyDrive/bigdata_sample/titanic.csv\")\n",
        "# print(df.head(5))\n",
        "# print(df.info())\n",
        "# print(df.describe(include='all'))\n",
        "\n",
        "df[\"Age\"].fillna(df[\"Age\"].mean(), inplace=True)\n",
        "df.drop(\"Cabin\", axis=1, inplace=True)\n",
        "df[\"Embarked\"].fillna(df[\"Embarked\"].mode()[0], inplace=True)\n",
        "df[\"FamilySize\"] = df[\"SibSp\"] + df[\"Parch\"]\n",
        "\n",
        "from sklearn.preprocessing import LabelEncoder\n",
        "le = LabelEncoder()\n",
        "df[\"Sex\"]=le.fit_transform(df[\"Sex\"])\n",
        "df[\"Embarked\"] = le.fit_transform(df[\"Embarked\"])\n",
        "# print(df.groupby(\"Sex\").size())\n",
        "# print(df.groupby(\"Embarked\").size())\n",
        "\n",
        "# 수기변환\n",
        "# df[\"Sex\"]= df[\"Sex\"].replace(\"female\",1)\n",
        "# df[\"Sex\"]= df[\"Sex\"].replace(\"male\",2)\n",
        "# df[\"Embarked\"]= df[\"Embarked\"].replace(\"C\",1)\n",
        "# df[\"Embarked\"]= df[\"Embarked\"].replace(\"Q\",2)\n",
        "# df[\"Embarked\"]= df[\"Embarked\"].replace(\"S\",3)\n",
        "# print(df.groupby(\"Sex\").size())\n",
        "# print(df.groupby(\"Embarked\").size())\n",
        "\n",
        "from sklearn.model_selection import train_test_split\n",
        "y = df[\"Survived\"]\n",
        "x = df[[\"Pclass\",\"Sex\",\"Age\",\"Fare\",\"Embarked\",\"FamilySize\"]]\n",
        "\n",
        "x_train, x_test, y_train, y_test = train_test_split(x, y, test_size=0.2, random_state=11)\n",
        "print(x_train.shape,x_test.shape,y_train.shape,y_test.shape)\n",
        "from sklearn.neighbors import KNeighborsClassifier\n",
        "knn = KNeighborsClassifier(n_neighbors=15)\n",
        "knn.fit(x_train, y_train)\n",
        "pred = knn.predict(x_test)\n",
        "\n",
        "\n",
        "from sklearn.metrics import accuracy_score\n",
        "acc = accuracy_score(y_test,pred)\n",
        "print(acc)\n",
        "\n",
        "from sklearn.metrics import classification_report\n",
        "rpt = classification_report(y_test, pred)\n",
        "print(rpt)\n",
        "\n",
        "from sklearn.metrics import confusion_matrix\n",
        "mat = confusion_matrix(y_test,pred)\n",
        "print(mat)\n"
      ],
      "metadata": {
        "id": "vRHqM1xI1V_m"
      },
      "execution_count": null,
      "outputs": []
    },
    {
      "cell_type": "markdown",
      "source": [
        "### 3.2.3 SVM\n"
      ],
      "metadata": {
        "id": "RLp_D6GxdlgA"
      }
    },
    {
      "cell_type": "code",
      "source": [
        "import pandas as pd\n",
        "\n",
        "df = pd.read_csv(\"/content/drive/MyDrive/bigdata_sample/titanic.csv\")\n"
      ],
      "metadata": {
        "id": "UxGRNviRKQy0"
      },
      "execution_count": null,
      "outputs": []
    },
    {
      "cell_type": "code",
      "source": [
        "# 데이터 탐색\n",
        "df2 = df.copy()\n",
        "# print(df.info())\n",
        "# print(df.describe(include=\"all\"))\n",
        "\n",
        "# 전처리\n",
        "df2[\"Age\"] = df2[\"Age\"].fillna(df2[\"Age\"].mean())\n",
        "df2[\"Embarked\"] = df2[\"Embarked\"].fillna(df2[\"Embarked\"].mode()[0])\n",
        "df2.drop(\"Cabin\", axis=1,inplace=True)\n",
        "df2[\"FamilySize\"] = df2[\"SibSp\"] + df2[\"Parch\"]\n",
        "\n",
        "print(df2.info())"
      ],
      "metadata": {
        "id": "bOT87ESNKa3a"
      },
      "execution_count": null,
      "outputs": []
    },
    {
      "cell_type": "code",
      "source": [
        "# one-hot encoding\n",
        "onehot_sex = pd.get_dummies(df2[\"Sex\"])\n",
        "onehot_embarked = pd.get_dummies(df2[\"Embarked\"])\n",
        "df3 = pd.concat([df2, onehot_sex, onehot_embarked], axis=1) # axis 조심\n",
        "print(df3.info())\n"
      ],
      "metadata": {
        "id": "6r7kGqQDLlQR"
      },
      "execution_count": null,
      "outputs": []
    },
    {
      "cell_type": "code",
      "source": [
        "# 분석 데이터셋 준비\n",
        "from sklearn.model_selection import train_test_split\n",
        "y = df3[\"Survived\"]\n",
        "x = df3[[\"Pclass\", \"Age\", \"Fare\", \"FamilySize\", \"female\", \"male\", \"C\", \"Q\", \"S\"]]\n",
        "\n",
        "x_train, x_test, y_train, y_test = train_test_split(x, y,test_size=0.3, random_state=10)\n",
        "print(x_train.shape, x_test.shape, y_train.shape, y_test.shape)"
      ],
      "metadata": {
        "id": "CQG0VBQRMUSW"
      },
      "execution_count": null,
      "outputs": []
    },
    {
      "cell_type": "code",
      "source": [
        "# 분석\n",
        "from sklearn.svm import SVC\n",
        "svm = SVC()\n",
        "svm.fit(x_train,y_train)\n",
        "pred = svm.predict(x_test)\n",
        "\n",
        "from sklearn.metrics import accuracy_score, confusion_matrix, classification_report\n",
        "acc = accuracy_score(y_test, pred)\n",
        "mat = confusion_matrix(y_test, pred)\n",
        "rep = classification_report(y_test, pred)\n",
        "print(acc)\n",
        "print(mat)\n",
        "print(rep)\n",
        "\n"
      ],
      "metadata": {
        "id": "5T8SEsfdK_l1"
      },
      "execution_count": null,
      "outputs": []
    },
    {
      "cell_type": "code",
      "source": [
        "import pandas as pd\n",
        "from sklearn.model_selection import train_test_split\n",
        "from sklearn.svm import SVC\n",
        "from sklearn.metrics import accuracy_score, confusion_matrix, classification_report\n",
        "\n",
        "def svm_test(kerner, c, gamma):\n",
        "  df2 = pd.read_csv(\"/content/drive/MyDrive/bigdata_sample/titanic.csv\")\n",
        "\n",
        "  # 전처리\n",
        "  df2[\"Age\"] = df2[\"Age\"].fillna(df2[\"Age\"].mean())\n",
        "  df2[\"Embarked\"] = df2[\"Embarked\"].fillna(df2[\"Embarked\"].mode()[0])\n",
        "  df2.drop(\"Cabin\", axis=1,inplace=True)\n",
        "  df2[\"FamilySize\"] = df2[\"SibSp\"] + df2[\"Parch\"]\n",
        "\n",
        "  # one-hot encoding\n",
        "  onehot_sex = pd.get_dummies(df2[\"Sex\"])\n",
        "  onehot_embarked = pd.get_dummies(df2[\"Embarked\"])\n",
        "  df3 = pd.concat([df2, onehot_sex, onehot_embarked], axis=1) # axis 조심\n",
        "\n",
        "  # 분석 데이터셋 준비\n",
        "  y = df3[\"Survived\"]\n",
        "  x = df3[[\"Pclass\", \"Age\", \"Fare\", \"FamilySize\", \"female\", \"male\", \"C\", \"Q\", \"S\"]]\n",
        "\n",
        "  x_train, x_test, y_train, y_test = train_test_split(x, y,test_size=0.3, random_state=10)\n",
        "\n",
        "  # 분석\n",
        "  svm = SVC(kernel=kerner, C=c, gamma=gamma)\n",
        "  svm.fit(x_train,y_train)\n",
        "  pred = svm.predict(x_test)\n",
        "  acc = accuracy_score(y_test, pred)\n",
        "  mat = confusion_matrix(y_test, pred)\n",
        "  rep = classification_report(y_test, pred)\n",
        "  print(rep)\n",
        "\n",
        "\n",
        "svm_test('rbf', 1, 0.1)\n"
      ],
      "metadata": {
        "id": "eVK0fkdUP9Ha"
      },
      "execution_count": null,
      "outputs": []
    },
    {
      "cell_type": "markdown",
      "source": [
        "### 3.2.4 로지스틱 회귀"
      ],
      "metadata": {
        "id": "pb7DsJaxdnKy"
      }
    },
    {
      "cell_type": "code",
      "source": [
        "import pandas as pd\n",
        "from sklearn.model_selection import train_test_split\n",
        "df= pd.read_csv(\"/content/drive/MyDrive/bigdata_sample/iris.csv\")\n",
        "\n",
        "\n",
        "# 로지스틱 회귀이므로 전처리 정규화 필요??\n",
        "from sklearn.preprocessing import MinMaxScaler\n",
        "mx = MinMaxScaler()\n",
        "df[\"sepal_length\"] = mx.fit_transform(df[[\"sepal_length\"]])\n",
        "df[\"sepal_width\"] = mx.fit_transform(df[[\"sepal_width\"]])\n",
        "df[\"petal_length\"] = mx.fit_transform(df[[\"petal_length\"]])\n",
        "df[\"petal_width\"] = mx.fit_transform(df[[\"petal_width\"]])\n",
        "\n",
        "# print(df.info())\n",
        "y = df[\"species\"]\n",
        "x = df[[\"sepal_length\", \"sepal_width\", \"petal_length\", \"petal_width\"]]\n",
        "x_train, x_test, y_train, y_test = train_test_split(x, y, test_size=0.2, random_state=11)\n",
        "# print(x_train.shape, x_test.shape)\n",
        "\n",
        "import sklearn\n",
        "from sklearn.linear_model import LogisticRegression\n",
        "lg = LogisticRegression()\n",
        "lg.fit(x_train, y_train)\n",
        "pred = lg.predict(x_test)\n",
        "\n",
        "from sklearn.metrics import classification_report, accuracy_score\n",
        "rpt = classification_report(y_test, pred)\n",
        "acc = accuracy_score(y_test,pred)\n",
        "print(acc)\n",
        "print(rpt)"
      ],
      "metadata": {
        "id": "7xQrGil1Rkea"
      },
      "execution_count": null,
      "outputs": []
    },
    {
      "cell_type": "markdown",
      "source": [
        "### 3.2.5 랜덤 포레스트"
      ],
      "metadata": {
        "id": "YoBIrogudpGf"
      }
    },
    {
      "cell_type": "code",
      "source": [
        "import sklearn\n",
        "import pandas as pd\n",
        "\n",
        "df = pd.read_csv(\"/content/drive/MyDrive/bigdata_sample/titanic.csv\")\n",
        "\n",
        "df.drop(\"Cabin\", axis=1, inplace = True)\n",
        "df[\"Age\"].fillna(df[\"Age\"].mean(),inplace=True)\n",
        "df[\"Embarked\"].fillna(df[\"Embarked\"].mode()[0], inplace=True)\n",
        "df[\"FamilySize\"] = df[\"SibSp\"] + df[\"Parch\"]\n",
        "\n",
        "from sklearn.preprocessing import LabelEncoder\n",
        "le = LabelEncoder()\n",
        "df[\"Sex\"] = le.fit_transform(df[\"Sex\"])\n",
        "df[\"Embarked\"] = le.fit_transform(df[\"Embarked\"])\n",
        "\n",
        "y=df[\"Survived\"]\n",
        "x=df[[\"Pclass\",\"Sex\",\"Age\",\"Fare\",\"Embarked\",\"FamilySize\"]]\n",
        "\n",
        "from sklearn.model_selection import train_test_split\n",
        "x_train, x_test, y_train, y_test = train_test_split(x, y, test_size=0.2, random_state=11)\n",
        "\n",
        "\n",
        "\n",
        "from sklearn.ensemble import RandomForestClassifier\n",
        "rf = RandomForestClassifier(n_estimators=50, max_depth=3, random_state=20)\n",
        "rf.fit(x_train, y_train)\n",
        "pred = rf.predict(x_test)\n",
        "\n",
        "from sklearn.metrics import classification_report\n",
        "rpt = classification_report(y_test, pred)\n",
        "print(rpt)"
      ],
      "metadata": {
        "id": "CO_X7eTUVmir"
      },
      "execution_count": null,
      "outputs": []
    },
    {
      "cell_type": "markdown",
      "source": [
        "## 3.3 지도학습 - 회귀(예측)"
      ],
      "metadata": {
        "id": "yobWuMnIdFC0"
      }
    },
    {
      "cell_type": "code",
      "source": [
        "import pandas as pd\n",
        "\n",
        "from sklearn.preprocessing import LabelEncoder\n",
        "from sklearn.model_selection import train_test_split\n",
        "\n",
        "from sklearn.linear_model import LinearRegression\n",
        "\n",
        "\n",
        "auto_mpg = pd.read_csv(\"/content/drive/MyDrive/bigdata_sample/auto-mpg.csv\")\n"
      ],
      "metadata": {
        "id": "Jff0ZoRkTbG5"
      },
      "execution_count": null,
      "outputs": []
    },
    {
      "cell_type": "code",
      "source": [
        "# 단순 선형회귀\n",
        "auto_mpg[\"horsepower\"] = auto_mpg[\"horsepower\"].fillna(auto_mpg[\"horsepower\"].mean())\n",
        "print(auto_mpg.info())\n",
        "print(auto_mpg.describe(include=\"all\"))\n",
        "\n",
        "# mpg : 연비\n",
        "# cylinders:실린더개수\n",
        "# displacement : 배기량\n",
        "# acceleration:가속력\n",
        "# model year : 출시년도"
      ],
      "metadata": {
        "id": "4g94ZvRGULHd"
      },
      "execution_count": null,
      "outputs": []
    },
    {
      "cell_type": "code",
      "source": [
        "# print(auto_mpg.corr())\n",
        "x = auto_mpg[[\"weight\"]]\n",
        "y = auto_mpg[\"mpg\"]\n",
        "x_train, x_test, y_train, y_test = train_test_split(x, y, test_size=0.2, random_state=10)\n",
        "\n",
        "#model fitting\n",
        "model = LinearRegression()\n",
        "model.fit(x_train,y_train)\n",
        "intercept = model.intercept_\n",
        "coef = model.coef_\n",
        "pred = model.predict(x_test)\n",
        "pred2 = intercept + x_test*coef\n",
        "pred_df = pred2.copy()\n",
        "pred_df[\"pred\"] = pred\n",
        "pred_df[\"test\"] = pred_df[\"weight\"]==pred_df[\"pred\"]\n",
        "# print(pred_df)\n",
        "\n",
        "from sklearn.metrics import r2_score, mean_squared_error\n",
        "mse = mean_squared_error(y_test, pred)\n",
        "# print(mse)\n",
        "mse_cal = sum((y_test-pred)**2)/len(y_test)\n",
        "print(mse, mse_cal)\n",
        "\n",
        "\n",
        "# pred2 = intercept + coef*x_test\n",
        "\n"
      ],
      "metadata": {
        "id": "0sC4fH1GW75p"
      },
      "execution_count": null,
      "outputs": []
    },
    {
      "cell_type": "markdown",
      "source": [
        "### 3.3.1 단순 선형회귀"
      ],
      "metadata": {
        "id": "3AMh6X7YdrpZ"
      }
    },
    {
      "cell_type": "code",
      "source": [
        "import pandas as pd\n",
        "\n",
        "df = pd.read_csv(\"/content/drive/MyDrive/bigdata_sample/auto-mpg.csv\")\n",
        "\n",
        "print(df.head(5))\n",
        "print(df.info())\n",
        "print(df.describe(include=\"all\"))"
      ],
      "metadata": {
        "id": "KvsX2AzZZbKj"
      },
      "execution_count": null,
      "outputs": []
    },
    {
      "cell_type": "code",
      "source": [
        "# 시각화\n",
        "import matplotlib.pyplot as plt\n",
        "\n",
        "df.plot(kind=\"scatter\", x=\"cylinders\", y=\"mpg\")\n",
        "df.plot(kind=\"scatter\", x=\"displacement\", y=\"mpg\")"
      ],
      "metadata": {
        "id": "9IXS7efNaeJM"
      },
      "execution_count": null,
      "outputs": []
    },
    {
      "cell_type": "code",
      "source": [
        "df2 = df.dropna(axis=0)\n",
        "y = df2[\"mpg\"]\n",
        "x = df2[[\"weight\"]]\n",
        "\n",
        "from sklearn.model_selection import train_test_split\n",
        "x_train, x_test, y_train, y_test = train_test_split(x,y, test_size=0.2, random_state=10)\n",
        "\n",
        "from sklearn.linear_model import LinearRegression\n",
        "lr = LinearRegression()\n",
        "lr.fit(x_train, y_train)\n",
        "pred = lr.predict(x_test)\n",
        "print(lr.coef_)\n",
        "print(lr.intercept_)\n",
        "\n",
        "\n",
        "# 성능 평가\n",
        "from sklearn.metrics import r2_score\n",
        "score = r2_score(y_test, pred)\n",
        "print(score)"
      ],
      "metadata": {
        "id": "ehUaebo0auN1"
      },
      "execution_count": null,
      "outputs": []
    },
    {
      "cell_type": "markdown",
      "source": [
        "### 3.3.2 다중 선형회귀"
      ],
      "metadata": {
        "id": "Pq5BRyDhduMr"
      }
    },
    {
      "cell_type": "code",
      "source": [
        "import pandas as pd\n",
        "\n",
        "df = pd.read_csv(\"/content/drive/MyDrive/bigdata_sample/housing.csv\")\n",
        "\n",
        "print(df.info())\n",
        "print(df.describe(include=\"all\"))\n",
        "print(df.head(5))"
      ],
      "metadata": {
        "id": "scUe53y6dGUT"
      },
      "execution_count": null,
      "outputs": []
    },
    {
      "cell_type": "code",
      "source": [
        "df2 = df.copy()\n",
        "\n",
        "df2.dropna(axis=0, inplace=True)\n",
        "df2.drop(\"ocean_proximity\", axis=1, inplace=True)\n",
        "\n",
        "\n",
        "# 다중 회귀\n",
        "y_m = df2[\"median_house_value\"]\n",
        "x_m = df2.drop(\"median_house_value\", axis=1)\n",
        "# 단순 회귀\n",
        "y = df2[\"median_house_value\"]\n",
        "x = df2[[\"median_income\"]]\n",
        "\n",
        "from sklearn.model_selection import train_test_split\n",
        "x_train, x_test, y_train, y_test = train_test_split(x, y, test_size=0.3, random_state=42)\n",
        "x_train_m, x_test_m, y_train_m, y_test_m = train_test_split(x_m, y_m, test_size=0.3, random_state=42)\n",
        "\n",
        "\n",
        "from sklearn.linear_model import LinearRegression\n",
        "lr = LinearRegression()\n",
        "lr_m = LinearRegression()\n",
        "lr.fit(x_train, y_train)\n",
        "lr_m.fit(x_train_m, y_train_m)\n",
        "\n",
        "from sklearn.metrics import r2_score\n",
        "pred = lr.predict(x_test)\n",
        "pred_m = lr_m.predict(x_test_m)\n",
        "r2 = r2_score(y_test, pred)\n",
        "r2_m = r2_score(y_test_m, pred_m)\n",
        "print(r2, r2_m)\n",
        "\n"
      ],
      "metadata": {
        "id": "ZTRp4YKYecMU"
      },
      "execution_count": null,
      "outputs": []
    },
    {
      "cell_type": "markdown",
      "source": [
        "### 3.3.3 의사결정나무"
      ],
      "metadata": {
        "id": "F2aMzNKadxMc"
      }
    },
    {
      "cell_type": "code",
      "source": [
        "import pandas as pd\n",
        "\n",
        "df = pd.read_csv(\"/content/drive/MyDrive/bigdata_sample/housing.csv\")\n",
        "df2 = df.copy()\n",
        "\n",
        "df2.dropna(axis=0, inplace=True)\n",
        "df2.drop(\"ocean_proximity\", axis=1, inplace=True)\n",
        "\n",
        "y = df2[\"median_house_value\"]\n",
        "x = df2.drop(\"median_house_value\", axis=1)\n",
        "\n",
        "from sklearn.model_selection import train_test_split\n",
        "x_train, x_test, y_train, y_test = train_test_split(x, y, test_size=0.3, random_state=42)\n",
        "\n",
        "from sklearn.tree import DecisionTreeRegressor\n",
        "dt = DecisionTreeRegressor(max_depth=3, random_state=42)\n",
        "dt.fit(x_train, y_train)\n",
        "pred = dt.predict(x_test)\n",
        "\n",
        "from sklearn.metrics import mean_squared_error\n",
        "mse = mean_squared_error(y_test, pred)\n",
        "print(mse)\n",
        "\n"
      ],
      "metadata": {
        "id": "efexgWxXkstg"
      },
      "execution_count": null,
      "outputs": []
    },
    {
      "cell_type": "markdown",
      "source": [
        "### 3.3.4 랜덤 포레스트"
      ],
      "metadata": {
        "id": "iiI-vN-nd0E3"
      }
    },
    {
      "cell_type": "code",
      "source": [
        "import pandas as pd\n",
        "\n",
        "df = pd.read_csv(\"/content/drive/MyDrive/bigdata_sample/housing.csv\")\n",
        "df2 = df.copy()\n",
        "\n",
        "df2.dropna(axis=0, inplace=True)\n",
        "df2.drop(\"ocean_proximity\", axis=1, inplace=True)\n",
        "\n",
        "y = df2[\"median_house_value\"]\n",
        "x = df2.drop(\"median_house_value\", axis=1)\n",
        "\n",
        "from sklearn.model_selection import train_test_split\n",
        "x_train, x_test, y_train, y_test = train_test_split(x, y, test_size=0.3, random_state=42)\n",
        "\n",
        "from sklearn.ensemble import RandomForestRegressor\n",
        "rf = RandomForestRegressor(max_depth=3, random_state=42)\n",
        "rf.fit(x_train, y_train)\n",
        "pred = rf.predict(x_test)\n",
        "\n",
        "from sklearn.metrics import mean_squared_error\n",
        "mse = mean_squared_error(y_test, pred)\n",
        "print(mse)\n",
        "\n"
      ],
      "metadata": {
        "id": "lOnWWfSNmpny"
      },
      "execution_count": null,
      "outputs": []
    },
    {
      "cell_type": "markdown",
      "source": [
        "## 3.4 비지도학습"
      ],
      "metadata": {
        "id": "Ohif3Cf8dILl"
      }
    },
    {
      "cell_type": "markdown",
      "source": [
        "### 3.4.1 군집분석 k-means"
      ],
      "metadata": {
        "id": "qC_HAKA6d2ZC"
      }
    },
    {
      "cell_type": "code",
      "source": [
        "import pandas as pd\n",
        "\n",
        "\n",
        "df=pd.read_csv(\"/content/drive/MyDrive/bigdata_sample/iris.csv\")\n"
      ],
      "metadata": {
        "id": "OhUp7i-0nyvt"
      },
      "execution_count": null,
      "outputs": []
    },
    {
      "cell_type": "code",
      "source": [
        "df2 = df.copy()\n",
        "from sklearn.preprocessing import LabelEncoder\n",
        "le = LabelEncoder()\n",
        "df2[\"species\"] = le.fit_transform(df2[\"species\"])\n",
        "\n",
        "# 시각화\n",
        "import seaborn as sns\n",
        "from matplotlib import pyplot as plt\n",
        "from mpl_toolkits.mplot3d import Axes3D\n",
        "from mpl_toolkits.mplot3d import proj3d\n",
        "\n",
        "# sns.pairplot(df, hue=\"species\")\n",
        "# plt.show()"
      ],
      "metadata": {
        "id": "8lGh3M_boLYg"
      },
      "execution_count": null,
      "outputs": []
    },
    {
      "cell_type": "code",
      "source": [
        "from sklearn.cluster import KMeans\n",
        "cluster1 = KMeans(n_clusters=3, n_init=10, max_iter=500, random_state=42)\n",
        "\n",
        "cluster1.fit(df2)\n",
        "\n",
        "cluster_center = cluster1.cluster_centers_\n",
        "cluster_prediction = cluster1.predict(df2)\n",
        "# print(pd.DataFrame(cluster_center))\n",
        "# print(cluster_prediction)\n",
        "\n",
        "df3 = df2.copy()\n",
        "df3[\"cluster\"] = cluster_prediction\n",
        "print(df3)\n"
      ],
      "metadata": {
        "id": "BEnEYNcRp37w"
      },
      "execution_count": null,
      "outputs": []
    },
    {
      "cell_type": "code",
      "source": [
        "# 성능 시각화\n",
        "scope =range(1,10)\n",
        "inertias =[] #각 군집별 오차제곱합\n",
        "for k in scope:\n",
        "  model = KMeans(n_clusters=k)\n",
        "  model.fit(df2)\n",
        "  inertias.append(model.inertia_)\n",
        "\n",
        "plt.figure(figsize=(4,4))\n",
        "plt.plot(scope, inertias, '-o')\n",
        "plt.xlabel('number of clusters, k')\n",
        "plt.ylabel('inertia')\n",
        "plt.show()"
      ],
      "metadata": {
        "id": "IPI-qhBSsBBr"
      },
      "execution_count": null,
      "outputs": []
    },
    {
      "cell_type": "markdown",
      "source": [
        "### 3.4.2 연관분석"
      ],
      "metadata": {
        "id": "kS3GvUzmd4tJ"
      }
    },
    {
      "cell_type": "code",
      "source": [
        "import sklearn.cluster\n",
        "\n",
        "# dir(sklearn)\n",
        "print(sklearn.__all__)\n",
        "# import sklearn.feature_selection\n",
        "# dir(sklearn.feature_selection)\n",
        "# print(sklearn.datasets.__all__)"
      ],
      "metadata": {
        "id": "2nqAvQjestFP"
      },
      "execution_count": null,
      "outputs": []
    },
    {
      "cell_type": "code",
      "source": [],
      "metadata": {
        "id": "ezZQ66knDL-N"
      },
      "execution_count": null,
      "outputs": []
    }
  ]
}