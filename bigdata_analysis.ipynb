{
  "nbformat": 4,
  "nbformat_minor": 0,
  "metadata": {
    "colab": {
      "provenance": [],
      "collapsed_sections": [
        "TiKqoHbFuRR8",
        "_g4btzlus-Co",
        "mJczy-agsxQU",
        "7sodeiVTs3wV",
        "sIftu-ACOGyh",
        "5wYIrre7OKjJ",
        "y64PxN3AOkm1",
        "85i1-VDeOOtH",
        "LdxGSOSnOz1r",
        "qEsZPyvAOz42",
        "KOgr-pGTOz7q",
        "wz4t4ZVxOz-X",
        "qfR2Tu7rO0BD",
        "8LTuUzMAPDc4",
        "ONGFFuamdLIT",
        "nojEcdJAdM6t",
        "4P8z7caZdM8-"
      ],
      "toc_visible": true,
      "mount_file_id": "1eMGmBxvA56KLdCHOyaWsCV9piz9ovV0a",
      "authorship_tag": "ABX9TyPIB0uxt+dvonSXQrjawypD"
    },
    "kernelspec": {
      "name": "python3",
      "display_name": "Python 3"
    },
    "language_info": {
      "name": "python"
    }
  },
  "cells": [
    {
      "cell_type": "markdown",
      "source": [
        "# **자주 사용하는 단축키**\n",
        "\n",
        "* ctrl + m h : 단축키 표시\n",
        "* ctrl + shift + enter : 섹션 셀 삽입\n",
        "* ctrl + m d : 선택 셀 삭제\n",
        "* ctrl + enter : 코드셀 실행\n",
        "* shift + enter : 셀을 실행하고 다음 셀 선택\n",
        "* ctrl + m b : 아래에 코드 셀 삽입\n",
        "* ctrl + m v : 아래에 텍스트 셀 삽입\n",
        "* ctrl + . : 모든출력 지우기\n",
        "* ctrl + shift + a : 모든 셀 선택\n",
        "\n",
        "\n"
      ],
      "metadata": {
        "id": "TiKqoHbFuRR8"
      }
    },
    {
      "cell_type": "markdown",
      "source": [
        "# **학습 라이브러리**\n",
        "\n",
        "- numpy\n",
        "- scipy\n",
        "- pandas\n",
        "- scikit learn\n",
        "- tensorflow\n",
        "- keras\n",
        "- pytorch\n",
        "- matplotlib\n",
        "- seaborn"
      ],
      "metadata": {
        "id": "_g4btzlus-Co"
      }
    },
    {
      "cell_type": "markdown",
      "source": [
        "# Chapter2 데이터 전처리"
      ],
      "metadata": {
        "id": "sIftu-ACOGyh"
      }
    },
    {
      "cell_type": "markdown",
      "source": [
        "## 2.1 데이터 탐색"
      ],
      "metadata": {
        "id": "5wYIrre7OKjJ"
      }
    },
    {
      "cell_type": "markdown",
      "source": [
        "### 2.1.3 파이썬 데이터 탐색"
      ],
      "metadata": {
        "id": "y64PxN3AOkm1"
      }
    },
    {
      "cell_type": "markdown",
      "source": [
        "타이타닉 데이터"
      ],
      "metadata": {
        "id": "DWjtUjBHS0eS"
      }
    },
    {
      "cell_type": "code",
      "source": [
        "import numpy as np\n",
        "import pandas as pd\n",
        "import matplotlib.pyplot as plt\n",
        "\n",
        "# 타이타닉 데이터\n",
        "df_raw = pd.read_csv(\"https://raw.githubusercontent.com/datasciencedojo/datasets/master/titanic.csv\")\n",
        "print(df_raw)"
      ],
      "metadata": {
        "id": "N_IZuNsmRUbM",
        "colab": {
          "base_uri": "https://localhost:8080/"
        },
        "outputId": "68c90fbe-beea-4643-ac5b-704121e011c0"
      },
      "execution_count": null,
      "outputs": [
        {
          "output_type": "stream",
          "name": "stdout",
          "text": [
            "     PassengerId  Survived  Pclass  \\\n",
            "0              1         0       3   \n",
            "1              2         1       1   \n",
            "2              3         1       3   \n",
            "3              4         1       1   \n",
            "4              5         0       3   \n",
            "..           ...       ...     ...   \n",
            "886          887         0       2   \n",
            "887          888         1       1   \n",
            "888          889         0       3   \n",
            "889          890         1       1   \n",
            "890          891         0       3   \n",
            "\n",
            "                                                  Name     Sex   Age  SibSp  \\\n",
            "0                              Braund, Mr. Owen Harris    male  22.0      1   \n",
            "1    Cumings, Mrs. John Bradley (Florence Briggs Th...  female  38.0      1   \n",
            "2                               Heikkinen, Miss. Laina  female  26.0      0   \n",
            "3         Futrelle, Mrs. Jacques Heath (Lily May Peel)  female  35.0      1   \n",
            "4                             Allen, Mr. William Henry    male  35.0      0   \n",
            "..                                                 ...     ...   ...    ...   \n",
            "886                              Montvila, Rev. Juozas    male  27.0      0   \n",
            "887                       Graham, Miss. Margaret Edith  female  19.0      0   \n",
            "888           Johnston, Miss. Catherine Helen \"Carrie\"  female   NaN      1   \n",
            "889                              Behr, Mr. Karl Howell    male  26.0      0   \n",
            "890                                Dooley, Mr. Patrick    male  32.0      0   \n",
            "\n",
            "     Parch            Ticket     Fare Cabin Embarked  \n",
            "0        0         A/5 21171   7.2500   NaN        S  \n",
            "1        0          PC 17599  71.2833   C85        C  \n",
            "2        0  STON/O2. 3101282   7.9250   NaN        S  \n",
            "3        0            113803  53.1000  C123        S  \n",
            "4        0            373450   8.0500   NaN        S  \n",
            "..     ...               ...      ...   ...      ...  \n",
            "886      0            211536  13.0000   NaN        S  \n",
            "887      0            112053  30.0000   B42        S  \n",
            "888      2        W./C. 6607  23.4500   NaN        S  \n",
            "889      0            111369  30.0000  C148        C  \n",
            "890      0            370376   7.7500   NaN        Q  \n",
            "\n",
            "[891 rows x 12 columns]\n"
          ]
        }
      ]
    },
    {
      "cell_type": "code",
      "source": [
        "# 변수 타입 변환\n",
        "df_type = df_raw.copy()\n",
        "df_type[\"Survived\"]=df_type[\"Survived\"].astype(str) # 범주형 변수\n",
        "df_type[\"Pclass\"]=df_type[\"Pclass\"].astype(str)\n",
        "\n",
        "print(df_type.info())"
      ],
      "metadata": {
        "id": "JzHmCjhbSz85",
        "colab": {
          "base_uri": "https://localhost:8080/"
        },
        "outputId": "fb0b1e8f-20a9-4960-e8d1-324515409bdc"
      },
      "execution_count": null,
      "outputs": [
        {
          "output_type": "stream",
          "name": "stdout",
          "text": [
            "<class 'pandas.core.frame.DataFrame'>\n",
            "RangeIndex: 891 entries, 0 to 890\n",
            "Data columns (total 12 columns):\n",
            " #   Column       Non-Null Count  Dtype  \n",
            "---  ------       --------------  -----  \n",
            " 0   PassengerId  891 non-null    int64  \n",
            " 1   Survived     891 non-null    object \n",
            " 2   Pclass       891 non-null    object \n",
            " 3   Name         891 non-null    object \n",
            " 4   Sex          891 non-null    object \n",
            " 5   Age          714 non-null    float64\n",
            " 6   SibSp        891 non-null    int64  \n",
            " 7   Parch        891 non-null    int64  \n",
            " 8   Ticket       891 non-null    object \n",
            " 9   Fare         891 non-null    float64\n",
            " 10  Cabin        204 non-null    object \n",
            " 11  Embarked     889 non-null    object \n",
            "dtypes: float64(2), int64(3), object(7)\n",
            "memory usage: 83.7+ KB\n",
            "None\n"
          ]
        }
      ]
    },
    {
      "cell_type": "code",
      "source": [
        "# 데이터 기술 통계 확인\n",
        "df1 = df_type.copy()\n",
        "\n",
        "print(df1.describe(include='all'))"
      ],
      "metadata": {
        "id": "S2bEP7JxT0DN",
        "colab": {
          "base_uri": "https://localhost:8080/"
        },
        "outputId": "76b30160-cc97-4c66-f542-35b96186dd02"
      },
      "execution_count": null,
      "outputs": [
        {
          "output_type": "stream",
          "name": "stdout",
          "text": [
            "        PassengerId Survived Pclass                     Name   Sex  \\\n",
            "count    891.000000      891    891                      891   891   \n",
            "unique          NaN        2      3                      891     2   \n",
            "top             NaN        0      3  Braund, Mr. Owen Harris  male   \n",
            "freq            NaN      549    491                        1   577   \n",
            "mean     446.000000      NaN    NaN                      NaN   NaN   \n",
            "std      257.353842      NaN    NaN                      NaN   NaN   \n",
            "min        1.000000      NaN    NaN                      NaN   NaN   \n",
            "25%      223.500000      NaN    NaN                      NaN   NaN   \n",
            "50%      446.000000      NaN    NaN                      NaN   NaN   \n",
            "75%      668.500000      NaN    NaN                      NaN   NaN   \n",
            "max      891.000000      NaN    NaN                      NaN   NaN   \n",
            "\n",
            "               Age       SibSp       Parch  Ticket        Fare    Cabin  \\\n",
            "count   714.000000  891.000000  891.000000     891  891.000000      204   \n",
            "unique         NaN         NaN         NaN     681         NaN      147   \n",
            "top            NaN         NaN         NaN  347082         NaN  B96 B98   \n",
            "freq           NaN         NaN         NaN       7         NaN        4   \n",
            "mean     29.699118    0.523008    0.381594     NaN   32.204208      NaN   \n",
            "std      14.526497    1.102743    0.806057     NaN   49.693429      NaN   \n",
            "min       0.420000    0.000000    0.000000     NaN    0.000000      NaN   \n",
            "25%      20.125000    0.000000    0.000000     NaN    7.910400      NaN   \n",
            "50%      28.000000    0.000000    0.000000     NaN   14.454200      NaN   \n",
            "75%      38.000000    1.000000    0.000000     NaN   31.000000      NaN   \n",
            "max      80.000000    8.000000    6.000000     NaN  512.329200      NaN   \n",
            "\n",
            "       Embarked  \n",
            "count       889  \n",
            "unique        3  \n",
            "top           S  \n",
            "freq        644  \n",
            "mean        NaN  \n",
            "std         NaN  \n",
            "min         NaN  \n",
            "25%         NaN  \n",
            "50%         NaN  \n",
            "75%         NaN  \n",
            "max         NaN  \n"
          ]
        }
      ]
    },
    {
      "cell_type": "code",
      "source": [
        "# pclass 탑승객의 빈도수\n",
        "df1 = df_type.copy()\n",
        "print(df1.groupby(\"Pclass\").size())\n",
        "print(df1.groupby(\"Pclass\").count()[\"PassengerId\"])"
      ],
      "metadata": {
        "id": "D0MTJaLtUTwC",
        "colab": {
          "base_uri": "https://localhost:8080/"
        },
        "outputId": "68bc3670-6f28-4ee4-f182-ed62d0ceaa23"
      },
      "execution_count": null,
      "outputs": [
        {
          "output_type": "stream",
          "name": "stdout",
          "text": [
            "Pclass\n",
            "1    216\n",
            "2    184\n",
            "3    491\n",
            "dtype: int64\n",
            "Pclass\n",
            "1    216\n",
            "2    184\n",
            "3    491\n",
            "Name: PassengerId, dtype: int64\n"
          ]
        }
      ]
    },
    {
      "cell_type": "code",
      "source": [
        "# Histogram\n",
        "df1 = df_type.copy()\n",
        "plt.hist(df1[\"Fare\"])\n",
        "plt.show()\n",
        "\n",
        "# 데이터 분리\n",
        "data_0 = df1[df1[\"Survived\"]=='0'][\"Fare\"]\n",
        "data_1 = df1[df1[\"Survived\"]=='1'][\"Fare\"]\n",
        "\n",
        "# boxplot\n",
        "fig, ax = plt.subplots()\n",
        "ax.boxplot([data_0, data_1])\n",
        "plt.show()\n"
      ],
      "metadata": {
        "id": "JACDBRaEVuiP",
        "colab": {
          "base_uri": "https://localhost:8080/",
          "height": 843
        },
        "outputId": "eff11316-6eda-4eb0-91cb-7fea05ad628f"
      },
      "execution_count": null,
      "outputs": [
        {
          "output_type": "display_data",
          "data": {
            "text/plain": [
              "<Figure size 640x480 with 1 Axes>"
            ],
            "image/png": "[encoded data removed]"
          },
          "metadata": {}
        },
        {
          "output_type": "display_data",
          "data": {
            "text/plain": [
              "<Figure size 640x480 with 1 Axes>"
            ],
            "image/png": "[encoded data removed]"
          },
          "metadata": {}
        }
      ]
    },
    {
      "cell_type": "code",
      "source": [
        "# 성별 간에 생존자 수 차이\n",
        "df_a = df_type.copy()\n",
        "\n",
        "\n",
        "df_male = df_a[df_a[\"Sex\"]==\"male\"]\n",
        "df_female = df_a[df_a[\"Sex\"]==\"female\"]\n",
        "male_dead = df_male.groupby(\"Survived\").size()[0]\n",
        "male_survive = df_male.groupby(\"Survived\").size()[1]\n",
        "male_survive_rate = male_survive / (male_survive + male_dead)\n",
        "\n",
        "female_dead = df_female.groupby(\"Survived\").size()[0]\n",
        "female_survive = df_female.groupby(\"Survived\").size()[1]\n",
        "female_survive_rate = female_survive / (female_survive + female_dead)\n",
        "\n",
        "print(\"male survive rate : %0.3f \\nfemale survive rate : %0.3f\" %(male_survive_rate, female_survive_rate))\n",
        "\n"
      ],
      "metadata": {
        "id": "YQuJBFXnWTIM",
        "colab": {
          "base_uri": "https://localhost:8080/"
        },
        "outputId": "4386a4b8-9d6d-4783-91a7-4ab08459cbd9"
      },
      "execution_count": null,
      "outputs": [
        {
          "output_type": "stream",
          "name": "stdout",
          "text": [
            "male survive rate : 0.189 \n",
            "female survive rate : 0.742\n"
          ]
        }
      ]
    },
    {
      "cell_type": "markdown",
      "source": [
        "## 2.2 데이터 전처리 개요"
      ],
      "metadata": {
        "id": "85i1-VDeOOtH"
      }
    },
    {
      "cell_type": "markdown",
      "source": [
        "### 2.2.1 데이터 전처리 유형"
      ],
      "metadata": {
        "id": "LdxGSOSnOz1r"
      }
    },
    {
      "cell_type": "markdown",
      "source": [
        "데이터 전처리는 데이터 가공(data manipulation), 데이터 핸들링(data handling) 등 으로 불린다"
      ],
      "metadata": {
        "id": "rMZPh-0LZibu"
      }
    },
    {
      "cell_type": "markdown",
      "source": [
        "### 2.2.2 데이터 변환"
      ],
      "metadata": {
        "id": "qEsZPyvAOz42"
      }
    },
    {
      "cell_type": "code",
      "source": [
        "import numpy as np\n",
        "import pandas as pd\n",
        "\n",
        "\n",
        "#data 생성\n",
        "meat_consumption_korean = 5*np.random.randn(1000)+53.9\n",
        "meat_consumption_japan = 4*np.random.randn(1000)+32.7\n",
        "\n",
        "meat_consumption_df = pd.DataFrame({\"korean\":meat_consumption_korean,\n",
        "                                    \"japanese\":meat_consumption_japan})\n",
        "print(meat_consumption_df)"
      ],
      "metadata": {
        "id": "tDsx8Yp-auGu",
        "colab": {
          "base_uri": "https://localhost:8080/"
        },
        "outputId": "ab905cc7-4c91-4e2f-96f5-bc9c96cf0e2f"
      },
      "execution_count": null,
      "outputs": [
        {
          "output_type": "stream",
          "name": "stdout",
          "text": [
            "        korean   japanese\n",
            "0    62.944924  32.239710\n",
            "1    59.376917  29.135193\n",
            "2    50.220279  35.672295\n",
            "3    54.068528  22.596898\n",
            "4    58.068487  26.614799\n",
            "..         ...        ...\n",
            "995  47.402305  36.639323\n",
            "996  47.180409  30.649736\n",
            "997  51.608790  42.494122\n",
            "998  50.356799  21.792637\n",
            "999  53.548624  33.086833\n",
            "\n",
            "[1000 rows x 2 columns]\n"
          ]
        }
      ]
    },
    {
      "cell_type": "code",
      "source": [
        "# z 표준화 3가지\n",
        "import scipy.stats as ss\n",
        "df = meat_consumption_df.copy()\n",
        "df[\"korean_zscore\"] = ss.zscore(df[\"korean\"])\n",
        "df[\"japanese_zscore\"] = ss.zscore(df[\"japanese\"])\n",
        "\n",
        "df[\"korean_zscore_np\"] = (df[\"korean\"]-np.mean(df[\"korean\"]))/np.std(df[\"korean\"])\n",
        "df[\"japanese_zscore_np\"] = (df[\"japanese\"]-np.mean(df[\"japanese\"]))/np.std(df[\"japanese\"])\n",
        "\n",
        "from sklearn.preprocessing import StandardScaler\n",
        "scaler = StandardScaler()\n",
        "df[\"korean_zscore_skl\"] = scaler.fit_transform(df[[\"korean\"]]) # series객체 넣어야함\n",
        "df[\"japanese_zscore_skl\"] = scaler.fit_transform(df[[\"japanese\"]])\n",
        "print(type(df[\"korean\"]))\n",
        "print(type(df[[\"korean\"]]))\n",
        "\n",
        "print(df)\n"
      ],
      "metadata": {
        "id": "zqI4cPKwbpL9",
        "colab": {
          "base_uri": "https://localhost:8080/"
        },
        "outputId": "ca75b541-7f67-4862-a110-37d25a5dae23"
      },
      "execution_count": null,
      "outputs": [
        {
          "output_type": "stream",
          "name": "stdout",
          "text": [
            "<class 'pandas.core.series.Series'>\n",
            "<class 'pandas.core.frame.DataFrame'>\n",
            "        korean   japanese  korean_zscore  japanese_zscore  korean_zscore_np  \\\n",
            "0    62.944924  32.239710       1.809419        -0.152670          1.809419   \n",
            "1    59.376917  29.135193       1.107131        -0.932440          1.107131   \n",
            "2    50.220279  35.672295      -0.695161         0.709501         -0.695161   \n",
            "3    54.068528  22.596898       0.062286        -2.574681          0.062286   \n",
            "4    58.068487  26.614799       0.849594        -1.565494          0.849594   \n",
            "..         ...        ...            ...              ...               ...   \n",
            "995  47.402305  36.639323      -1.249821         0.952392         -1.249821   \n",
            "996  47.180409  30.649736      -1.293496        -0.552028         -1.293496   \n",
            "997  51.608790  42.494122      -0.421862         2.422958         -0.421862   \n",
            "998  50.356799  21.792637      -0.668290        -2.776690         -0.668290   \n",
            "999  53.548624  33.086833      -0.040046         0.060104         -0.040046   \n",
            "\n",
            "     japanese_zscore_np  korean_zscore_skl  japanese_zscore_skl  \n",
            "0             -0.152670           1.809419            -0.152670  \n",
            "1             -0.932440           1.107131            -0.932440  \n",
            "2              0.709501          -0.695161             0.709501  \n",
            "3             -2.574681           0.062286            -2.574681  \n",
            "4             -1.565494           0.849594            -1.565494  \n",
            "..                  ...                ...                  ...  \n",
            "995            0.952392          -1.249821             0.952392  \n",
            "996           -0.552028          -1.293496            -0.552028  \n",
            "997            2.422958          -0.421862             2.422958  \n",
            "998           -2.776690          -0.668290            -2.776690  \n",
            "999            0.060104          -0.040046             0.060104  \n",
            "\n",
            "[1000 rows x 8 columns]\n"
          ]
        }
      ]
    },
    {
      "cell_type": "code",
      "source": [
        "# minmax 표준화\n",
        "from sklearn.preprocessing import MinMaxScaler\n",
        "\n",
        "df = meat_consumption_df.copy()\n",
        "scaler = MinMaxScaler()\n",
        "\n",
        "df[\"korean_mm\"] = scaler.fit_transform(df[[\"korean\"]])\n",
        "df[\"japanese_mm\"] = scaler.fit_transform(df[[\"japanese\"]])\n",
        "\n",
        "\n",
        "df[\"korean_mm_np\"]=(df[\"korean\"]-df[\"korean\"].min()) / (df[\"korean\"].max()-df[\"korean\"].min())\n",
        "df[\"japanese_mm_np\"]=(df[\"japanese\"]-df[\"japanese\"].min()) / (df[\"japanese\"].max()-df[\"japanese\"].min())\n",
        "print(df)\n",
        "\n"
      ],
      "metadata": {
        "id": "Ekv61IOCkw_6",
        "colab": {
          "base_uri": "https://localhost:8080/"
        },
        "outputId": "687e62ba-f951-4871-d564-f2fd0cc7cbae"
      },
      "execution_count": null,
      "outputs": [
        {
          "output_type": "stream",
          "name": "stdout",
          "text": [
            "        korean   japanese  korean_mm  japanese_mm  korean_mm_np  \\\n",
            "0    62.944924  32.239710   0.776909     0.485801      0.776909   \n",
            "1    59.376917  29.135193   0.679303     0.384028      0.679303   \n",
            "2    50.220279  35.672295   0.428813     0.598330      0.428813   \n",
            "3    54.068528  22.596898   0.534086     0.169686      0.534086   \n",
            "4    58.068487  26.614799   0.643509     0.301403      0.643509   \n",
            "..         ...        ...        ...          ...           ...   \n",
            "995  47.402305  36.639323   0.351724     0.630032      0.351724   \n",
            "996  47.180409  30.649736   0.345654     0.433678      0.345654   \n",
            "997  51.608790  42.494122   0.466797     0.821967      0.466797   \n",
            "998  50.356799  21.792637   0.432548     0.143320      0.432548   \n",
            "999  53.548624  33.086833   0.519863     0.513572      0.519863   \n",
            "\n",
            "     japanese_mm_np  \n",
            "0          0.485801  \n",
            "1          0.384028  \n",
            "2          0.598330  \n",
            "3          0.169686  \n",
            "4          0.301403  \n",
            "..              ...  \n",
            "995        0.630032  \n",
            "996        0.433678  \n",
            "997        0.821967  \n",
            "998        0.143320  \n",
            "999        0.513572  \n",
            "\n",
            "[1000 rows x 6 columns]\n"
          ]
        }
      ]
    },
    {
      "cell_type": "markdown",
      "source": [
        "USJudgeRatings data\n"
      ],
      "metadata": {
        "id": "ltUCso5mKJhR"
      }
    },
    {
      "cell_type": "code",
      "source": [
        "import matplotlib.pyplot as plt\n",
        "import pandas as pd\n",
        "import numpy as np\n",
        "import scipy.stats as ss\n",
        "\n",
        "df = pd.read_csv(\"/content/drive/MyDrive/bigdata_sample/USJudgeRatings.csv\")"
      ],
      "metadata": {
        "id": "yhDIlybMJoyV"
      },
      "execution_count": null,
      "outputs": []
    },
    {
      "cell_type": "code",
      "source": [
        "df1 = df.copy()\n",
        "# 왜도\n",
        "print(ss.skew(df1[\"CONT\"]))\n",
        "print(ss.skew(df1[\"PHYS\"]))\n",
        "\n",
        "plt.hist(df1[\"CONT\"])\n",
        "plt.show()\n",
        "\n",
        "plt.hist(df1[\"PHYS\"])\n",
        "plt.show()\n"
      ],
      "metadata": {
        "id": "fs4LJ4PgKMWa",
        "colab": {
          "base_uri": "https://localhost:8080/",
          "height": 879
        },
        "outputId": "1d0fa5e6-bb32-41a0-f6e4-13a549a01a53"
      },
      "execution_count": null,
      "outputs": [
        {
          "output_type": "stream",
          "name": "stdout",
          "text": [
            "1.0859724796276253\n",
            "-1.5582154642293153\n"
          ]
        },
        {
          "output_type": "display_data",
          "data": {
            "text/plain": [
              "<Figure size 640x480 with 1 Axes>"
            ],
            "image/png": "[encoded data removed]"
          },
          "metadata": {}
        },
        {
          "output_type": "display_data",
          "data": {
            "text/plain": [
              "<Figure size 640x480 with 1 Axes>"
            ],
            "image/png": "[encoded data removed]"
          },
          "metadata": {}
        }
      ]
    },
    {
      "cell_type": "code",
      "source": [
        "df1 = df.copy()\n",
        "\n",
        "# 왜도에 따른 변수 변환\n",
        "print(df1.head(5))\n",
        "df[\"CONT2\"] = np.log10(df[\"CONT\"])\n",
        "df[\"PHYS2\"] = np.log10(np.max(df[\"PHYS\"]+1)- df[\"PHYS\"])\n",
        "\n",
        "print(ss.skew(df[\"CONT2\"]))\n",
        "print(ss.skew(df[\"PHYS2\"]))\n",
        "\n",
        "\n"
      ],
      "metadata": {
        "id": "NQJExp41Kd85",
        "colab": {
          "base_uri": "https://localhost:8080/"
        },
        "outputId": "8671cff4-5863-4b61-b19c-704e7809bb2c"
      },
      "execution_count": null,
      "outputs": [
        {
          "output_type": "stream",
          "name": "stdout",
          "text": [
            "       Unnamed: 0  CONT  INTG  DMNR  DILG  CFMG  DECI  PREP  FAMI  ORAL  WRIT  \\\n",
            "0   AARONSON,L.H.   5.7   7.9   7.7   7.3   7.1   7.4   7.1   7.1   7.1   7.0   \n",
            "1  ALEXANDER,J.M.   6.8   8.9   8.8   8.5   7.8   8.1   8.0   8.0   7.8   7.9   \n",
            "2  ARMENTANO,A.J.   7.2   8.1   7.8   7.8   7.5   7.6   7.5   7.5   7.3   7.4   \n",
            "3     BERDON,R.I.   6.8   8.8   8.5   8.8   8.3   8.5   8.7   8.7   8.4   8.5   \n",
            "4    BRACKEN,J.J.   7.3   6.4   4.3   6.5   6.0   6.2   5.7   5.7   5.1   5.3   \n",
            "\n",
            "   PHYS  RTEN  \n",
            "0   8.3   7.8  \n",
            "1   8.5   8.7  \n",
            "2   7.9   7.8  \n",
            "3   8.8   8.7  \n",
            "4   5.5   4.8  \n",
            "0.6555571886692441\n",
            "0.5824357748750438\n"
          ]
        }
      ]
    },
    {
      "cell_type": "code",
      "source": [
        "# histogram 범주화\n",
        "data = [[\"철수\", 52],[\"영희\", 92],[\"미영\", 84],[\"시완\", 71],[\"미경\", 65],[\"영환\", 81],[\"숙경\", 66],[\"부영\", 77],[\"민섭\", 73],[\"보연\", 74]]\n",
        "df = pd.DataFrame(data, columns=[\"이름\", \"성적\"])\n",
        "\n",
        "plt.hist(df[\"성적\"], bins=5, range=[50,100], rwidth = 0.9) # 5개 구간\n",
        "plt.show()"
      ],
      "metadata": {
        "id": "0-7vLvbLKZ40",
        "colab": {
          "base_uri": "https://localhost:8080/",
          "height": 430
        },
        "outputId": "8f7b7686-61ca-41a7-9889-f93597eefdb1"
      },
      "execution_count": null,
      "outputs": [
        {
          "output_type": "display_data",
          "data": {
            "text/plain": [
              "<Figure size 640x480 with 1 Axes>"
            ],
            "image/png": "[encoded data removed]"
          },
          "metadata": {}
        }
      ]
    },
    {
      "cell_type": "code",
      "source": [
        "# 조건문으로 구간 나누기\n",
        "# df2 = df.copy()\n",
        "# df2[\"등급\"] =0\n",
        "\n",
        "# df2.loc[(df[\"성적\"]<60),\"등급\"] = \"F\"\n",
        "# df2.loc[(df[\"성적\"]>=60)&(df[\"성적\"]<70),\"등급\"] = \"D\"\n",
        "# df2.loc[(df[\"성적\"]>=70)&(df[\"성적\"]<80),\"등급\"] = \"C\"\n",
        "# df2.loc[(df[\"성적\"]>=80)&(df[\"성적\"]<90),\"등급\"] = \"B\"\n",
        "# df2.loc[(df[\"성적\"]>=90),\"등급\"] = \"A\"\n",
        "# # print(df2)\n",
        "\n",
        "\n",
        "# #cut 함수 이용\n",
        "df4 = df.copy()\n",
        "df4[\"등급\"] = pd.cut(x=df4[\"성적\"], bins=[0,60,70,80,90,100], labels=[\"F\", \"D\", \"C\", \"B\", \"A\"],\n",
        "                   include_lowest=True) # 각 구간의 낮은 경계값 포함\n",
        "# print(df4)\n",
        "\n",
        "# qcut : 각 범주에 균등한 수의 데이터 채워지도록 분할\n",
        "df5 = df.copy()\n",
        "df5[\"등급\"] = pd.qcut(x=df5[\"성적\"], q=5, labels=[\"F\",\"D\",\"C\",\"B\",\"A\"])\n",
        "print(df5)\n",
        "plt.hist(df5[\"등급\"])\n",
        "plt.show()\n"
      ],
      "metadata": {
        "id": "XaJz8QHPLU9Q",
        "colab": {
          "base_uri": "https://localhost:8080/",
          "height": 627
        },
        "outputId": "26938250-1861-4934-f90d-1462494c7ec6"
      },
      "execution_count": null,
      "outputs": [
        {
          "output_type": "stream",
          "name": "stdout",
          "text": [
            "   이름  성적 등급\n",
            "0  철수  52  F\n",
            "1  영희  92  A\n",
            "2  미영  84  A\n",
            "3  시완  71  D\n",
            "4  미경  65  F\n",
            "5  영환  81  B\n",
            "6  숙경  66  D\n",
            "7  부영  77  B\n",
            "8  민섭  73  C\n",
            "9  보연  74  C\n"
          ]
        },
        {
          "output_type": "display_data",
          "data": {
            "text/plain": [
              "<Figure size 640x480 with 1 Axes>"
            ],
            "image/png": "[encoded data removed]"
          },
          "metadata": {}
        }
      ]
    },
    {
      "cell_type": "markdown",
      "source": [
        "### 2.2.3 차원축소 : PCA(주성분분석)"
      ],
      "metadata": {
        "id": "KOgr-pGTOz7q"
      }
    },
    {
      "cell_type": "code",
      "source": [
        "import numpy as np\n",
        "import pandas as pd\n",
        "import matplotlib.pyplot as plt\n",
        "from sklearn.preprocessing import StandardScaler\n",
        "from sklearn.decomposition import PCA\n",
        "\n",
        "iris = pd.read_csv(\"/content/drive/MyDrive/bigdata_sample/iris.csv\")"
      ],
      "metadata": {
        "id": "8JHdNYetPHwb"
      },
      "execution_count": null,
      "outputs": []
    },
    {
      "cell_type": "code",
      "source": [
        "# 범주형 변수 분리\n",
        "df = iris.drop(\"species\", axis=1)\n",
        "df_species = iris[\"species\"]\n",
        "print(df_species)"
      ],
      "metadata": {
        "id": "Bn8r1ym2PW02",
        "colab": {
          "base_uri": "https://localhost:8080/"
        },
        "outputId": "f2d41821-ade8-4a9b-ec7d-012d138e8a86"
      },
      "execution_count": null,
      "outputs": [
        {
          "output_type": "stream",
          "name": "stdout",
          "text": [
            "0         setosa\n",
            "1         setosa\n",
            "2         setosa\n",
            "3         setosa\n",
            "4         setosa\n",
            "         ...    \n",
            "145    virginica\n",
            "146    virginica\n",
            "147    virginica\n",
            "148    virginica\n",
            "149    virginica\n",
            "Name: species, Length: 150, dtype: object\n"
          ]
        }
      ]
    },
    {
      "cell_type": "code",
      "source": [
        "# 변수 정규화\n",
        "df2=df.copy()\n",
        "print(df2.columns)\n",
        "\n",
        "x = StandardScaler()\n",
        "df2[\"sepal_length\"] = x.fit_transform(df2[[\"sepal_length\"]])\n",
        "df2[\"sepal_width\"] = x.fit_transform(df2[[\"sepal_width\"]])\n",
        "df2[\"petal_length\"] = x.fit_transform(df2[[\"petal_length\"]])\n",
        "df2[\"petal_width\"] = x.fit_transform(df2[[\"petal_width\"]])\n",
        "\n",
        "# print(df2)\n",
        "\n",
        "# PCA 수행\n",
        "pca = PCA(n_components=4)\n",
        "p_score = pca.fit_transform(df2)\n",
        "print(p_score.shape)\n",
        "print(pca.explained_variance_ratio_)\n"
      ],
      "metadata": {
        "id": "_SpCLXcHQYgU",
        "colab": {
          "base_uri": "https://localhost:8080/"
        },
        "outputId": "fd66f856-6281-4bef-9f95-3d1e61390074"
      },
      "execution_count": null,
      "outputs": [
        {
          "output_type": "stream",
          "name": "stdout",
          "text": [
            "Index(['sepal_length', 'sepal_width', 'petal_length', 'petal_width'], dtype='object')\n",
            "(150, 4)\n",
            "[0.72962445 0.22850762 0.03668922 0.00517871]\n"
          ]
        }
      ]
    },
    {
      "cell_type": "markdown",
      "source": [
        "### 2.2.4 결측치 처리"
      ],
      "metadata": {
        "id": "wz4t4ZVxOz-X"
      }
    },
    {
      "cell_type": "code",
      "source": [
        "import pandas as pd\n",
        "\n",
        "df = pd.read_csv(\"/content/drive/MyDrive/bigdata_sample/titanic.csv\")"
      ],
      "metadata": {
        "id": "FIMdrldBR5tL"
      },
      "execution_count": null,
      "outputs": []
    },
    {
      "cell_type": "code",
      "source": [
        "print(df.isnull().sum())\n",
        "print(df.isnull().sum().sum()) # 결측치 총 개수\n",
        "\n",
        "df1 = df.dropna(axis=0)\n",
        "print(df1.shape)\n",
        "\n",
        "df2 = df.dropna(subset=[\"Age\"], axis=0) # Age열의 na만 삭제\n",
        "print(df2.shape)\n",
        "# 평균값 대체\n",
        "avg_age = df[\"Age\"].mean()\n",
        "df3 = df.copy()\n",
        "df3[\"Age\"].fillna(avg_age, inplace=True)\n",
        "print(df3.isnull().sum())\n"
      ],
      "metadata": {
        "id": "t3dP9SONR_vR",
        "colab": {
          "base_uri": "https://localhost:8080/"
        },
        "outputId": "94e77125-3ab9-4790-cfd2-17d0b6b2a3b2"
      },
      "execution_count": null,
      "outputs": [
        {
          "output_type": "stream",
          "name": "stdout",
          "text": [
            "PassengerId      0\n",
            "Survived         0\n",
            "Pclass           0\n",
            "Name             0\n",
            "Sex              0\n",
            "Age            177\n",
            "SibSp            0\n",
            "Parch            0\n",
            "Ticket           0\n",
            "Fare             0\n",
            "Cabin          687\n",
            "Embarked         2\n",
            "dtype: int64\n",
            "866\n",
            "(183, 12)\n",
            "(714, 12)\n",
            "PassengerId      0\n",
            "Survived         0\n",
            "Pclass           0\n",
            "Name             0\n",
            "Sex              0\n",
            "Age              0\n",
            "SibSp            0\n",
            "Parch            0\n",
            "Ticket           0\n",
            "Fare             0\n",
            "Cabin          687\n",
            "Embarked         2\n",
            "dtype: int64\n"
          ]
        }
      ]
    },
    {
      "cell_type": "code",
      "source": [
        "# 최빈값 대체\n",
        "df4 = df.copy()\n",
        "print(df4.isnull().sum())\n",
        "mode = df4[\"Embarked\"].mode()[0]\n",
        "df4[\"Embarked\"].fillna(mode, inplace=True)\n",
        "print(df4.isnull().sum())"
      ],
      "metadata": {
        "id": "lqAnFsSOVAvl",
        "colab": {
          "base_uri": "https://localhost:8080/"
        },
        "outputId": "c35187d9-912f-4042-9fa5-b68265e577e1"
      },
      "execution_count": null,
      "outputs": [
        {
          "output_type": "stream",
          "name": "stdout",
          "text": [
            "PassengerId      0\n",
            "Survived         0\n",
            "Pclass           0\n",
            "Name             0\n",
            "Sex              0\n",
            "Age            177\n",
            "SibSp            0\n",
            "Parch            0\n",
            "Ticket           0\n",
            "Fare             0\n",
            "Cabin          687\n",
            "Embarked         2\n",
            "dtype: int64\n",
            "PassengerId      0\n",
            "Survived         0\n",
            "Pclass           0\n",
            "Name             0\n",
            "Sex              0\n",
            "Age            177\n",
            "SibSp            0\n",
            "Parch            0\n",
            "Ticket           0\n",
            "Fare             0\n",
            "Cabin          687\n",
            "Embarked         0\n",
            "dtype: int64\n"
          ]
        }
      ]
    },
    {
      "cell_type": "code",
      "source": [
        "# 인접값 대체\n",
        "data = [1,2,3,None,None,None,5,6,7]\n",
        "df = pd.DataFrame(data, columns=[\"test\"])\n",
        "print(df.fillna(method=\"ffill\")) # 이전(앞선)데이터로 채움\n",
        "print(df.fillna(method=\"bfill\")) # 다음 데이터로 채움\n",
        "\n"
      ],
      "metadata": {
        "id": "sAVjlLYHVyWq",
        "colab": {
          "base_uri": "https://localhost:8080/"
        },
        "outputId": "a297bc05-26d7-451c-9fb4-06e8f73c5344"
      },
      "execution_count": null,
      "outputs": [
        {
          "output_type": "stream",
          "name": "stdout",
          "text": [
            "   test\n",
            "0   1.0\n",
            "1   2.0\n",
            "2   3.0\n",
            "3   3.0\n",
            "4   3.0\n",
            "5   3.0\n",
            "6   5.0\n",
            "7   6.0\n",
            "8   7.0\n",
            "   test\n",
            "0   1.0\n",
            "1   2.0\n",
            "2   3.0\n",
            "3   5.0\n",
            "4   5.0\n",
            "5   5.0\n",
            "6   5.0\n",
            "7   6.0\n",
            "8   7.0\n"
          ]
        }
      ]
    },
    {
      "cell_type": "markdown",
      "source": [
        "### 2.2.5 이상치 처리"
      ],
      "metadata": {
        "id": "qfR2Tu7rO0BD"
      }
    },
    {
      "cell_type": "code",
      "source": [
        "import numpy as np\n",
        "import pandas as pd\n",
        "import matplotlib.pyplot as plt\n",
        "\n",
        "data = 10*np.random.randn(200)+50\n",
        "df = pd.DataFrame({\"data\":data})\n",
        "df.loc[200] = 2\n",
        "df.loc[201] = 100\n",
        "df.loc[202] = 10\n",
        "df.loc[203] = 110\n",
        "\n"
      ],
      "metadata": {
        "id": "CSIqGVE_W7qD"
      },
      "execution_count": null,
      "outputs": []
    },
    {
      "cell_type": "code",
      "source": [
        "# 히스토그램 판별\n",
        "\n",
        "plt.hist(df, bins=20, rwidth=0.8)\n",
        "plt.show()"
      ],
      "metadata": {
        "id": "vShTRhvgYjri",
        "colab": {
          "base_uri": "https://localhost:8080/",
          "height": 430
        },
        "outputId": "1296f659-87f8-4bb5-c451-77b4a6592cc0"
      },
      "execution_count": null,
      "outputs": [
        {
          "output_type": "display_data",
          "data": {
            "text/plain": [
              "<Figure size 640x480 with 1 Axes>"
            ],
            "image/png": "[encoded data removed]"
          },
          "metadata": {}
        }
      ]
    },
    {
      "cell_type": "code",
      "source": [
        "# IQR 사용\n",
        "df2 = df.copy()\n",
        "plt.boxplot(df2[\"data\"])\n",
        "plt.show()\n",
        "\n",
        "Q1 = df2[\"data\"].quantile(.25)\n",
        "Q3 = df2[\"data\"].quantile(.75)\n",
        "IQR = Q3-Q1\n",
        "print(Q1, Q3, IQR)\n",
        "\n",
        "print(df2.describe())\n"
      ],
      "metadata": {
        "id": "tpVYgzRnYmHN",
        "colab": {
          "base_uri": "https://localhost:8080/",
          "height": 610
        },
        "outputId": "635fbd29-35cf-4b12-db07-14896fced356"
      },
      "execution_count": null,
      "outputs": [
        {
          "output_type": "display_data",
          "data": {
            "text/plain": [
              "<Figure size 640x480 with 1 Axes>"
            ],
            "image/png": "[encoded data removed]"
          },
          "metadata": {}
        },
        {
          "output_type": "stream",
          "name": "stdout",
          "text": [
            "43.231959382589594 57.159342206683746 13.927382824094153\n",
            "             data\n",
            "count  204.000000\n",
            "mean    50.161771\n",
            "std     11.604720\n",
            "min      2.000000\n",
            "25%     43.231959\n",
            "50%     50.729165\n",
            "75%     57.159342\n",
            "max    110.000000\n"
          ]
        }
      ]
    },
    {
      "cell_type": "code",
      "source": [
        "# outlier 구하기\n",
        "df3 = df.copy()\n",
        "\n",
        "low_con = Q1 - 1.5*IQR\n",
        "upper_con = Q3 + 1.5*IQR\n",
        "low_out = df3[df3[\"data\"]<low_con]\n",
        "upper_out = df3[df3[\"data\"]>upper_con]\n",
        "print(low_out, upper_out, sep=\"\\n\")"
      ],
      "metadata": {
        "id": "4gh-UqaOZp7t",
        "colab": {
          "base_uri": "https://localhost:8080/"
        },
        "outputId": "44fef33c-e3dd-4994-acf1-985dd04c2bf5"
      },
      "execution_count": null,
      "outputs": [
        {
          "output_type": "stream",
          "name": "stdout",
          "text": [
            "     data\n",
            "200   2.0\n",
            "202  10.0\n",
            "      data\n",
            "201  100.0\n",
            "203  110.0\n"
          ]
        }
      ]
    },
    {
      "cell_type": "markdown",
      "source": [
        "### 2.2.6 평활화(smoothing)\n"
      ],
      "metadata": {
        "id": "8LTuUzMAPDc4"
      }
    },
    {
      "cell_type": "code",
      "source": [
        "import pandas as pd\n",
        "import matplotlib.pyplot as plt\n",
        "\n",
        "df = pd.read_csv(\"/content/drive/MyDrive/bigdata_sample/lynx.csv\")"
      ],
      "metadata": {
        "id": "cCetTNliasE2"
      },
      "execution_count": null,
      "outputs": []
    },
    {
      "cell_type": "code",
      "source": [
        "df2 = df.copy()\n",
        "df2 = df2.iloc[:,1:]\n",
        "\n",
        "print(df2.head(5))\n",
        "print(df2.info())"
      ],
      "metadata": {
        "id": "LE1_wE-Eayzp",
        "colab": {
          "base_uri": "https://localhost:8080/"
        },
        "outputId": "65e20d09-6fab-4c99-afed-12556504199b"
      },
      "execution_count": null,
      "outputs": [
        {
          "output_type": "stream",
          "name": "stdout",
          "text": [
            "   time  value\n",
            "0  1821    269\n",
            "1  1822    321\n",
            "2  1823    585\n",
            "3  1824    871\n",
            "4  1825   1475\n",
            "<class 'pandas.core.frame.DataFrame'>\n",
            "RangeIndex: 114 entries, 0 to 113\n",
            "Data columns (total 2 columns):\n",
            " #   Column  Non-Null Count  Dtype\n",
            "---  ------  --------------  -----\n",
            " 0   time    114 non-null    int64\n",
            " 1   value   114 non-null    int64\n",
            "dtypes: int64(2)\n",
            "memory usage: 1.9 KB\n",
            "None\n"
          ]
        }
      ]
    },
    {
      "cell_type": "code",
      "source": [
        "# 단순이동평균\n",
        "df3 = df2.copy()\n",
        "df3[\"sma\"] = df3[\"value\"].rolling(10).mean()\n",
        "\n",
        "plt.plot(df3[\"value\"])\n",
        "plt.plot(df3[\"sma\"])\n",
        "plt.show()"
      ],
      "metadata": {
        "id": "box09xqCbIhE",
        "colab": {
          "base_uri": "https://localhost:8080/",
          "height": 430
        },
        "outputId": "fc13026c-2429-4579-cfce-2245c6527316"
      },
      "execution_count": null,
      "outputs": [
        {
          "output_type": "display_data",
          "data": {
            "text/plain": [
              "<Figure size 640x480 with 1 Axes>"
            ],
            "image/png": "[encoded data removed]"
          },
          "metadata": {}
        }
      ]
    },
    {
      "cell_type": "code",
      "source": [
        "# 지수 이동평균\n",
        "df4 = df2.copy()\n",
        "df4[\"ewma\"] = df4[\"value\"].ewm(10).mean()\n",
        "plt.plot(df4[\"value\"])\n",
        "plt.plot(df4[\"ewma\"])\n",
        "plt.show()"
      ],
      "metadata": {
        "id": "JLwA9Na6bmlf",
        "colab": {
          "base_uri": "https://localhost:8080/",
          "height": 430
        },
        "outputId": "7b762432-681c-4d25-fd50-ae32866718b0"
      },
      "execution_count": null,
      "outputs": [
        {
          "output_type": "display_data",
          "data": {
            "text/plain": [
              "<Figure size 640x480 with 1 Axes>"
            ],
            "image/png": "[encoded data removed]"
          },
          "metadata": {}
        }
      ]
    },
    {
      "cell_type": "markdown",
      "source": [
        "# Chapter3 데이터 분석"
      ],
      "metadata": {
        "id": "wicPLvt6c6Mz"
      }
    },
    {
      "cell_type": "markdown",
      "source": [
        "## 3.1 빅데이터 분석 과정"
      ],
      "metadata": {
        "id": "J5zelwQPc-FO"
      }
    },
    {
      "cell_type": "markdown",
      "source": [
        "### 3.1.1 빅데이터 분석과정의 이해"
      ],
      "metadata": {
        "id": "ONGFFuamdLIT"
      }
    },
    {
      "cell_type": "code",
      "source": [
        "import pandas as pd\n"
      ],
      "metadata": {
        "id": "Sxp0PCdQenca"
      },
      "execution_count": null,
      "outputs": []
    },
    {
      "cell_type": "markdown",
      "source": [
        "### 3.1.2 사이킷런 패키지"
      ],
      "metadata": {
        "id": "nojEcdJAdM6t"
      }
    },
    {
      "cell_type": "markdown",
      "source": [
        "### 3.1.3 분석모델 성능 평가 방법\n"
      ],
      "metadata": {
        "id": "4P8z7caZdM8-"
      }
    },
    {
      "cell_type": "markdown",
      "source": [
        "## 3.2 지도학습 - 분류"
      ],
      "metadata": {
        "id": "KbsPXf1xdDCU"
      }
    },
    {
      "cell_type": "markdown",
      "source": [
        "### 3.2.1 의사결정나무"
      ],
      "metadata": {
        "id": "wZf-VcKvdgMy"
      }
    },
    {
      "cell_type": "code",
      "source": [
        "import numpy as np\n",
        "import pandas as pd\n",
        "import sklearn\n",
        "\n",
        "from sklearn.tree import DecisionTreeClassifier\n",
        "from sklearn.model_selection import train_test_split\n",
        "\n",
        "df = pd.read_csv(\"/content/drive/MyDrive/bigdata_sample/titanic.csv\")"
      ],
      "metadata": {
        "id": "mMhPLLfZgELy"
      },
      "execution_count": null,
      "outputs": []
    },
    {
      "cell_type": "code",
      "source": [
        "df2 = df.copy()\n",
        "print(df2.info())"
      ],
      "metadata": {
        "id": "6DneJ6uNgVU4",
        "colab": {
          "base_uri": "https://localhost:8080/"
        },
        "outputId": "769e194b-c935-4cd3-bfa2-1edaa8c745a8"
      },
      "execution_count": null,
      "outputs": [
        {
          "output_type": "stream",
          "name": "stdout",
          "text": [
            "<class 'pandas.core.frame.DataFrame'>\n",
            "RangeIndex: 891 entries, 0 to 890\n",
            "Data columns (total 12 columns):\n",
            " #   Column       Non-Null Count  Dtype  \n",
            "---  ------       --------------  -----  \n",
            " 0   PassengerId  891 non-null    int64  \n",
            " 1   Survived     891 non-null    int64  \n",
            " 2   Pclass       891 non-null    int64  \n",
            " 3   Name         891 non-null    object \n",
            " 4   Sex          891 non-null    object \n",
            " 5   Age          714 non-null    float64\n",
            " 6   SibSp        891 non-null    int64  \n",
            " 7   Parch        891 non-null    int64  \n",
            " 8   Ticket       891 non-null    object \n",
            " 9   Fare         891 non-null    float64\n",
            " 10  Cabin        204 non-null    object \n",
            " 11  Embarked     889 non-null    object \n",
            "dtypes: float64(2), int64(5), object(5)\n",
            "memory usage: 83.7+ KB\n",
            "None\n"
          ]
        }
      ]
    },
    {
      "cell_type": "code",
      "source": [
        "# 데이터 전처리\n",
        "df2 = df.copy()\n",
        "avg_age = df2[\"Age\"].mean()\n",
        "df2[\"Age\"] = df2[\"Age\"].fillna(avg_age)\n",
        "df2.drop(\"Cabin\", inplace= True, axis=1)\n",
        "df2[\"Embarked\"] = df2[\"Embarked\"].fillna(df2[\"Embarked\"].mode()[0])\n",
        "print(df2.info())\n",
        "\n",
        "from sklearn.preprocessing import LabelEncoder\n",
        "print(df2.describe(include='all'))\n",
        "\n",
        "# 레이블 인코딩 : 범주형 변수를 숫자형으로 변환\n",
        "df2[\"Sex\"] = LabelEncoder().fit_transform(df2[\"Sex\"])\n",
        "df2[\"Embarked\"] = LabelEncoder().fit_transform(df2[\"Embarked\"])\n",
        "print(df2.head(10))\n",
        "\n",
        "# 파생 변수 생성\n",
        "df2[\"FamilySize\"] = df2[\"SibSp\"]+df2[\"Parch\"]\n",
        "print(df2.info())"
      ],
      "metadata": {
        "id": "vXqJiZ2NguSr",
        "colab": {
          "base_uri": "https://localhost:8080/"
        },
        "outputId": "08a8912e-bc85-4803-ea75-7a966cf13a16"
      },
      "execution_count": null,
      "outputs": [
        {
          "output_type": "stream",
          "name": "stdout",
          "text": [
            "<class 'pandas.core.frame.DataFrame'>\n",
            "RangeIndex: 891 entries, 0 to 890\n",
            "Data columns (total 11 columns):\n",
            " #   Column       Non-Null Count  Dtype  \n",
            "---  ------       --------------  -----  \n",
            " 0   PassengerId  891 non-null    int64  \n",
            " 1   Survived     891 non-null    int64  \n",
            " 2   Pclass       891 non-null    int64  \n",
            " 3   Name         891 non-null    object \n",
            " 4   Sex          891 non-null    object \n",
            " 5   Age          891 non-null    float64\n",
            " 6   SibSp        891 non-null    int64  \n",
            " 7   Parch        891 non-null    int64  \n",
            " 8   Ticket       891 non-null    object \n",
            " 9   Fare         891 non-null    float64\n",
            " 10  Embarked     891 non-null    object \n",
            "dtypes: float64(2), int64(5), object(4)\n",
            "memory usage: 76.7+ KB\n",
            "None\n",
            "        PassengerId    Survived      Pclass                     Name   Sex  \\\n",
            "count    891.000000  891.000000  891.000000                      891   891   \n",
            "unique          NaN         NaN         NaN                      891     2   \n",
            "top             NaN         NaN         NaN  Braund, Mr. Owen Harris  male   \n",
            "freq            NaN         NaN         NaN                        1   577   \n",
            "mean     446.000000    0.383838    2.308642                      NaN   NaN   \n",
            "std      257.353842    0.486592    0.836071                      NaN   NaN   \n",
            "min        1.000000    0.000000    1.000000                      NaN   NaN   \n",
            "25%      223.500000    0.000000    2.000000                      NaN   NaN   \n",
            "50%      446.000000    0.000000    3.000000                      NaN   NaN   \n",
            "75%      668.500000    1.000000    3.000000                      NaN   NaN   \n",
            "max      891.000000    1.000000    3.000000                      NaN   NaN   \n",
            "\n",
            "               Age       SibSp       Parch  Ticket        Fare Embarked  \n",
            "count   891.000000  891.000000  891.000000     891  891.000000      891  \n",
            "unique         NaN         NaN         NaN     681         NaN        3  \n",
            "top            NaN         NaN         NaN  347082         NaN        S  \n",
            "freq           NaN         NaN         NaN       7         NaN      646  \n",
            "mean     29.699118    0.523008    0.381594     NaN   32.204208      NaN  \n",
            "std      13.002015    1.102743    0.806057     NaN   49.693429      NaN  \n",
            "min       0.420000    0.000000    0.000000     NaN    0.000000      NaN  \n",
            "25%      22.000000    0.000000    0.000000     NaN    7.910400      NaN  \n",
            "50%      29.699118    0.000000    0.000000     NaN   14.454200      NaN  \n",
            "75%      35.000000    1.000000    0.000000     NaN   31.000000      NaN  \n",
            "max      80.000000    8.000000    6.000000     NaN  512.329200      NaN  \n",
            "   PassengerId  Survived  Pclass  \\\n",
            "0            1         0       3   \n",
            "1            2         1       1   \n",
            "2            3         1       3   \n",
            "3            4         1       1   \n",
            "4            5         0       3   \n",
            "5            6         0       3   \n",
            "6            7         0       1   \n",
            "7            8         0       3   \n",
            "8            9         1       3   \n",
            "9           10         1       2   \n",
            "\n",
            "                                                Name  Sex        Age  SibSp  \\\n",
            "0                            Braund, Mr. Owen Harris    1  22.000000      1   \n",
            "1  Cumings, Mrs. John Bradley (Florence Briggs Th...    0  38.000000      1   \n",
            "2                             Heikkinen, Miss. Laina    0  26.000000      0   \n",
            "3       Futrelle, Mrs. Jacques Heath (Lily May Peel)    0  35.000000      1   \n",
            "4                           Allen, Mr. William Henry    1  35.000000      0   \n",
            "5                                   Moran, Mr. James    1  29.699118      0   \n",
            "6                            McCarthy, Mr. Timothy J    1  54.000000      0   \n",
            "7                     Palsson, Master. Gosta Leonard    1   2.000000      3   \n",
            "8  Johnson, Mrs. Oscar W (Elisabeth Vilhelmina Berg)    0  27.000000      0   \n",
            "9                Nasser, Mrs. Nicholas (Adele Achem)    0  14.000000      1   \n",
            "\n",
            "   Parch            Ticket     Fare  Embarked  \n",
            "0      0         A/5 21171   7.2500         2  \n",
            "1      0          PC 17599  71.2833         0  \n",
            "2      0  STON/O2. 3101282   7.9250         2  \n",
            "3      0            113803  53.1000         2  \n",
            "4      0            373450   8.0500         2  \n",
            "5      0            330877   8.4583         1  \n",
            "6      0             17463  51.8625         2  \n",
            "7      1            349909  21.0750         2  \n",
            "8      2            347742  11.1333         2  \n",
            "9      0            237736  30.0708         0  \n",
            "<class 'pandas.core.frame.DataFrame'>\n",
            "RangeIndex: 891 entries, 0 to 890\n",
            "Data columns (total 12 columns):\n",
            " #   Column       Non-Null Count  Dtype  \n",
            "---  ------       --------------  -----  \n",
            " 0   PassengerId  891 non-null    int64  \n",
            " 1   Survived     891 non-null    int64  \n",
            " 2   Pclass       891 non-null    int64  \n",
            " 3   Name         891 non-null    object \n",
            " 4   Sex          891 non-null    int64  \n",
            " 5   Age          891 non-null    float64\n",
            " 6   SibSp        891 non-null    int64  \n",
            " 7   Parch        891 non-null    int64  \n",
            " 8   Ticket       891 non-null    object \n",
            " 9   Fare         891 non-null    float64\n",
            " 10  Embarked     891 non-null    int64  \n",
            " 11  FamilySize   891 non-null    int64  \n",
            "dtypes: float64(2), int64(8), object(2)\n",
            "memory usage: 83.7+ KB\n",
            "None\n"
          ]
        }
      ]
    },
    {
      "cell_type": "code",
      "source": [
        "# 분석용 데이터 셋 준비\n",
        "df3 = df2.copy()\n",
        "x = df3[[\"Pclass\",\"Sex\",\"Age\",\"Fare\",\"Embarked\",\"FamilySize\"]]\n",
        "y = df3[\"Survived\"]\n",
        "\n",
        "# 학습 / 테스트 데이터 분할\n",
        "x_train, x_test, y_train, y_test = train_test_split(x,y, test_size=0.2 , random_state=11)\n",
        "print(x_train.shape, x_test.shape, y_train.shape, y_test.shape)\n"
      ],
      "metadata": {
        "id": "sw00dW-1izxN",
        "colab": {
          "base_uri": "https://localhost:8080/"
        },
        "outputId": "b519848d-6022-42f7-90e1-0ef493cc5ca5"
      },
      "execution_count": null,
      "outputs": [
        {
          "output_type": "stream",
          "name": "stdout",
          "text": [
            "(712, 6) (179, 6) (712,) (179,)\n"
          ]
        }
      ]
    },
    {
      "cell_type": "code",
      "source": [
        "# 데이터 분석\n",
        "dt=DecisionTreeClassifier(random_state=11)\n",
        "dt.fit(x_train, y_train)\n",
        "\n",
        "pred = dt.predict(x_test)\n",
        "\n",
        "# 성능 평가\n",
        "from sklearn.metrics import accuracy_score\n",
        "acc = accuracy_score(y_test, pred)\n",
        "print(acc)"
      ],
      "metadata": {
        "id": "wgEXWDkejxex",
        "colab": {
          "base_uri": "https://localhost:8080/"
        },
        "outputId": "4040cf17-dc32-4c98-a89b-7dff207b753e"
      },
      "execution_count": null,
      "outputs": [
        {
          "output_type": "stream",
          "name": "stdout",
          "text": [
            "0.7877094972067039\n"
          ]
        }
      ]
    },
    {
      "cell_type": "markdown",
      "source": [
        "### 3.2.2 KNN"
      ],
      "metadata": {
        "id": "Nc8L_vuYdjmG"
      }
    },
    {
      "cell_type": "code",
      "source": [
        "import pandas as pd\n",
        "import numpy as np\n",
        "\n",
        "df = pd.read_csv(\"/content/drive/MyDrive/bigdata_sample/iris.csv\")"
      ],
      "metadata": {
        "id": "35zX8jYEsatw"
      },
      "execution_count": null,
      "outputs": []
    },
    {
      "cell_type": "code",
      "source": [
        "# 데이터 탐색\n",
        "df2 = df.copy()\n",
        "print(df2.head())\n",
        "print(df2.info())\n",
        "print(df2.describe(include=\"all\"))"
      ],
      "metadata": {
        "id": "X-umvCJZsrP5",
        "colab": {
          "base_uri": "https://localhost:8080/"
        },
        "outputId": "30aa82b3-784c-444b-97ae-5f92bbae4f59"
      },
      "execution_count": null,
      "outputs": [
        {
          "output_type": "stream",
          "name": "stdout",
          "text": [
            "   sepal_length  sepal_width  petal_length  petal_width species\n",
            "0           5.1          3.5           1.4          0.2  setosa\n",
            "1           4.9          3.0           1.4          0.2  setosa\n",
            "2           4.7          3.2           1.3          0.2  setosa\n",
            "3           4.6          3.1           1.5          0.2  setosa\n",
            "4           5.0          3.6           1.4          0.2  setosa\n",
            "<class 'pandas.core.frame.DataFrame'>\n",
            "RangeIndex: 150 entries, 0 to 149\n",
            "Data columns (total 5 columns):\n",
            " #   Column        Non-Null Count  Dtype  \n",
            "---  ------        --------------  -----  \n",
            " 0   sepal_length  150 non-null    float64\n",
            " 1   sepal_width   150 non-null    float64\n",
            " 2   petal_length  150 non-null    float64\n",
            " 3   petal_width   150 non-null    float64\n",
            " 4   species       150 non-null    object \n",
            "dtypes: float64(4), object(1)\n",
            "memory usage: 6.0+ KB\n",
            "None\n",
            "        sepal_length  sepal_width  petal_length  petal_width species\n",
            "count     150.000000   150.000000    150.000000   150.000000     150\n",
            "unique           NaN          NaN           NaN          NaN       3\n",
            "top              NaN          NaN           NaN          NaN  setosa\n",
            "freq             NaN          NaN           NaN          NaN      50\n",
            "mean        5.843333     3.057333      3.758000     1.199333     NaN\n",
            "std         0.828066     0.435866      1.765298     0.762238     NaN\n",
            "min         4.300000     2.000000      1.000000     0.100000     NaN\n",
            "25%         5.100000     2.800000      1.600000     0.300000     NaN\n",
            "50%         5.800000     3.000000      4.350000     1.300000     NaN\n",
            "75%         6.400000     3.300000      5.100000     1.800000     NaN\n",
            "max         7.900000     4.400000      6.900000     2.500000     NaN\n"
          ]
        }
      ]
    },
    {
      "cell_type": "code",
      "source": [
        "from sklearn.preprocessing import MinMaxScaler\n",
        "\n",
        "# 데이터 전처리\n",
        "minmax = MinMaxScaler()\n",
        "df2[\"sepal_length\"] = minmax.fit_transform(df2[[\"sepal_length\"]])\n",
        "df2[\"sepal_width\"] = minmax.fit_transform(df2[[\"sepal_width\"]])\n",
        "df2[\"petal_length\"] = minmax.fit_transform(df2[[\"petal_length\"]])\n",
        "df2[\"petal_width\"] = minmax.fit_transform(df2[[\"petal_width\"]])\n",
        "\n",
        "print(df2)"
      ],
      "metadata": {
        "id": "10RkjlD3s16h",
        "colab": {
          "base_uri": "https://localhost:8080/"
        },
        "outputId": "cc1ead74-63d5-4a1c-acd5-eb7af52ece33"
      },
      "execution_count": null,
      "outputs": [
        {
          "output_type": "stream",
          "name": "stdout",
          "text": [
            "     sepal_length  sepal_width  petal_length  petal_width    species\n",
            "0        0.222222     0.625000      0.067797     0.041667     setosa\n",
            "1        0.166667     0.416667      0.067797     0.041667     setosa\n",
            "2        0.111111     0.500000      0.050847     0.041667     setosa\n",
            "3        0.083333     0.458333      0.084746     0.041667     setosa\n",
            "4        0.194444     0.666667      0.067797     0.041667     setosa\n",
            "..            ...          ...           ...          ...        ...\n",
            "145      0.666667     0.416667      0.711864     0.916667  virginica\n",
            "146      0.555556     0.208333      0.677966     0.750000  virginica\n",
            "147      0.611111     0.416667      0.711864     0.791667  virginica\n",
            "148      0.527778     0.583333      0.745763     0.916667  virginica\n",
            "149      0.444444     0.416667      0.694915     0.708333  virginica\n",
            "\n",
            "[150 rows x 5 columns]\n"
          ]
        }
      ]
    },
    {
      "cell_type": "code",
      "source": [
        "# 데이터 셋 준비\n",
        "df3 = df2.copy()\n",
        "x = df3[[\"sepal_length\", \"sepal_width\", \"petal_length\", \"petal_width\"]]\n",
        "y = df3[\"species\"]\n",
        "\n",
        "# 데이터 분할\n",
        "from sklearn.model_selection import train_test_split\n",
        "x_train, x_test, y_train, y_test = train_test_split(x, y, test_size=0.2, random_state=11)\n",
        "print(x_train.shape, x_test.shape, y_train.shape, y_test.shape)"
      ],
      "metadata": {
        "id": "0BoMtdo9wLbL",
        "colab": {
          "base_uri": "https://localhost:8080/"
        },
        "outputId": "c2b73437-87b8-4283-d3b2-c10a0ba3f1dc"
      },
      "execution_count": null,
      "outputs": [
        {
          "output_type": "stream",
          "name": "stdout",
          "text": [
            "(120, 4) (30, 4) (120,) (30,)\n"
          ]
        }
      ]
    },
    {
      "cell_type": "code",
      "source": [
        "from sklearn.neighbors import KNeighborsClassifier\n",
        "\n",
        "# 분석\n",
        "knn = KNeighborsClassifier(n_neighbors=3) # n_neighbors값이 달라짐에 따라 성능 달라짐 조정\n",
        "knn.fit(x_train, y_train)\n",
        "pred = knn.predict(x_test)\n",
        "\n",
        "# 성능 측정\n",
        "from sklearn.metrics import accuracy_score\n",
        "acc = accuracy_score(y_test, pred)\n",
        "print(acc)\n"
      ],
      "metadata": {
        "id": "aPpkZwE0xkYS",
        "colab": {
          "base_uri": "https://localhost:8080/"
        },
        "outputId": "7e20d75c-063e-4fad-9089-2514aa61afb8"
      },
      "execution_count": null,
      "outputs": [
        {
          "output_type": "stream",
          "name": "stdout",
          "text": [
            "0.9333333333333333\n"
          ]
        }
      ]
    },
    {
      "cell_type": "code",
      "source": [
        "import pandas as pd\n",
        "import numpy as np\n",
        "\n",
        "df = pd.read_csv(\"/content/drive/MyDrive/bigdata_sample/titanic.csv\")\n",
        "# print(df.head(5))\n",
        "# print(df.info())\n",
        "# print(df.describe(include='all'))\n",
        "\n",
        "df[\"Age\"].fillna(df[\"Age\"].mean(), inplace=True)\n",
        "df.drop(\"Cabin\", axis=1, inplace=True)\n",
        "df[\"Embarked\"].fillna(df[\"Embarked\"].mode()[0], inplace=True)\n",
        "df[\"FamilySize\"] = df[\"SibSp\"] + df[\"Parch\"]\n",
        "\n",
        "from sklearn.preprocessing import LabelEncoder\n",
        "le = LabelEncoder()\n",
        "df[\"Sex\"]=le.fit_transform(df[\"Sex\"])\n",
        "df[\"Embarked\"] = le.fit_transform(df[\"Embarked\"])\n",
        "# print(df.groupby(\"Sex\").size())\n",
        "# print(df.groupby(\"Embarked\").size())\n",
        "\n",
        "# 수기변환\n",
        "# df[\"Sex\"]= df[\"Sex\"].replace(\"female\",1)\n",
        "# df[\"Sex\"]= df[\"Sex\"].replace(\"male\",2)\n",
        "# df[\"Embarked\"]= df[\"Embarked\"].replace(\"C\",1)\n",
        "# df[\"Embarked\"]= df[\"Embarked\"].replace(\"Q\",2)\n",
        "# df[\"Embarked\"]= df[\"Embarked\"].replace(\"S\",3)\n",
        "# print(df.groupby(\"Sex\").size())\n",
        "# print(df.groupby(\"Embarked\").size())\n",
        "\n",
        "from sklearn.model_selection import train_test_split\n",
        "y = df[\"Survived\"]\n",
        "x = df[[\"Pclass\",\"Sex\",\"Age\",\"Fare\",\"Embarked\",\"FamilySize\"]]\n",
        "\n",
        "x_train, x_test, y_train, y_test = train_test_split(x, y, test_size=0.2, random_state=11)\n",
        "print(x_train.shape,x_test.shape,y_train.shape,y_test.shape)\n",
        "from sklearn.neighbors import KNeighborsClassifier\n",
        "knn = KNeighborsClassifier(n_neighbors=15)\n",
        "knn.fit(x_train, y_train)\n",
        "pred = knn.predict(x_test)\n",
        "\n",
        "\n",
        "from sklearn.metrics import accuracy_score\n",
        "acc = accuracy_score(y_test,pred)\n",
        "print(acc)\n",
        "\n",
        "from sklearn.metrics import classification_report\n",
        "rpt = classification_report(y_test, pred)\n",
        "print(rpt)\n",
        "\n",
        "from sklearn.metrics import confusion_matrix\n",
        "mat = confusion_matrix(y_test,pred)\n",
        "print(mat)\n"
      ],
      "metadata": {
        "id": "vRHqM1xI1V_m",
        "colab": {
          "base_uri": "https://localhost:8080/"
        },
        "outputId": "3b70a41a-3695-4782-a300-d7c6de311463"
      },
      "execution_count": null,
      "outputs": [
        {
          "output_type": "stream",
          "name": "stdout",
          "text": [
            "(712, 6) (179, 6) (712,) (179,)\n",
            "0.7430167597765364\n",
            "              precision    recall  f1-score   support\n",
            "\n",
            "           0       0.78      0.86      0.81       118\n",
            "           1       0.65      0.52      0.58        61\n",
            "\n",
            "    accuracy                           0.74       179\n",
            "   macro avg       0.71      0.69      0.70       179\n",
            "weighted avg       0.73      0.74      0.74       179\n",
            "\n",
            "[[101  17]\n",
            " [ 29  32]]\n"
          ]
        }
      ]
    },
    {
      "cell_type": "markdown",
      "source": [
        "### 3.2.3 SVM\n"
      ],
      "metadata": {
        "id": "RLp_D6GxdlgA"
      }
    },
    {
      "cell_type": "code",
      "source": [
        "import pandas as pd\n",
        "\n",
        "df = pd.read_csv(\"/content/drive/MyDrive/bigdata_sample/titanic.csv\")\n"
      ],
      "metadata": {
        "id": "UxGRNviRKQy0"
      },
      "execution_count": null,
      "outputs": []
    },
    {
      "cell_type": "code",
      "source": [
        "# 데이터 탐색\n",
        "df2 = df.copy()\n",
        "# print(df.info())\n",
        "# print(df.describe(include=\"all\"))\n",
        "\n",
        "# 전처리\n",
        "df2[\"Age\"] = df2[\"Age\"].fillna(df2[\"Age\"].mean())\n",
        "df2[\"Embarked\"] = df2[\"Embarked\"].fillna(df2[\"Embarked\"].mode()[0])\n",
        "df2.drop(\"Cabin\", axis=1,inplace=True)\n",
        "df2[\"FamilySize\"] = df2[\"SibSp\"] + df2[\"Parch\"]\n",
        "\n",
        "print(df2.info())"
      ],
      "metadata": {
        "id": "bOT87ESNKa3a",
        "colab": {
          "base_uri": "https://localhost:8080/"
        },
        "outputId": "5899fc84-3fc0-4042-abff-f3d4368d72b6"
      },
      "execution_count": null,
      "outputs": [
        {
          "output_type": "stream",
          "name": "stdout",
          "text": [
            "<class 'pandas.core.frame.DataFrame'>\n",
            "RangeIndex: 891 entries, 0 to 890\n",
            "Data columns (total 12 columns):\n",
            " #   Column       Non-Null Count  Dtype  \n",
            "---  ------       --------------  -----  \n",
            " 0   PassengerId  891 non-null    int64  \n",
            " 1   Survived     891 non-null    int64  \n",
            " 2   Pclass       891 non-null    int64  \n",
            " 3   Name         891 non-null    object \n",
            " 4   Sex          891 non-null    object \n",
            " 5   Age          891 non-null    float64\n",
            " 6   SibSp        891 non-null    int64  \n",
            " 7   Parch        891 non-null    int64  \n",
            " 8   Ticket       891 non-null    object \n",
            " 9   Fare         891 non-null    float64\n",
            " 10  Embarked     891 non-null    object \n",
            " 11  FamilySize   891 non-null    int64  \n",
            "dtypes: float64(2), int64(6), object(4)\n",
            "memory usage: 83.7+ KB\n",
            "None\n"
          ]
        }
      ]
    },
    {
      "cell_type": "code",
      "source": [
        "# one-hot encoding\n",
        "onehot_sex = pd.get_dummies(df2[\"Sex\"])\n",
        "onehot_embarked = pd.get_dummies(df2[\"Embarked\"])\n",
        "df3 = pd.concat([df2, onehot_sex, onehot_embarked], axis=1) # axis 조심\n",
        "print(df3.info())\n"
      ],
      "metadata": {
        "id": "6r7kGqQDLlQR",
        "colab": {
          "base_uri": "https://localhost:8080/"
        },
        "outputId": "cbbaa017-8cca-4c14-8013-51c105cc55f7"
      },
      "execution_count": null,
      "outputs": [
        {
          "output_type": "stream",
          "name": "stdout",
          "text": [
            "<class 'pandas.core.frame.DataFrame'>\n",
            "RangeIndex: 891 entries, 0 to 890\n",
            "Data columns (total 17 columns):\n",
            " #   Column       Non-Null Count  Dtype  \n",
            "---  ------       --------------  -----  \n",
            " 0   PassengerId  891 non-null    int64  \n",
            " 1   Survived     891 non-null    int64  \n",
            " 2   Pclass       891 non-null    int64  \n",
            " 3   Name         891 non-null    object \n",
            " 4   Sex          891 non-null    object \n",
            " 5   Age          891 non-null    float64\n",
            " 6   SibSp        891 non-null    int64  \n",
            " 7   Parch        891 non-null    int64  \n",
            " 8   Ticket       891 non-null    object \n",
            " 9   Fare         891 non-null    float64\n",
            " 10  Embarked     891 non-null    object \n",
            " 11  FamilySize   891 non-null    int64  \n",
            " 12  female       891 non-null    uint8  \n",
            " 13  male         891 non-null    uint8  \n",
            " 14  C            891 non-null    uint8  \n",
            " 15  Q            891 non-null    uint8  \n",
            " 16  S            891 non-null    uint8  \n",
            "dtypes: float64(2), int64(6), object(4), uint8(5)\n",
            "memory usage: 88.0+ KB\n",
            "None\n"
          ]
        }
      ]
    },
    {
      "cell_type": "code",
      "source": [
        "# 분석 데이터셋 준비\n",
        "from sklearn.model_selection import train_test_split\n",
        "y = df3[\"Survived\"]\n",
        "x = df3[[\"Pclass\", \"Age\", \"Fare\", \"FamilySize\", \"female\", \"male\", \"C\", \"Q\", \"S\"]]\n",
        "\n",
        "x_train, x_test, y_train, y_test = train_test_split(x, y,test_size=0.3, random_state=10)\n",
        "print(x_train.shape, x_test.shape, y_train.shape, y_test.shape)"
      ],
      "metadata": {
        "id": "CQG0VBQRMUSW",
        "colab": {
          "base_uri": "https://localhost:8080/"
        },
        "outputId": "9c324893-3de7-4e6a-a421-454bac2d0ddc"
      },
      "execution_count": null,
      "outputs": [
        {
          "output_type": "stream",
          "name": "stdout",
          "text": [
            "(623, 9) (268, 9) (623,) (268,)\n"
          ]
        }
      ]
    },
    {
      "cell_type": "code",
      "source": [
        "# 분석\n",
        "from sklearn.svm import SVC\n",
        "svm = SVC()\n",
        "svm.fit(x_train,y_train)\n",
        "pred = svm.predict(x_test)\n",
        "\n",
        "from sklearn.metrics import accuracy_score, confusion_matrix, classification_report\n",
        "acc = accuracy_score(y_test, pred)\n",
        "mat = confusion_matrix(y_test, pred)\n",
        "rep = classification_report(y_test, pred)\n",
        "print(acc)\n",
        "print(mat)\n",
        "print(rep)\n",
        "\n"
      ],
      "metadata": {
        "id": "5T8SEsfdK_l1",
        "colab": {
          "base_uri": "https://localhost:8080/"
        },
        "outputId": "68c5833e-a55e-42f9-ba97-35a79227422b"
      },
      "execution_count": null,
      "outputs": [
        {
          "output_type": "stream",
          "name": "stdout",
          "text": [
            "0.7238805970149254\n",
            "[[167   7]\n",
            " [ 67  27]]\n",
            "              precision    recall  f1-score   support\n",
            "\n",
            "           0       0.71      0.96      0.82       174\n",
            "           1       0.79      0.29      0.42        94\n",
            "\n",
            "    accuracy                           0.72       268\n",
            "   macro avg       0.75      0.62      0.62       268\n",
            "weighted avg       0.74      0.72      0.68       268\n",
            "\n"
          ]
        }
      ]
    },
    {
      "cell_type": "code",
      "source": [
        "import pandas as pd\n",
        "from sklearn.model_selection import train_test_split\n",
        "from sklearn.svm import SVC\n",
        "from sklearn.metrics import accuracy_score, confusion_matrix, classification_report\n",
        "\n",
        "def svm_test(kerner, c, gamma):\n",
        "  df2 = pd.read_csv(\"/content/drive/MyDrive/bigdata_sample/titanic.csv\")\n",
        "\n",
        "  # 전처리\n",
        "  df2[\"Age\"] = df2[\"Age\"].fillna(df2[\"Age\"].mean())\n",
        "  df2[\"Embarked\"] = df2[\"Embarked\"].fillna(df2[\"Embarked\"].mode()[0])\n",
        "  df2.drop(\"Cabin\", axis=1,inplace=True)\n",
        "  df2[\"FamilySize\"] = df2[\"SibSp\"] + df2[\"Parch\"]\n",
        "\n",
        "  # one-hot encoding\n",
        "  onehot_sex = pd.get_dummies(df2[\"Sex\"])\n",
        "  onehot_embarked = pd.get_dummies(df2[\"Embarked\"])\n",
        "  df3 = pd.concat([df2, onehot_sex, onehot_embarked], axis=1) # axis 조심\n",
        "\n",
        "  # 분석 데이터셋 준비\n",
        "  y = df3[\"Survived\"]\n",
        "  x = df3[[\"Pclass\", \"Age\", \"Fare\", \"FamilySize\", \"female\", \"male\", \"C\", \"Q\", \"S\"]]\n",
        "\n",
        "  x_train, x_test, y_train, y_test = train_test_split(x, y,test_size=0.3, random_state=10)\n",
        "\n",
        "  # 분석\n",
        "  svm = SVC(kernel=kerner, C=c, gamma=gamma)\n",
        "  svm.fit(x_train,y_train)\n",
        "  pred = svm.predict(x_test)\n",
        "  acc = accuracy_score(y_test, pred)\n",
        "  mat = confusion_matrix(y_test, pred)\n",
        "  rep = classification_report(y_test, pred)\n",
        "  print(rep)\n",
        "\n",
        "\n",
        "svm_test('rbf', 1, 0.1)\n"
      ],
      "metadata": {
        "id": "eVK0fkdUP9Ha",
        "colab": {
          "base_uri": "https://localhost:8080/"
        },
        "outputId": "82e355f9-13b7-4256-d55e-1e93f2952616"
      },
      "execution_count": null,
      "outputs": [
        {
          "output_type": "stream",
          "name": "stdout",
          "text": [
            "              precision    recall  f1-score   support\n",
            "\n",
            "           0       0.74      0.80      0.77       174\n",
            "           1       0.57      0.48      0.52        94\n",
            "\n",
            "    accuracy                           0.69       268\n",
            "   macro avg       0.66      0.64      0.65       268\n",
            "weighted avg       0.68      0.69      0.68       268\n",
            "\n"
          ]
        }
      ]
    },
    {
      "cell_type": "markdown",
      "source": [
        "### 3.2.4 로지스틱 회귀"
      ],
      "metadata": {
        "id": "pb7DsJaxdnKy"
      }
    },
    {
      "cell_type": "code",
      "source": [
        "import pandas as pd\n",
        "from sklearn.model_selection import train_test_split\n",
        "df= pd.read_csv(\"/content/drive/MyDrive/bigdata_sample/iris.csv\")\n",
        "\n",
        "\n",
        "# 로지스틱 회귀이므로 전처리 정규화 필요??\n",
        "from sklearn.preprocessing import MinMaxScaler\n",
        "mx = MinMaxScaler()\n",
        "df[\"sepal_length\"] = mx.fit_transform(df[[\"sepal_length\"]])\n",
        "df[\"sepal_width\"] = mx.fit_transform(df[[\"sepal_width\"]])\n",
        "df[\"petal_length\"] = mx.fit_transform(df[[\"petal_length\"]])\n",
        "df[\"petal_width\"] = mx.fit_transform(df[[\"petal_width\"]])\n",
        "\n",
        "# print(df.info())\n",
        "y = df[\"species\"]\n",
        "x = df[[\"sepal_length\", \"sepal_width\", \"petal_length\", \"petal_width\"]]\n",
        "x_train, x_test, y_train, y_test = train_test_split(x, y, test_size=0.2, random_state=11)\n",
        "# print(x_train.shape, x_test.shape)\n",
        "\n",
        "import sklearn\n",
        "from sklearn.linear_model import LogisticRegression\n",
        "lg = LogisticRegression()\n",
        "lg.fit(x_train, y_train)\n",
        "pred = lg.predict(x_test)\n",
        "\n",
        "from sklearn.metrics import classification_report, accuracy_score\n",
        "rpt = classification_report(y_test, pred)\n",
        "acc = accuracy_score(y_test,pred)\n",
        "print(acc)\n",
        "print(rpt)"
      ],
      "metadata": {
        "id": "7xQrGil1Rkea",
        "colab": {
          "base_uri": "https://localhost:8080/"
        },
        "outputId": "a1d3bb65-61a4-46cc-848b-b0bf3abe90aa"
      },
      "execution_count": null,
      "outputs": [
        {
          "output_type": "stream",
          "name": "stdout",
          "text": [
            "0.8333333333333334\n",
            "              precision    recall  f1-score   support\n",
            "\n",
            "      setosa       1.00      1.00      1.00         9\n",
            "  versicolor       0.78      0.70      0.74        10\n",
            "   virginica       0.75      0.82      0.78        11\n",
            "\n",
            "    accuracy                           0.83        30\n",
            "   macro avg       0.84      0.84      0.84        30\n",
            "weighted avg       0.83      0.83      0.83        30\n",
            "\n"
          ]
        }
      ]
    },
    {
      "cell_type": "markdown",
      "source": [
        "### 3.2.5 랜덤 포레스트"
      ],
      "metadata": {
        "id": "YoBIrogudpGf"
      }
    },
    {
      "cell_type": "code",
      "source": [
        "import sklearn\n",
        "import pandas as pd\n",
        "\n",
        "df = pd.read_csv(\"/content/drive/MyDrive/bigdata_sample/titanic.csv\")\n",
        "\n",
        "df.drop(\"Cabin\", axis=1, inplace = True)\n",
        "df[\"Age\"].fillna(df[\"Age\"].mean(),inplace=True)\n",
        "df[\"Embarked\"].fillna(df[\"Embarked\"].mode()[0], inplace=True)\n",
        "df[\"FamilySize\"] = df[\"SibSp\"] + df[\"Parch\"]\n",
        "\n",
        "from sklearn.preprocessing import LabelEncoder\n",
        "le = LabelEncoder()\n",
        "df[\"Sex\"] = le.fit_transform(df[\"Sex\"])\n",
        "df[\"Embarked\"] = le.fit_transform(df[\"Embarked\"])\n",
        "\n",
        "y=df[\"Survived\"]\n",
        "x=df[[\"Pclass\",\"Sex\",\"Age\",\"Fare\",\"Embarked\",\"FamilySize\"]]\n",
        "\n",
        "from sklearn.model_selection import train_test_split\n",
        "x_train, x_test, y_train, y_test = train_test_split(x, y, test_size=0.2, random_state=11)\n",
        "\n",
        "\n",
        "\n",
        "from sklearn.ensemble import RandomForestClassifier\n",
        "rf = RandomForestClassifier(n_estimators=50, max_depth=3, random_state=20)\n",
        "rf.fit(x_train, y_train)\n",
        "pred = rf.predict(x_test)\n",
        "\n",
        "from sklearn.metrics import classification_report\n",
        "rpt = classification_report(y_test, pred)\n",
        "print(rpt)"
      ],
      "metadata": {
        "id": "CO_X7eTUVmir",
        "colab": {
          "base_uri": "https://localhost:8080/"
        },
        "outputId": "7ed91da2-6f28-4692-e99e-7e62fd3570b7"
      },
      "execution_count": null,
      "outputs": [
        {
          "output_type": "stream",
          "name": "stdout",
          "text": [
            "              precision    recall  f1-score   support\n",
            "\n",
            "           0       0.83      0.98      0.90       118\n",
            "           1       0.95      0.62      0.75        61\n",
            "\n",
            "    accuracy                           0.86       179\n",
            "   macro avg       0.89      0.80      0.83       179\n",
            "weighted avg       0.87      0.86      0.85       179\n",
            "\n"
          ]
        }
      ]
    },
    {
      "cell_type": "markdown",
      "source": [
        "## 3.3 지도학습 - 회귀(예측)"
      ],
      "metadata": {
        "id": "yobWuMnIdFC0"
      }
    },
    {
      "cell_type": "markdown",
      "source": [
        "### 3.3.1 단순 선형회귀"
      ],
      "metadata": {
        "id": "3AMh6X7YdrpZ"
      }
    },
    {
      "cell_type": "code",
      "source": [
        "import pandas as pd\n",
        "\n",
        "df = pd.read_csv(\"/content/drive/MyDrive/bigdata_sample/auto-mpg.csv\")\n",
        "\n",
        "print(df.head(5))\n",
        "print(df.info())\n",
        "print(df.describe(include=\"all\"))"
      ],
      "metadata": {
        "id": "KvsX2AzZZbKj",
        "colab": {
          "base_uri": "https://localhost:8080/"
        },
        "outputId": "d6fd18c4-3004-4238-f5be-475002585e3e"
      },
      "execution_count": null,
      "outputs": [
        {
          "output_type": "stream",
          "name": "stdout",
          "text": [
            "    mpg  cylinders  displacement  horsepower  weight  acceleration  model-year\n",
            "0  18.0          8         307.0       130.0    3504          12.0          70\n",
            "1  15.0          8         350.0       165.0    3693          11.5          70\n",
            "2  18.0          8         318.0       150.0    3436          11.0          70\n",
            "3  16.0          8         304.0       150.0    3433          12.0          70\n",
            "4  17.0          8         302.0       140.0    3449          10.5          70\n",
            "<class 'pandas.core.frame.DataFrame'>\n",
            "RangeIndex: 398 entries, 0 to 397\n",
            "Data columns (total 7 columns):\n",
            " #   Column        Non-Null Count  Dtype  \n",
            "---  ------        --------------  -----  \n",
            " 0   mpg           398 non-null    float64\n",
            " 1   cylinders     398 non-null    int64  \n",
            " 2   displacement  398 non-null    float64\n",
            " 3   horsepower    396 non-null    float64\n",
            " 4   weight        398 non-null    int64  \n",
            " 5   acceleration  398 non-null    float64\n",
            " 6   model-year    398 non-null    int64  \n",
            "dtypes: float64(4), int64(3)\n",
            "memory usage: 21.9 KB\n",
            "None\n",
            "              mpg   cylinders  displacement  horsepower       weight  \\\n",
            "count  398.000000  398.000000    398.000000  396.000000   398.000000   \n",
            "mean    23.514573    5.454774    193.425879  104.189394  2970.424623   \n",
            "std      7.815984    1.701004    104.269838   38.402030   846.841774   \n",
            "min      9.000000    3.000000     68.000000   46.000000  1613.000000   \n",
            "25%     17.500000    4.000000    104.250000   75.000000  2223.750000   \n",
            "50%     23.000000    4.000000    148.500000   92.000000  2803.500000   \n",
            "75%     29.000000    8.000000    262.000000  125.000000  3608.000000   \n",
            "max     46.600000    8.000000    455.000000  230.000000  5140.000000   \n",
            "\n",
            "       acceleration  model-year  \n",
            "count    398.000000  398.000000  \n",
            "mean      15.568090   76.010050  \n",
            "std        2.757689    3.697627  \n",
            "min        8.000000   70.000000  \n",
            "25%       13.825000   73.000000  \n",
            "50%       15.500000   76.000000  \n",
            "75%       17.175000   79.000000  \n",
            "max       24.800000   82.000000  \n"
          ]
        }
      ]
    },
    {
      "cell_type": "code",
      "source": [
        "# 시각화\n",
        "import matplotlib.pyplot as plt\n",
        "\n",
        "df.plot(kind=\"scatter\", x=\"cylinders\", y=\"mpg\")\n",
        "df.plot(kind=\"scatter\", x=\"displacement\", y=\"mpg\")"
      ],
      "metadata": {
        "id": "9IXS7efNaeJM",
        "colab": {
          "base_uri": "https://localhost:8080/",
          "height": 899
        },
        "outputId": "6c91f495-561d-4bf2-f9b3-2c14ddb1f75c"
      },
      "execution_count": null,
      "outputs": [
        {
          "output_type": "execute_result",
          "data": {
            "text/plain": [
              "<Axes: xlabel='displacement', ylabel='mpg'>"
            ]
          },
          "metadata": {},
          "execution_count": 65
        },
        {
          "output_type": "display_data",
          "data": {
            "text/plain": [
              "<Figure size 640x480 with 1 Axes>"
            ],
            "image/png": "[encoded data removed]"
          },
          "metadata": {}
        },
        {
          "output_type": "display_data",
          "data": {
            "text/plain": [
              "<Figure size 640x480 with 1 Axes>"
            ],
            "image/png": "[encoded data removed]"
          },
          "metadata": {}
        }
      ]
    },
    {
      "cell_type": "code",
      "source": [
        "df2 = df.dropna(axis=0)\n",
        "y = df2[\"mpg\"]\n",
        "x = df2[[\"weight\"]]\n",
        "\n",
        "from sklearn.model_selection import train_test_split\n",
        "x_train, x_test, y_train, y_test = train_test_split(x,y, test_size=0.2, random_state=10)\n",
        "\n",
        "from sklearn.linear_model import LinearRegression\n",
        "lr = LinearRegression()\n",
        "lr.fit(x_train, y_train)\n",
        "pred = lr.predict(x_test)\n",
        "print(lr.coef_)\n",
        "print(lr.intercept_)\n",
        "\n",
        "\n",
        "# 성능 평가\n",
        "from sklearn.metrics import r2_score\n",
        "score = r2_score(y_test, pred)\n",
        "print(score)"
      ],
      "metadata": {
        "id": "ehUaebo0auN1",
        "colab": {
          "base_uri": "https://localhost:8080/"
        },
        "outputId": "cae991ac-37af-49ac-d3e7-13524255c064"
      },
      "execution_count": null,
      "outputs": [
        {
          "output_type": "stream",
          "name": "stdout",
          "text": [
            "[-0.00774371]\n",
            "46.62501834798047\n",
            "0.7015633872576372\n"
          ]
        }
      ]
    },
    {
      "cell_type": "markdown",
      "source": [
        "### 3.3.2 다중 선형회귀"
      ],
      "metadata": {
        "id": "Pq5BRyDhduMr"
      }
    },
    {
      "cell_type": "code",
      "source": [
        "import pandas as pd\n",
        "\n",
        "df = pd.read_csv(\"/content/drive/MyDrive/bigdata_sample/housing.csv\")\n",
        "\n",
        "print(df.info())\n",
        "print(df.describe(include=\"all\"))\n",
        "print(df.head(5))"
      ],
      "metadata": {
        "id": "scUe53y6dGUT",
        "colab": {
          "base_uri": "https://localhost:8080/"
        },
        "outputId": "c89f5187-308d-4e82-fded-00b65dcbbeef"
      },
      "execution_count": null,
      "outputs": [
        {
          "output_type": "stream",
          "name": "stdout",
          "text": [
            "<class 'pandas.core.frame.DataFrame'>\n",
            "RangeIndex: 20640 entries, 0 to 20639\n",
            "Data columns (total 10 columns):\n",
            " #   Column              Non-Null Count  Dtype  \n",
            "---  ------              --------------  -----  \n",
            " 0   longitude           20640 non-null  float64\n",
            " 1   latitude            20640 non-null  float64\n",
            " 2   housing_median_age  20640 non-null  float64\n",
            " 3   total_rooms         20640 non-null  float64\n",
            " 4   total_bedrooms      20433 non-null  float64\n",
            " 5   population          20640 non-null  float64\n",
            " 6   households          20640 non-null  float64\n",
            " 7   median_income       20640 non-null  float64\n",
            " 8   median_house_value  20640 non-null  float64\n",
            " 9   ocean_proximity     20640 non-null  object \n",
            "dtypes: float64(9), object(1)\n",
            "memory usage: 1.6+ MB\n",
            "None\n",
            "           longitude      latitude  housing_median_age   total_rooms  \\\n",
            "count   20640.000000  20640.000000        20640.000000  20640.000000   \n",
            "unique           NaN           NaN                 NaN           NaN   \n",
            "top              NaN           NaN                 NaN           NaN   \n",
            "freq             NaN           NaN                 NaN           NaN   \n",
            "mean     -119.569704     35.631861           28.639486   2635.763081   \n",
            "std         2.003532      2.135952           12.585558   2181.615252   \n",
            "min      -124.350000     32.540000            1.000000      2.000000   \n",
            "25%      -121.800000     33.930000           18.000000   1447.750000   \n",
            "50%      -118.490000     34.260000           29.000000   2127.000000   \n",
            "75%      -118.010000     37.710000           37.000000   3148.000000   \n",
            "max      -114.310000     41.950000           52.000000  39320.000000   \n",
            "\n",
            "        total_bedrooms    population    households  median_income  \\\n",
            "count     20433.000000  20640.000000  20640.000000   20640.000000   \n",
            "unique             NaN           NaN           NaN            NaN   \n",
            "top                NaN           NaN           NaN            NaN   \n",
            "freq               NaN           NaN           NaN            NaN   \n",
            "mean        537.870553   1425.476744    499.539680       3.870671   \n",
            "std         421.385070   1132.462122    382.329753       1.899822   \n",
            "min           1.000000      3.000000      1.000000       0.499900   \n",
            "25%         296.000000    787.000000    280.000000       2.563400   \n",
            "50%         435.000000   1166.000000    409.000000       3.534800   \n",
            "75%         647.000000   1725.000000    605.000000       4.743250   \n",
            "max        6445.000000  35682.000000   6082.000000      15.000100   \n",
            "\n",
            "        median_house_value ocean_proximity  \n",
            "count         20640.000000           20640  \n",
            "unique                 NaN               5  \n",
            "top                    NaN       <1H OCEAN  \n",
            "freq                   NaN            9136  \n",
            "mean         206855.816909             NaN  \n",
            "std          115395.615874             NaN  \n",
            "min           14999.000000             NaN  \n",
            "25%          119600.000000             NaN  \n",
            "50%          179700.000000             NaN  \n",
            "75%          264725.000000             NaN  \n",
            "max          500001.000000             NaN  \n",
            "   longitude  latitude  housing_median_age  total_rooms  total_bedrooms  \\\n",
            "0    -122.23     37.88                41.0        880.0           129.0   \n",
            "1    -122.22     37.86                21.0       7099.0          1106.0   \n",
            "2    -122.24     37.85                52.0       1467.0           190.0   \n",
            "3    -122.25     37.85                52.0       1274.0           235.0   \n",
            "4    -122.25     37.85                52.0       1627.0           280.0   \n",
            "\n",
            "   population  households  median_income  median_house_value ocean_proximity  \n",
            "0       322.0       126.0         8.3252            452600.0        NEAR BAY  \n",
            "1      2401.0      1138.0         8.3014            358500.0        NEAR BAY  \n",
            "2       496.0       177.0         7.2574            352100.0        NEAR BAY  \n",
            "3       558.0       219.0         5.6431            341300.0        NEAR BAY  \n",
            "4       565.0       259.0         3.8462            342200.0        NEAR BAY  \n"
          ]
        }
      ]
    },
    {
      "cell_type": "code",
      "source": [
        "df2 = df.copy()\n",
        "\n",
        "df2.dropna(axis=0, inplace=True)\n",
        "df2.drop(\"ocean_proximity\", axis=1, inplace=True)\n",
        "\n",
        "\n",
        "# 다중 회귀\n",
        "y_m = df2[\"median_house_value\"]\n",
        "x_m = df2.drop(\"median_house_value\", axis=1)\n",
        "# 단순 회귀\n",
        "y = df2[\"median_house_value\"]\n",
        "x = df2[[\"median_income\"]]\n",
        "\n",
        "from sklearn.model_selection import train_test_split\n",
        "x_train, x_test, y_train, y_test = train_test_split(x, y, test_size=0.3, random_state=42)\n",
        "x_train_m, x_test_m, y_train_m, y_test_m = train_test_split(x_m, y_m, test_size=0.3, random_state=42)\n",
        "\n",
        "\n",
        "from sklearn.linear_model import LinearRegression\n",
        "lr = LinearRegression()\n",
        "lr_m = LinearRegression()\n",
        "lr.fit(x_train, y_train)\n",
        "lr_m.fit(x_train_m, y_train_m)\n",
        "\n",
        "from sklearn.metrics import r2_score\n",
        "pred = lr.predict(x_test)\n",
        "pred_m = lr_m.predict(x_test_m)\n",
        "r2 = r2_score(y_test, pred)\n",
        "r2_m = r2_score(y_test_m, pred_m)\n",
        "print(r2, r2_m)\n",
        "\n"
      ],
      "metadata": {
        "id": "ZTRp4YKYecMU",
        "colab": {
          "base_uri": "https://localhost:8080/"
        },
        "outputId": "e841ac31-4f6e-4ef7-c0e0-bb77a1d65418"
      },
      "execution_count": null,
      "outputs": [
        {
          "output_type": "stream",
          "name": "stdout",
          "text": [
            "0.4761911795039645 0.6445130291082337\n"
          ]
        }
      ]
    },
    {
      "cell_type": "markdown",
      "source": [
        "### 3.3.3 의사결정나무"
      ],
      "metadata": {
        "id": "F2aMzNKadxMc"
      }
    },
    {
      "cell_type": "code",
      "source": [
        "import pandas as pd\n",
        "\n",
        "df = pd.read_csv(\"/content/drive/MyDrive/bigdata_sample/housing.csv\")\n",
        "df2 = df.copy()\n",
        "\n",
        "df2.dropna(axis=0, inplace=True)\n",
        "df2.drop(\"ocean_proximity\", axis=1, inplace=True)\n",
        "\n",
        "y = df2[\"median_house_value\"]\n",
        "x = df2.drop(\"median_house_value\", axis=1)\n",
        "\n",
        "from sklearn.model_selection import train_test_split\n",
        "x_train, x_test, y_train, y_test = train_test_split(x, y, test_size=0.3, random_state=42)\n",
        "\n",
        "from sklearn.tree import DecisionTreeRegressor\n",
        "dt = DecisionTreeRegressor(max_depth=3, random_state=42)\n",
        "dt.fit(x_train, y_train)\n",
        "pred = dt.predict(x_test)\n",
        "\n",
        "from sklearn.metrics import mean_squared_error\n",
        "mse = mean_squared_error(y_test, pred)\n",
        "print(mse)\n",
        "\n"
      ],
      "metadata": {
        "id": "efexgWxXkstg",
        "colab": {
          "base_uri": "https://localhost:8080/"
        },
        "outputId": "9aa340f4-6142-49f4-ff4e-7e8179bb140c"
      },
      "execution_count": null,
      "outputs": [
        {
          "output_type": "stream",
          "name": "stdout",
          "text": [
            "6793101269.876856\n"
          ]
        }
      ]
    },
    {
      "cell_type": "markdown",
      "source": [
        "### 3.3.4 랜덤 포레스트"
      ],
      "metadata": {
        "id": "iiI-vN-nd0E3"
      }
    },
    {
      "cell_type": "code",
      "source": [
        "import pandas as pd\n",
        "\n",
        "df = pd.read_csv(\"/content/drive/MyDrive/bigdata_sample/housing.csv\")\n",
        "df2 = df.copy()\n",
        "\n",
        "df2.dropna(axis=0, inplace=True)\n",
        "df2.drop(\"ocean_proximity\", axis=1, inplace=True)\n",
        "\n",
        "y = df2[\"median_house_value\"]\n",
        "x = df2.drop(\"median_house_value\", axis=1)\n",
        "\n",
        "from sklearn.model_selection import train_test_split\n",
        "x_train, x_test, y_train, y_test = train_test_split(x, y, test_size=0.3, random_state=42)\n",
        "\n",
        "from sklearn.ensemble import RandomForestRegressor\n",
        "rf = RandomForestRegressor(max_depth=3, random_state=42)\n",
        "rf.fit(x_train, y_train)\n",
        "pred = rf.predict(x_test)\n",
        "\n",
        "from sklearn.metrics import mean_squared_error\n",
        "mse = mean_squared_error(y_test, pred)\n",
        "print(mse)\n",
        "\n"
      ],
      "metadata": {
        "id": "lOnWWfSNmpny",
        "colab": {
          "base_uri": "https://localhost:8080/"
        },
        "outputId": "66b3b3a7-5b03-4737-c025-63dffaaa43ff"
      },
      "execution_count": null,
      "outputs": [
        {
          "output_type": "stream",
          "name": "stdout",
          "text": [
            "6447828605.376922\n"
          ]
        }
      ]
    },
    {
      "cell_type": "markdown",
      "source": [
        "## 3.4 비지도학습"
      ],
      "metadata": {
        "id": "Ohif3Cf8dILl"
      }
    },
    {
      "cell_type": "markdown",
      "source": [
        "### 3.4.1 군집분석 k-means"
      ],
      "metadata": {
        "id": "qC_HAKA6d2ZC"
      }
    },
    {
      "cell_type": "code",
      "source": [
        "import pandas as pd\n",
        "\n",
        "\n",
        "df=pd.read_csv(\"/content/drive/MyDrive/bigdata_sample/iris.csv\")\n"
      ],
      "metadata": {
        "id": "OhUp7i-0nyvt"
      },
      "execution_count": null,
      "outputs": []
    },
    {
      "cell_type": "code",
      "source": [
        "df2 = df.copy()\n",
        "from sklearn.preprocessing import LabelEncoder\n",
        "le = LabelEncoder()\n",
        "df2[\"species\"] = le.fit_transform(df2[\"species\"])\n",
        "\n",
        "# 시각화\n",
        "import seaborn as sns\n",
        "from matplotlib import pyplot as plt\n",
        "from mpl_toolkits.mplot3d import Axes3D\n",
        "from mpl_toolkits.mplot3d import proj3d\n",
        "\n",
        "# sns.pairplot(df, hue=\"species\")\n",
        "# plt.show()"
      ],
      "metadata": {
        "id": "8lGh3M_boLYg"
      },
      "execution_count": null,
      "outputs": []
    },
    {
      "cell_type": "code",
      "source": [
        "from sklearn.cluster import KMeans\n",
        "cluster1 = KMeans(n_clusters=3, n_init=10, max_iter=500, random_state=42)\n",
        "\n",
        "cluster1.fit(df2)\n",
        "\n",
        "cluster_center = cluster1.cluster_centers_\n",
        "cluster_prediction = cluster1.predict(df2)\n",
        "# print(pd.DataFrame(cluster_center))\n",
        "# print(cluster_prediction)\n",
        "\n",
        "df3 = df2.copy()\n",
        "df3[\"cluster\"] = cluster_prediction\n",
        "print(df3)\n"
      ],
      "metadata": {
        "id": "BEnEYNcRp37w",
        "colab": {
          "base_uri": "https://localhost:8080/"
        },
        "outputId": "6ba7eb27-5472-4d2a-f6de-83c9004fc4df"
      },
      "execution_count": null,
      "outputs": [
        {
          "output_type": "stream",
          "name": "stdout",
          "text": [
            "     sepal_length  sepal_width  petal_length  petal_width  species  cluster\n",
            "0             5.1          3.5           1.4          0.2        0        1\n",
            "1             4.9          3.0           1.4          0.2        0        1\n",
            "2             4.7          3.2           1.3          0.2        0        1\n",
            "3             4.6          3.1           1.5          0.2        0        1\n",
            "4             5.0          3.6           1.4          0.2        0        1\n",
            "..            ...          ...           ...          ...      ...      ...\n",
            "145           6.7          3.0           5.2          2.3        2        0\n",
            "146           6.3          2.5           5.0          1.9        2        0\n",
            "147           6.5          3.0           5.2          2.0        2        0\n",
            "148           6.2          3.4           5.4          2.3        2        0\n",
            "149           5.9          3.0           5.1          1.8        2        0\n",
            "\n",
            "[150 rows x 6 columns]\n"
          ]
        }
      ]
    },
    {
      "cell_type": "code",
      "source": [
        "# 성능 시각화\n",
        "scope =range(1,10)\n",
        "inertias =[] #각 군집별 오차제곱합\n",
        "for k in scope:\n",
        "  model = KMeans(n_clusters=k)\n",
        "  model.fit(df2)\n",
        "  inertias.append(model.inertia_)\n",
        "\n",
        "plt.figure(figsize=(4,4))\n",
        "plt.plot(scope, inertias, '-o')\n",
        "plt.xlabel('number of clusters, k')\n",
        "plt.ylabel('inertia')\n",
        "plt.show()"
      ],
      "metadata": {
        "id": "IPI-qhBSsBBr",
        "colab": {
          "base_uri": "https://localhost:8080/",
          "height": 731
        },
        "outputId": "5976953b-395e-4040-ae4b-4653e215615a"
      },
      "execution_count": null,
      "outputs": [
        {
          "output_type": "stream",
          "name": "stderr",
          "text": [
            "/usr/local/lib/python3.10/dist-packages/sklearn/cluster/_kmeans.py:870: FutureWarning: The default value of `n_init` will change from 10 to 'auto' in 1.4. Set the value of `n_init` explicitly to suppress the warning\n",
            "  warnings.warn(\n",
            "/usr/local/lib/python3.10/dist-packages/sklearn/cluster/_kmeans.py:870: FutureWarning: The default value of `n_init` will change from 10 to 'auto' in 1.4. Set the value of `n_init` explicitly to suppress the warning\n",
            "  warnings.warn(\n",
            "/usr/local/lib/python3.10/dist-packages/sklearn/cluster/_kmeans.py:870: FutureWarning: The default value of `n_init` will change from 10 to 'auto' in 1.4. Set the value of `n_init` explicitly to suppress the warning\n",
            "  warnings.warn(\n",
            "/usr/local/lib/python3.10/dist-packages/sklearn/cluster/_kmeans.py:870: FutureWarning: The default value of `n_init` will change from 10 to 'auto' in 1.4. Set the value of `n_init` explicitly to suppress the warning\n",
            "  warnings.warn(\n",
            "/usr/local/lib/python3.10/dist-packages/sklearn/cluster/_kmeans.py:870: FutureWarning: The default value of `n_init` will change from 10 to 'auto' in 1.4. Set the value of `n_init` explicitly to suppress the warning\n",
            "  warnings.warn(\n",
            "/usr/local/lib/python3.10/dist-packages/sklearn/cluster/_kmeans.py:870: FutureWarning: The default value of `n_init` will change from 10 to 'auto' in 1.4. Set the value of `n_init` explicitly to suppress the warning\n",
            "  warnings.warn(\n",
            "/usr/local/lib/python3.10/dist-packages/sklearn/cluster/_kmeans.py:870: FutureWarning: The default value of `n_init` will change from 10 to 'auto' in 1.4. Set the value of `n_init` explicitly to suppress the warning\n",
            "  warnings.warn(\n",
            "/usr/local/lib/python3.10/dist-packages/sklearn/cluster/_kmeans.py:870: FutureWarning: The default value of `n_init` will change from 10 to 'auto' in 1.4. Set the value of `n_init` explicitly to suppress the warning\n",
            "  warnings.warn(\n",
            "/usr/local/lib/python3.10/dist-packages/sklearn/cluster/_kmeans.py:870: FutureWarning: The default value of `n_init` will change from 10 to 'auto' in 1.4. Set the value of `n_init` explicitly to suppress the warning\n",
            "  warnings.warn(\n"
          ]
        },
        {
          "output_type": "display_data",
          "data": {
            "text/plain": [
              "<Figure size 400x400 with 1 Axes>"
            ],
            "image/png": "[encoded data removed]"
          },
          "metadata": {}
        }
      ]
    },
    {
      "cell_type": "markdown",
      "source": [
        "### 3.4.2 연관분석"
      ],
      "metadata": {
        "id": "kS3GvUzmd4tJ"
      }
    },
    {
      "cell_type": "code",
      "source": [
        "import sklearn.cluster\n",
        "\n",
        "# dir(sklearn)\n",
        "print(sklearn.__all__)\n",
        "# import sklearn.feature_selection\n",
        "# dir(sklearn.feature_selection)\n",
        "# print(sklearn.datasets.__all__)"
      ],
      "metadata": {
        "colab": {
          "base_uri": "https://localhost:8080/"
        },
        "id": "2nqAvQjestFP",
        "outputId": "5a6e6b94-2483-43e2-f0cc-660e6f6d4f61"
      },
      "execution_count": null,
      "outputs": [
        {
          "output_type": "stream",
          "name": "stdout",
          "text": [
            "['calibration', 'cluster', 'covariance', 'cross_decomposition', 'datasets', 'decomposition', 'dummy', 'ensemble', 'exceptions', 'experimental', 'externals', 'feature_extraction', 'feature_selection', 'gaussian_process', 'inspection', 'isotonic', 'kernel_approximation', 'kernel_ridge', 'linear_model', 'manifold', 'metrics', 'mixture', 'model_selection', 'multiclass', 'multioutput', 'naive_bayes', 'neighbors', 'neural_network', 'pipeline', 'preprocessing', 'random_projection', 'semi_supervised', 'svm', 'tree', 'discriminant_analysis', 'impute', 'compose', 'clone', 'get_config', 'set_config', 'config_context', 'show_versions']\n"
          ]
        }
      ]
    }
  ]
}